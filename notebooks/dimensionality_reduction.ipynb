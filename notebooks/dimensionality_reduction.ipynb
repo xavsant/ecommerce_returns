{
 "cells": [
  {
   "cell_type": "markdown",
   "id": "022a74d6-2e8e-4d49-9e24-b71ac5a30a1e",
   "metadata": {},
   "source": [
    "### Imports"
   ]
  },
  {
   "cell_type": "code",
   "execution_count": 53,
   "id": "a4e751de-12ed-4ff6-a387-5e6a1113a436",
   "metadata": {},
   "outputs": [],
   "source": [
    "# Import packages\n",
    "import pandas as pd\n",
    "import numpy as np"
   ]
  },
  {
   "cell_type": "code",
   "execution_count": 54,
   "id": "6a97e8f7-936e-4517-a25e-06cafbc2d0c6",
   "metadata": {},
   "outputs": [
    {
     "data": {
      "text/html": [
       "<div>\n",
       "<style scoped>\n",
       "    .dataframe tbody tr th:only-of-type {\n",
       "        vertical-align: middle;\n",
       "    }\n",
       "\n",
       "    .dataframe tbody tr th {\n",
       "        vertical-align: top;\n",
       "    }\n",
       "\n",
       "    .dataframe thead th {\n",
       "        text-align: right;\n",
       "    }\n",
       "</style>\n",
       "<table border=\"1\" class=\"dataframe\">\n",
       "  <thead>\n",
       "    <tr style=\"text-align: right;\">\n",
       "      <th></th>\n",
       "      <th>return</th>\n",
       "      <th>no_delivery</th>\n",
       "      <th>is_female</th>\n",
       "      <th>is_male</th>\n",
       "      <th>is_bday</th>\n",
       "      <th>most_returned_item</th>\n",
       "      <th>least_returned_item</th>\n",
       "      <th>most_returned_color</th>\n",
       "      <th>least_returned_color</th>\n",
       "      <th>log_item_price</th>\n",
       "      <th>...</th>\n",
       "      <th>item_size_l</th>\n",
       "      <th>item_size_m</th>\n",
       "      <th>item_size_s</th>\n",
       "      <th>item_size_unsized</th>\n",
       "      <th>item_size_xl</th>\n",
       "      <th>item_size_xs</th>\n",
       "      <th>item_size_xxl</th>\n",
       "      <th>item_size_xxxl</th>\n",
       "      <th>user_return_rate</th>\n",
       "      <th>brand_return_rate</th>\n",
       "    </tr>\n",
       "  </thead>\n",
       "  <tbody>\n",
       "    <tr>\n",
       "      <th>0</th>\n",
       "      <td>0</td>\n",
       "      <td>0</td>\n",
       "      <td>1</td>\n",
       "      <td>0</td>\n",
       "      <td>0</td>\n",
       "      <td>0</td>\n",
       "      <td>0</td>\n",
       "      <td>0</td>\n",
       "      <td>0</td>\n",
       "      <td>-0.090200</td>\n",
       "      <td>...</td>\n",
       "      <td>0</td>\n",
       "      <td>0</td>\n",
       "      <td>0</td>\n",
       "      <td>0</td>\n",
       "      <td>0</td>\n",
       "      <td>0</td>\n",
       "      <td>0</td>\n",
       "      <td>1</td>\n",
       "      <td>0.000000</td>\n",
       "      <td>0.361744</td>\n",
       "    </tr>\n",
       "    <tr>\n",
       "      <th>1</th>\n",
       "      <td>0</td>\n",
       "      <td>1</td>\n",
       "      <td>1</td>\n",
       "      <td>0</td>\n",
       "      <td>0</td>\n",
       "      <td>0</td>\n",
       "      <td>1</td>\n",
       "      <td>0</td>\n",
       "      <td>0</td>\n",
       "      <td>-1.274292</td>\n",
       "      <td>...</td>\n",
       "      <td>0</td>\n",
       "      <td>0</td>\n",
       "      <td>0</td>\n",
       "      <td>0</td>\n",
       "      <td>0</td>\n",
       "      <td>0</td>\n",
       "      <td>0</td>\n",
       "      <td>0</td>\n",
       "      <td>0.000000</td>\n",
       "      <td>0.361744</td>\n",
       "    </tr>\n",
       "    <tr>\n",
       "      <th>2</th>\n",
       "      <td>1</td>\n",
       "      <td>0</td>\n",
       "      <td>1</td>\n",
       "      <td>0</td>\n",
       "      <td>0</td>\n",
       "      <td>0</td>\n",
       "      <td>0</td>\n",
       "      <td>0</td>\n",
       "      <td>0</td>\n",
       "      <td>0.603400</td>\n",
       "      <td>...</td>\n",
       "      <td>0</td>\n",
       "      <td>0</td>\n",
       "      <td>0</td>\n",
       "      <td>0</td>\n",
       "      <td>0</td>\n",
       "      <td>0</td>\n",
       "      <td>1</td>\n",
       "      <td>0</td>\n",
       "      <td>0.615385</td>\n",
       "      <td>0.541545</td>\n",
       "    </tr>\n",
       "    <tr>\n",
       "      <th>3</th>\n",
       "      <td>0</td>\n",
       "      <td>0</td>\n",
       "      <td>1</td>\n",
       "      <td>0</td>\n",
       "      <td>0</td>\n",
       "      <td>1</td>\n",
       "      <td>0</td>\n",
       "      <td>0</td>\n",
       "      <td>0</td>\n",
       "      <td>0.946548</td>\n",
       "      <td>...</td>\n",
       "      <td>0</td>\n",
       "      <td>0</td>\n",
       "      <td>0</td>\n",
       "      <td>0</td>\n",
       "      <td>0</td>\n",
       "      <td>0</td>\n",
       "      <td>1</td>\n",
       "      <td>0</td>\n",
       "      <td>0.615385</td>\n",
       "      <td>0.541545</td>\n",
       "    </tr>\n",
       "    <tr>\n",
       "      <th>4</th>\n",
       "      <td>1</td>\n",
       "      <td>0</td>\n",
       "      <td>1</td>\n",
       "      <td>0</td>\n",
       "      <td>0</td>\n",
       "      <td>0</td>\n",
       "      <td>0</td>\n",
       "      <td>0</td>\n",
       "      <td>0</td>\n",
       "      <td>-1.589747</td>\n",
       "      <td>...</td>\n",
       "      <td>0</td>\n",
       "      <td>0</td>\n",
       "      <td>0</td>\n",
       "      <td>0</td>\n",
       "      <td>0</td>\n",
       "      <td>0</td>\n",
       "      <td>1</td>\n",
       "      <td>0</td>\n",
       "      <td>0.615385</td>\n",
       "      <td>0.370151</td>\n",
       "    </tr>\n",
       "  </tbody>\n",
       "</table>\n",
       "<p>5 rows × 40 columns</p>\n",
       "</div>"
      ],
      "text/plain": [
       "   return  no_delivery  is_female  is_male  is_bday  most_returned_item  \\\n",
       "0       0            0          1        0        0                   0   \n",
       "1       0            1          1        0        0                   0   \n",
       "2       1            0          1        0        0                   0   \n",
       "3       0            0          1        0        0                   1   \n",
       "4       1            0          1        0        0                   0   \n",
       "\n",
       "   least_returned_item  most_returned_color  least_returned_color  \\\n",
       "0                    0                    0                     0   \n",
       "1                    1                    0                     0   \n",
       "2                    0                    0                     0   \n",
       "3                    0                    0                     0   \n",
       "4                    0                    0                     0   \n",
       "\n",
       "   log_item_price  ...  item_size_l  item_size_m  item_size_s  \\\n",
       "0       -0.090200  ...            0            0            0   \n",
       "1       -1.274292  ...            0            0            0   \n",
       "2        0.603400  ...            0            0            0   \n",
       "3        0.946548  ...            0            0            0   \n",
       "4       -1.589747  ...            0            0            0   \n",
       "\n",
       "   item_size_unsized  item_size_xl  item_size_xs  item_size_xxl  \\\n",
       "0                  0             0             0              0   \n",
       "1                  0             0             0              0   \n",
       "2                  0             0             0              1   \n",
       "3                  0             0             0              1   \n",
       "4                  0             0             0              1   \n",
       "\n",
       "   item_size_xxxl  user_return_rate  brand_return_rate  \n",
       "0               1          0.000000           0.361744  \n",
       "1               0          0.000000           0.361744  \n",
       "2               0          0.615385           0.541545  \n",
       "3               0          0.615385           0.541545  \n",
       "4               0          0.615385           0.370151  \n",
       "\n",
       "[5 rows x 40 columns]"
      ]
     },
     "execution_count": 54,
     "metadata": {},
     "output_type": "execute_result"
    }
   ],
   "source": [
    "# Read in dataset\n",
    "df = pd.read_csv('Data/processed_df.csv')\n",
    "df.head()"
   ]
  },
  {
   "cell_type": "markdown",
   "id": "75c014ca-5457-4db9-822f-6db0d6dc02a2",
   "metadata": {},
   "source": [
    "### Function for Comparison"
   ]
  },
  {
   "cell_type": "markdown",
   "id": "1a3249e3-5320-423d-9db0-bdb04fd4fc67",
   "metadata": {},
   "source": [
    "**Imports**"
   ]
  },
  {
   "cell_type": "code",
   "execution_count": 55,
   "id": "4b5a0fd2-ab91-4de5-a443-93e4b5e30db7",
   "metadata": {},
   "outputs": [],
   "source": [
    "# Standard Scaler\n",
    "from sklearn.preprocessing import StandardScaler\n",
    "\n",
    "# Train Test Split\n",
    "from sklearn.model_selection import train_test_split\n",
    "\n",
    "# XGBoost\n",
    "from xgboost.sklearn import XGBClassifier\n",
    "\n",
    "# Evaluation Metrics\n",
    "from sklearn.metrics import roc_auc_score, balanced_accuracy_score, precision_score, recall_score"
   ]
  },
  {
   "cell_type": "code",
   "execution_count": 56,
   "id": "e965c66c-77e9-45f3-9480-29ed23cfbda4",
   "metadata": {},
   "outputs": [],
   "source": [
    "# Set X and y\n",
    "X = df.drop('return', axis=1)\n",
    "y = df['return']\n",
    "\n",
    "# Scale X\n",
    "X_ss = StandardScaler().fit_transform(X)\n",
    "X_ss = pd.DataFrame(X_ss, columns=X.columns)"
   ]
  },
  {
   "cell_type": "markdown",
   "id": "82c3cb30-d749-42f5-9a52-9d3cd1c00b55",
   "metadata": {},
   "source": [
    "**Comparison Model (XGBoost)**\n",
    "\n",
    "Use the best model from modelling.ipynb to compare the effects of dimensionality reduction."
   ]
  },
  {
   "cell_type": "code",
   "execution_count": 59,
   "id": "7878604d-8b07-4509-8d9a-49bcdb53bf37",
   "metadata": {},
   "outputs": [],
   "source": [
    "param_grid = {\n",
    "    'n_estimators': 134,\n",
    "    'eta': 0.015,\n",
    "    'lambda': 0.00001,\n",
    "    'random_state': 42,\n",
    "    'objective': 'binary:logistic',\n",
    "    'booster': 'gblinear',\n",
    "    'eval_metric': 'auc'\n",
    "}"
   ]
  },
  {
   "cell_type": "code",
   "execution_count": 60,
   "id": "70693717-6ab8-4356-9e4b-5f9c37fb5999",
   "metadata": {},
   "outputs": [],
   "source": [
    "def xgb(X, y, param_grid, threshold=0.5):    \n",
    "    X_train, X_test, y_train, y_test = train_test_split(X, y, test_size=0.2, random_state=42)\n",
    "    \n",
    "    classifier = XGBClassifier(**param_grid)\n",
    "    classifier.fit(X_train, y_train)\n",
    "     \n",
    "    # Making predictions on the same data\n",
    "    y_pred_probs = classifier.predict_proba(X_test)[:, 1]\n",
    "    y_pred = (y_pred_probs > threshold).astype(int)\n",
    "\n",
    "    # Evaluating the model\n",
    "    auc = roc_auc_score(y_test, y_pred_probs)\n",
    "    accuracy = balanced_accuracy_score(y_test, y_pred)\n",
    "    precision = precision_score(y_test, y_pred)\n",
    "    recall = recall_score(y_test, y_pred)\n",
    "\n",
    "    print(f'AUC: {auc}')\n",
    "    print(f'Accuracy: {accuracy}')\n",
    "    print(f'Precision: {precision}')\n",
    "    print(f'Recall: {recall}')"
   ]
  },
  {
   "cell_type": "markdown",
   "id": "0ca96006-afeb-490f-ab0e-e3f9c71c8ec8",
   "metadata": {},
   "source": [
    "### Model without Dimensionality Reduction"
   ]
  },
  {
   "cell_type": "code",
   "execution_count": 61,
   "id": "7d868ceb-c171-45d3-a6c7-7f642e123430",
   "metadata": {},
   "outputs": [
    {
     "name": "stdout",
     "output_type": "stream",
     "text": [
      "AUC: 0.7677417195434493\n",
      "Accuracy: 0.6999611805690149\n",
      "Precision: 0.6452017764047113\n",
      "Recall: 0.7363375936535919\n"
     ]
    }
   ],
   "source": [
    "xgb(X, y, param_grid, threshold=0.49)"
   ]
  },
  {
   "cell_type": "markdown",
   "id": "3a8005d6-b6ae-44cb-9393-dd500886d0d4",
   "metadata": {},
   "source": [
    "### Principle Component Analysis (PCA)\n",
    "\n",
    "Linear Component-based Reduction"
   ]
  },
  {
   "cell_type": "code",
   "execution_count": 62,
   "id": "b99dcdb2-3273-4502-a930-fa27031a1121",
   "metadata": {},
   "outputs": [
    {
     "name": "stdout",
     "output_type": "stream",
     "text": [
      "[0.06175897 0.05148013 0.04539799 0.03115076 0.03096632 0.03012022\n",
      " 0.02956794]\n"
     ]
    }
   ],
   "source": [
    "from sklearn.decomposition import PCA\n",
    "\n",
    "pca = PCA(n_components=7, random_state=42)\n",
    "X_pca = pca.fit_transform(X_ss)\n",
    "\n",
    "print(pca.explained_variance_ratio_)"
   ]
  },
  {
   "cell_type": "code",
   "execution_count": 63,
   "id": "d3df7afc-06ad-4502-bc83-bf33fffab8b2",
   "metadata": {},
   "outputs": [
    {
     "name": "stdout",
     "output_type": "stream",
     "text": [
      "AUC: 0.7225629137424336\n",
      "Accuracy: 0.6568363107807313\n",
      "Precision: 0.6316331198536139\n",
      "Recall: 0.6085279858968708\n"
     ]
    }
   ],
   "source": [
    "xgb(X_pca, y, param_grid)"
   ]
  },
  {
   "cell_type": "markdown",
   "id": "5bbcca87-f0c1-4b52-a626-05430cd34a17",
   "metadata": {},
   "source": [
    "- We find that each component explains a sparse percent of the variance in the data.\n",
    "- However, with 12 components we are still able to get metrics with only slightly lower performance."
   ]
  },
  {
   "cell_type": "markdown",
   "id": "8a5b6487-841d-4617-b405-a79c5c3fb94c",
   "metadata": {},
   "source": [
    "### Independent Component Analysis (ICA)\n",
    "\n",
    "Non-linear Component-based Reduction"
   ]
  },
  {
   "cell_type": "code",
   "execution_count": 64,
   "id": "ee674fe7-29d2-4ce1-b8b6-825f01d08929",
   "metadata": {},
   "outputs": [
    {
     "data": {
      "text/plain": [
       "(99999, 7)"
      ]
     },
     "execution_count": 64,
     "metadata": {},
     "output_type": "execute_result"
    }
   ],
   "source": [
    "from sklearn.decomposition import FastICA\n",
    "\n",
    "transformer = FastICA(n_components=7, random_state=42, whiten='unit-variance', max_iter=500)\n",
    "\n",
    "X_fica = transformer.fit_transform(X_ss)\n",
    "X_fica.shape"
   ]
  },
  {
   "cell_type": "code",
   "execution_count": 65,
   "id": "56758a77-7d50-47fb-9579-439962ef789c",
   "metadata": {},
   "outputs": [
    {
     "name": "stdout",
     "output_type": "stream",
     "text": [
      "AUC: 0.7346542617699692\n",
      "Accuracy: 0.6678067336180146\n",
      "Precision: 0.6378013713780137\n",
      "Recall: 0.6354120758043191\n"
     ]
    }
   ],
   "source": [
    "xgb(X_fica, y, param_grid)"
   ]
  },
  {
   "cell_type": "markdown",
   "id": "1d85e0ad-7705-4b21-86d4-f2134572e45f",
   "metadata": {},
   "source": [
    "With less than half the components we are able to get metrics with at more similar performance to before reduction, compared to PCA."
   ]
  },
  {
   "cell_type": "markdown",
   "id": "37f5fed8-427e-4731-8566-faa934b213c7",
   "metadata": {},
   "source": [
    "###  Uniform Manifold Approximation and Projection (UMAP)\n",
    "\n",
    "https://pair-code.github.io/understanding-umap/"
   ]
  },
  {
   "cell_type": "code",
   "execution_count": 66,
   "id": "85170ccd-59cf-4315-9d56-61f469a420bd",
   "metadata": {},
   "outputs": [
    {
     "data": {
      "text/plain": [
       "(99999, 7)"
      ]
     },
     "execution_count": 66,
     "metadata": {},
     "output_type": "execute_result"
    }
   ],
   "source": [
    "import umap\n",
    "\n",
    "reducer = umap.UMAP(n_neighbors=15, min_dist=0.1, n_components=7, init='spectral', n_jobs=1, metric='euclidean', n_epochs=200, random_state=42)\n",
    "X_umap = reducer.fit_transform(X_ss)\n",
    "X_umap.shape"
   ]
  },
  {
   "cell_type": "code",
   "execution_count": 67,
   "id": "1dfccfbd-89ac-4518-861c-e4d5f4f22f6a",
   "metadata": {},
   "outputs": [
    {
     "name": "stdout",
     "output_type": "stream",
     "text": [
      "AUC: 0.5121532565879665\n",
      "Accuracy: 0.5\n",
      "Precision: 0.0\n",
      "Recall: 0.0\n"
     ]
    },
    {
     "name": "stderr",
     "output_type": "stream",
     "text": [
      "/Users/xaviersan/miniconda3/envs/dmba/lib/python3.11/site-packages/sklearn/metrics/_classification.py:1344: UndefinedMetricWarning: Precision is ill-defined and being set to 0.0 due to no predicted samples. Use `zero_division` parameter to control this behavior.\n",
      "  _warn_prf(average, modifier, msg_start, len(result))\n"
     ]
    }
   ],
   "source": [
    "xgb(X_umap, y, param_grid)"
   ]
  },
  {
   "cell_type": "markdown",
   "id": "116ab999-37d3-4b89-aa64-7a6604ba1826",
   "metadata": {},
   "source": [
    "It appears that the data might be too clustered to effectively apply umap."
   ]
  },
  {
   "cell_type": "markdown",
   "id": "3fbb19a7-d3fb-4111-a66f-77121786a6f9",
   "metadata": {},
   "source": [
    "### Conclusion\n",
    "\n",
    "Based on the current inputs, reducing the dimensions comes at an approximate 3% loss in accuracy and AUC. Overall, given the time taken to build the XGBoost model is quite fast, we opt for the original model. Given the complexity of this data set, the manual feature selection and extraction seemed to have resulted in a local optima (hopefully) - and any further reduction reduces accuracy of predictions."
   ]
  },
  {
   "cell_type": "markdown",
   "id": "5dbfdfb9-1e4f-443f-82cd-ca2cefc6a8cd",
   "metadata": {},
   "source": [
    "##### Export ICA-Reduced Dataset"
   ]
  },
  {
   "cell_type": "code",
   "execution_count": 68,
   "id": "a0ba7c7a-d41b-4e49-aea3-d257d015d123",
   "metadata": {},
   "outputs": [],
   "source": [
    "df = pd.concat([pd.DataFrame(X_fica), df[['return']]], axis=1)\n",
    "df.to_csv('Data/reduced_df.csv', index=False)"
   ]
  },
  {
   "cell_type": "code",
   "execution_count": null,
   "id": "d164016f-46e0-4d52-b27f-a19ab559583b",
   "metadata": {},
   "outputs": [],
   "source": []
  }
 ],
 "metadata": {
  "kernelspec": {
   "display_name": "Python 3 (ipykernel)",
   "language": "python",
   "name": "python3"
  },
  "language_info": {
   "codemirror_mode": {
    "name": "ipython",
    "version": 3
   },
   "file_extension": ".py",
   "mimetype": "text/x-python",
   "name": "python",
   "nbconvert_exporter": "python",
   "pygments_lexer": "ipython3",
   "version": "3.11.7"
  }
 },
 "nbformat": 4,
 "nbformat_minor": 5
}
