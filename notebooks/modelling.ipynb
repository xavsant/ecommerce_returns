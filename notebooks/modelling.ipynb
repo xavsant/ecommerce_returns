{
 "cells": [
  {
   "cell_type": "markdown",
   "id": "aa7ba484-11ff-46f8-affb-56f185a6fc94",
   "metadata": {},
   "source": [
    "### Import packages"
   ]
  },
  {
   "cell_type": "code",
   "execution_count": 36,
   "id": "cdfdc6d6",
   "metadata": {},
   "outputs": [],
   "source": [
    "# Basic Imports\n",
    "import pandas as pd\n",
    "import numpy as np \n",
    "\n",
    "# Models\n",
    "from sklearn.ensemble import RandomForestClassifier\n",
    "from sklearn import svm\n",
    "from sklearn.svm import LinearSVC\n",
    "from sklearn.linear_model import LogisticRegression\n",
    "import xgboost as xgb\n",
    "from xgboost.sklearn import XGBClassifier\n",
    "import tensorflow as tf\n",
    "from keras.models import Sequential\n",
    "from keras.layers import Dense\n",
    "import keras\n",
    "import itertools\n",
    "from sklearn.metrics import roc_auc_score\n",
    "from tensorflow.keras.models import Sequential\n",
    "from tensorflow.keras.layers import Dense\n",
    "\n",
    "import itertools\n",
    "import matplotlib.pyplot as plt\n",
    "from sklearn.model_selection import KFold\n",
    "from sklearn.model_selection import train_test_split\n",
    "from sklearn.metrics import roc_auc_score, balanced_accuracy_score, precision_score, recall_score, f1_score, classification_report\n",
    "from tqdm import tqdm\n",
    "from itertools import product\n",
    "\n",
    "from sklearn.metrics import accuracy_score, precision_score, recall_score, f1_score\n",
    "from sklearn.metrics import roc_curve, auc\n",
    "import matplotlib.pyplot as plt\n",
    "from sklearn.metrics import confusion_matrix\n",
    "import seaborn as sns"
   ]
  },
  {
   "cell_type": "code",
   "execution_count": 37,
   "id": "efb33694",
   "metadata": {},
   "outputs": [
    {
     "data": {
      "text/html": [
       "<div>\n",
       "<style scoped>\n",
       "    .dataframe tbody tr th:only-of-type {\n",
       "        vertical-align: middle;\n",
       "    }\n",
       "\n",
       "    .dataframe tbody tr th {\n",
       "        vertical-align: top;\n",
       "    }\n",
       "\n",
       "    .dataframe thead th {\n",
       "        text-align: right;\n",
       "    }\n",
       "</style>\n",
       "<table border=\"1\" class=\"dataframe\">\n",
       "  <thead>\n",
       "    <tr style=\"text-align: right;\">\n",
       "      <th></th>\n",
       "      <th>return</th>\n",
       "      <th>no_delivery</th>\n",
       "      <th>is_female</th>\n",
       "      <th>is_male</th>\n",
       "      <th>is_bday</th>\n",
       "      <th>most_returned_item</th>\n",
       "      <th>least_returned_item</th>\n",
       "      <th>most_returned_color</th>\n",
       "      <th>least_returned_color</th>\n",
       "      <th>log_item_price</th>\n",
       "      <th>...</th>\n",
       "      <th>item_size_l</th>\n",
       "      <th>item_size_m</th>\n",
       "      <th>item_size_s</th>\n",
       "      <th>item_size_unsized</th>\n",
       "      <th>item_size_xl</th>\n",
       "      <th>item_size_xs</th>\n",
       "      <th>item_size_xxl</th>\n",
       "      <th>item_size_xxxl</th>\n",
       "      <th>user_return_rate</th>\n",
       "      <th>brand_return_rate</th>\n",
       "    </tr>\n",
       "  </thead>\n",
       "  <tbody>\n",
       "    <tr>\n",
       "      <th>0</th>\n",
       "      <td>0</td>\n",
       "      <td>0</td>\n",
       "      <td>1</td>\n",
       "      <td>0</td>\n",
       "      <td>0</td>\n",
       "      <td>0</td>\n",
       "      <td>0</td>\n",
       "      <td>0</td>\n",
       "      <td>0</td>\n",
       "      <td>-0.090200</td>\n",
       "      <td>...</td>\n",
       "      <td>0</td>\n",
       "      <td>0</td>\n",
       "      <td>0</td>\n",
       "      <td>0</td>\n",
       "      <td>0</td>\n",
       "      <td>0</td>\n",
       "      <td>0</td>\n",
       "      <td>1</td>\n",
       "      <td>0.000000</td>\n",
       "      <td>0.361744</td>\n",
       "    </tr>\n",
       "    <tr>\n",
       "      <th>1</th>\n",
       "      <td>0</td>\n",
       "      <td>1</td>\n",
       "      <td>1</td>\n",
       "      <td>0</td>\n",
       "      <td>0</td>\n",
       "      <td>0</td>\n",
       "      <td>1</td>\n",
       "      <td>0</td>\n",
       "      <td>0</td>\n",
       "      <td>-1.274292</td>\n",
       "      <td>...</td>\n",
       "      <td>0</td>\n",
       "      <td>0</td>\n",
       "      <td>0</td>\n",
       "      <td>0</td>\n",
       "      <td>0</td>\n",
       "      <td>0</td>\n",
       "      <td>0</td>\n",
       "      <td>0</td>\n",
       "      <td>0.000000</td>\n",
       "      <td>0.361744</td>\n",
       "    </tr>\n",
       "    <tr>\n",
       "      <th>2</th>\n",
       "      <td>1</td>\n",
       "      <td>0</td>\n",
       "      <td>1</td>\n",
       "      <td>0</td>\n",
       "      <td>0</td>\n",
       "      <td>0</td>\n",
       "      <td>0</td>\n",
       "      <td>0</td>\n",
       "      <td>0</td>\n",
       "      <td>0.603400</td>\n",
       "      <td>...</td>\n",
       "      <td>0</td>\n",
       "      <td>0</td>\n",
       "      <td>0</td>\n",
       "      <td>0</td>\n",
       "      <td>0</td>\n",
       "      <td>0</td>\n",
       "      <td>1</td>\n",
       "      <td>0</td>\n",
       "      <td>0.615385</td>\n",
       "      <td>0.541545</td>\n",
       "    </tr>\n",
       "    <tr>\n",
       "      <th>3</th>\n",
       "      <td>0</td>\n",
       "      <td>0</td>\n",
       "      <td>1</td>\n",
       "      <td>0</td>\n",
       "      <td>0</td>\n",
       "      <td>1</td>\n",
       "      <td>0</td>\n",
       "      <td>0</td>\n",
       "      <td>0</td>\n",
       "      <td>0.946548</td>\n",
       "      <td>...</td>\n",
       "      <td>0</td>\n",
       "      <td>0</td>\n",
       "      <td>0</td>\n",
       "      <td>0</td>\n",
       "      <td>0</td>\n",
       "      <td>0</td>\n",
       "      <td>1</td>\n",
       "      <td>0</td>\n",
       "      <td>0.615385</td>\n",
       "      <td>0.541545</td>\n",
       "    </tr>\n",
       "    <tr>\n",
       "      <th>4</th>\n",
       "      <td>1</td>\n",
       "      <td>0</td>\n",
       "      <td>1</td>\n",
       "      <td>0</td>\n",
       "      <td>0</td>\n",
       "      <td>0</td>\n",
       "      <td>0</td>\n",
       "      <td>0</td>\n",
       "      <td>0</td>\n",
       "      <td>-1.589747</td>\n",
       "      <td>...</td>\n",
       "      <td>0</td>\n",
       "      <td>0</td>\n",
       "      <td>0</td>\n",
       "      <td>0</td>\n",
       "      <td>0</td>\n",
       "      <td>0</td>\n",
       "      <td>1</td>\n",
       "      <td>0</td>\n",
       "      <td>0.615385</td>\n",
       "      <td>0.370151</td>\n",
       "    </tr>\n",
       "  </tbody>\n",
       "</table>\n",
       "<p>5 rows × 40 columns</p>\n",
       "</div>"
      ],
      "text/plain": [
       "   return  no_delivery  is_female  is_male  is_bday  most_returned_item  \\\n",
       "0       0            0          1        0        0                   0   \n",
       "1       0            1          1        0        0                   0   \n",
       "2       1            0          1        0        0                   0   \n",
       "3       0            0          1        0        0                   1   \n",
       "4       1            0          1        0        0                   0   \n",
       "\n",
       "   least_returned_item  most_returned_color  least_returned_color  \\\n",
       "0                    0                    0                     0   \n",
       "1                    1                    0                     0   \n",
       "2                    0                    0                     0   \n",
       "3                    0                    0                     0   \n",
       "4                    0                    0                     0   \n",
       "\n",
       "   log_item_price  ...  item_size_l  item_size_m  item_size_s  \\\n",
       "0       -0.090200  ...            0            0            0   \n",
       "1       -1.274292  ...            0            0            0   \n",
       "2        0.603400  ...            0            0            0   \n",
       "3        0.946548  ...            0            0            0   \n",
       "4       -1.589747  ...            0            0            0   \n",
       "\n",
       "   item_size_unsized  item_size_xl  item_size_xs  item_size_xxl  \\\n",
       "0                  0             0             0              0   \n",
       "1                  0             0             0              0   \n",
       "2                  0             0             0              1   \n",
       "3                  0             0             0              1   \n",
       "4                  0             0             0              1   \n",
       "\n",
       "   item_size_xxxl  user_return_rate  brand_return_rate  \n",
       "0               1          0.000000           0.361744  \n",
       "1               0          0.000000           0.361744  \n",
       "2               0          0.615385           0.541545  \n",
       "3               0          0.615385           0.541545  \n",
       "4               0          0.615385           0.370151  \n",
       "\n",
       "[5 rows x 40 columns]"
      ]
     },
     "execution_count": 37,
     "metadata": {},
     "output_type": "execute_result"
    }
   ],
   "source": [
    "df = pd.read_csv('Data/processed_df.csv')\n",
    "cv = pd.read_csv('Data/cv_processed_df.csv')\n",
    "df.head()"
   ]
  },
  {
   "cell_type": "code",
   "execution_count": 38,
   "id": "41b52162-42a4-4ced-af5b-46fd501d8b04",
   "metadata": {},
   "outputs": [
    {
     "data": {
      "text/plain": [
       "Index(['return', 'no_delivery', 'is_female', 'is_male', 'is_bday',\n",
       "       'most_returned_item', 'least_returned_item', 'most_returned_color',\n",
       "       'least_returned_color', 'log_item_price', 'log_no_items', 'log_age',\n",
       "       'log_avg_freq_purchases', 'user_state_Baden-Wuerttemberg',\n",
       "       'user_state_Bavaria', 'user_state_Berlin', 'user_state_Brandenburg',\n",
       "       'user_state_Bremen', 'user_state_Hamburg', 'user_state_Hesse',\n",
       "       'user_state_Lower Saxony', 'user_state_Mecklenburg-Western Pomerania',\n",
       "       'user_state_North Rhine-Westphalia', 'user_state_Rhineland-Palatinate',\n",
       "       'user_state_Saarland', 'user_state_Saxony', 'user_state_Saxony-Anhalt',\n",
       "       'user_state_Schleswig-Holstein', 'user_state_Thuringia',\n",
       "       'item_size_child', 'item_size_l', 'item_size_m', 'item_size_s',\n",
       "       'item_size_unsized', 'item_size_xl', 'item_size_xs', 'item_size_xxl',\n",
       "       'item_size_xxxl', 'user_return_rate', 'brand_return_rate'],\n",
       "      dtype='object')"
      ]
     },
     "execution_count": 38,
     "metadata": {},
     "output_type": "execute_result"
    }
   ],
   "source": [
    "df.columns"
   ]
  },
  {
   "cell_type": "markdown",
   "id": "0c36283c-2f12-40a6-8500-36adc3313788",
   "metadata": {},
   "source": [
    "##### Cross Validation Preparation"
   ]
  },
  {
   "cell_type": "code",
   "execution_count": 39,
   "id": "202fce89-ce57-4131-a6d7-f63a9afe334c",
   "metadata": {},
   "outputs": [],
   "source": [
    "def prepare_kfold_data(X_train, y_train, k=5, default_fill_value=0.5):\n",
    "    \n",
    "    kf = KFold(n_splits=k, shuffle=True, random_state=42)\n",
    "    data_arrays = []\n",
    "\n",
    "    for train_index, val_index in kf.split(X_train):\n",
    "        # Step 1: Split data into train and validation folds\n",
    "        X_train_fold, X_val_fold = X_train.iloc[train_index], X_train.iloc[val_index]\n",
    "        y_train_fold, y_val_fold = y_train.iloc[train_index], y_train.iloc[val_index]\n",
    "        \n",
    "        # Step 2: Perform preprocessing on train fold\n",
    "        user_return_rates = X_train_fold.groupby('user_id')['return'].mean()\n",
    "        brand_return_rates = X_train_fold.groupby('brand_id')['return'].mean()\n",
    "        \n",
    "        X_train_fold['user_return_rate'] = X_train_fold['user_id'].map(user_return_rates)\n",
    "        X_train_fold['brand_return_rate'] = X_train_fold['brand_id'].map(brand_return_rates)\n",
    "        \n",
    "        # Step 3: Map values to validation fold\n",
    "        X_val_fold['user_return_rate'] = X_val_fold['user_id'].map(user_return_rates).fillna(default_fill_value)\n",
    "        X_val_fold['brand_return_rate'] = X_val_fold['brand_id'].map(brand_return_rates).fillna(default_fill_value)\n",
    "        \n",
    "        # Step 4: Drop unnecessary columns\n",
    "        X_train_fold.drop(['return', 'user_id', 'brand_id'], axis=1, inplace=True)\n",
    "        X_val_fold.drop(['return', 'user_id', 'brand_id'], axis=1, inplace=True)\n",
    "        \n",
    "        # Append data arrays\n",
    "        data_arrays.append((X_train_fold, y_train_fold, X_val_fold, y_val_fold))\n",
    "\n",
    "    return data_arrays"
   ]
  },
  {
   "cell_type": "code",
   "execution_count": 40,
   "id": "4b73394f-26ea-41ca-832d-8a8da8474dec",
   "metadata": {},
   "outputs": [
    {
     "name": "stderr",
     "output_type": "stream",
     "text": [
      "/var/folders/4f/3w_37fps2jl_9bqnhfpl8d8h0000gn/T/ipykernel_1125/32175107.py:15: SettingWithCopyWarning: \n",
      "A value is trying to be set on a copy of a slice from a DataFrame.\n",
      "Try using .loc[row_indexer,col_indexer] = value instead\n",
      "\n",
      "See the caveats in the documentation: https://pandas.pydata.org/pandas-docs/stable/user_guide/indexing.html#returning-a-view-versus-a-copy\n",
      "  X_train_fold['user_return_rate'] = X_train_fold['user_id'].map(user_return_rates)\n",
      "/var/folders/4f/3w_37fps2jl_9bqnhfpl8d8h0000gn/T/ipykernel_1125/32175107.py:16: SettingWithCopyWarning: \n",
      "A value is trying to be set on a copy of a slice from a DataFrame.\n",
      "Try using .loc[row_indexer,col_indexer] = value instead\n",
      "\n",
      "See the caveats in the documentation: https://pandas.pydata.org/pandas-docs/stable/user_guide/indexing.html#returning-a-view-versus-a-copy\n",
      "  X_train_fold['brand_return_rate'] = X_train_fold['brand_id'].map(brand_return_rates)\n",
      "/var/folders/4f/3w_37fps2jl_9bqnhfpl8d8h0000gn/T/ipykernel_1125/32175107.py:19: SettingWithCopyWarning: \n",
      "A value is trying to be set on a copy of a slice from a DataFrame.\n",
      "Try using .loc[row_indexer,col_indexer] = value instead\n",
      "\n",
      "See the caveats in the documentation: https://pandas.pydata.org/pandas-docs/stable/user_guide/indexing.html#returning-a-view-versus-a-copy\n",
      "  X_val_fold['user_return_rate'] = X_val_fold['user_id'].map(user_return_rates).fillna(default_fill_value)\n",
      "/var/folders/4f/3w_37fps2jl_9bqnhfpl8d8h0000gn/T/ipykernel_1125/32175107.py:20: SettingWithCopyWarning: \n",
      "A value is trying to be set on a copy of a slice from a DataFrame.\n",
      "Try using .loc[row_indexer,col_indexer] = value instead\n",
      "\n",
      "See the caveats in the documentation: https://pandas.pydata.org/pandas-docs/stable/user_guide/indexing.html#returning-a-view-versus-a-copy\n",
      "  X_val_fold['brand_return_rate'] = X_val_fold['brand_id'].map(brand_return_rates).fillna(default_fill_value)\n",
      "/var/folders/4f/3w_37fps2jl_9bqnhfpl8d8h0000gn/T/ipykernel_1125/32175107.py:23: SettingWithCopyWarning: \n",
      "A value is trying to be set on a copy of a slice from a DataFrame\n",
      "\n",
      "See the caveats in the documentation: https://pandas.pydata.org/pandas-docs/stable/user_guide/indexing.html#returning-a-view-versus-a-copy\n",
      "  X_train_fold.drop(['return', 'user_id', 'brand_id'], axis=1, inplace=True)\n",
      "/var/folders/4f/3w_37fps2jl_9bqnhfpl8d8h0000gn/T/ipykernel_1125/32175107.py:24: SettingWithCopyWarning: \n",
      "A value is trying to be set on a copy of a slice from a DataFrame\n",
      "\n",
      "See the caveats in the documentation: https://pandas.pydata.org/pandas-docs/stable/user_guide/indexing.html#returning-a-view-versus-a-copy\n",
      "  X_val_fold.drop(['return', 'user_id', 'brand_id'], axis=1, inplace=True)\n",
      "/var/folders/4f/3w_37fps2jl_9bqnhfpl8d8h0000gn/T/ipykernel_1125/32175107.py:15: SettingWithCopyWarning: \n",
      "A value is trying to be set on a copy of a slice from a DataFrame.\n",
      "Try using .loc[row_indexer,col_indexer] = value instead\n",
      "\n",
      "See the caveats in the documentation: https://pandas.pydata.org/pandas-docs/stable/user_guide/indexing.html#returning-a-view-versus-a-copy\n",
      "  X_train_fold['user_return_rate'] = X_train_fold['user_id'].map(user_return_rates)\n",
      "/var/folders/4f/3w_37fps2jl_9bqnhfpl8d8h0000gn/T/ipykernel_1125/32175107.py:16: SettingWithCopyWarning: \n",
      "A value is trying to be set on a copy of a slice from a DataFrame.\n",
      "Try using .loc[row_indexer,col_indexer] = value instead\n",
      "\n",
      "See the caveats in the documentation: https://pandas.pydata.org/pandas-docs/stable/user_guide/indexing.html#returning-a-view-versus-a-copy\n",
      "  X_train_fold['brand_return_rate'] = X_train_fold['brand_id'].map(brand_return_rates)\n",
      "/var/folders/4f/3w_37fps2jl_9bqnhfpl8d8h0000gn/T/ipykernel_1125/32175107.py:19: SettingWithCopyWarning: \n",
      "A value is trying to be set on a copy of a slice from a DataFrame.\n",
      "Try using .loc[row_indexer,col_indexer] = value instead\n",
      "\n",
      "See the caveats in the documentation: https://pandas.pydata.org/pandas-docs/stable/user_guide/indexing.html#returning-a-view-versus-a-copy\n",
      "  X_val_fold['user_return_rate'] = X_val_fold['user_id'].map(user_return_rates).fillna(default_fill_value)\n",
      "/var/folders/4f/3w_37fps2jl_9bqnhfpl8d8h0000gn/T/ipykernel_1125/32175107.py:20: SettingWithCopyWarning: \n",
      "A value is trying to be set on a copy of a slice from a DataFrame.\n",
      "Try using .loc[row_indexer,col_indexer] = value instead\n",
      "\n",
      "See the caveats in the documentation: https://pandas.pydata.org/pandas-docs/stable/user_guide/indexing.html#returning-a-view-versus-a-copy\n",
      "  X_val_fold['brand_return_rate'] = X_val_fold['brand_id'].map(brand_return_rates).fillna(default_fill_value)\n",
      "/var/folders/4f/3w_37fps2jl_9bqnhfpl8d8h0000gn/T/ipykernel_1125/32175107.py:23: SettingWithCopyWarning: \n",
      "A value is trying to be set on a copy of a slice from a DataFrame\n",
      "\n",
      "See the caveats in the documentation: https://pandas.pydata.org/pandas-docs/stable/user_guide/indexing.html#returning-a-view-versus-a-copy\n",
      "  X_train_fold.drop(['return', 'user_id', 'brand_id'], axis=1, inplace=True)\n",
      "/var/folders/4f/3w_37fps2jl_9bqnhfpl8d8h0000gn/T/ipykernel_1125/32175107.py:24: SettingWithCopyWarning: \n",
      "A value is trying to be set on a copy of a slice from a DataFrame\n",
      "\n",
      "See the caveats in the documentation: https://pandas.pydata.org/pandas-docs/stable/user_guide/indexing.html#returning-a-view-versus-a-copy\n",
      "  X_val_fold.drop(['return', 'user_id', 'brand_id'], axis=1, inplace=True)\n",
      "/var/folders/4f/3w_37fps2jl_9bqnhfpl8d8h0000gn/T/ipykernel_1125/32175107.py:15: SettingWithCopyWarning: \n",
      "A value is trying to be set on a copy of a slice from a DataFrame.\n",
      "Try using .loc[row_indexer,col_indexer] = value instead\n",
      "\n",
      "See the caveats in the documentation: https://pandas.pydata.org/pandas-docs/stable/user_guide/indexing.html#returning-a-view-versus-a-copy\n",
      "  X_train_fold['user_return_rate'] = X_train_fold['user_id'].map(user_return_rates)\n",
      "/var/folders/4f/3w_37fps2jl_9bqnhfpl8d8h0000gn/T/ipykernel_1125/32175107.py:16: SettingWithCopyWarning: \n",
      "A value is trying to be set on a copy of a slice from a DataFrame.\n",
      "Try using .loc[row_indexer,col_indexer] = value instead\n",
      "\n",
      "See the caveats in the documentation: https://pandas.pydata.org/pandas-docs/stable/user_guide/indexing.html#returning-a-view-versus-a-copy\n",
      "  X_train_fold['brand_return_rate'] = X_train_fold['brand_id'].map(brand_return_rates)\n",
      "/var/folders/4f/3w_37fps2jl_9bqnhfpl8d8h0000gn/T/ipykernel_1125/32175107.py:19: SettingWithCopyWarning: \n",
      "A value is trying to be set on a copy of a slice from a DataFrame.\n",
      "Try using .loc[row_indexer,col_indexer] = value instead\n",
      "\n",
      "See the caveats in the documentation: https://pandas.pydata.org/pandas-docs/stable/user_guide/indexing.html#returning-a-view-versus-a-copy\n",
      "  X_val_fold['user_return_rate'] = X_val_fold['user_id'].map(user_return_rates).fillna(default_fill_value)\n",
      "/var/folders/4f/3w_37fps2jl_9bqnhfpl8d8h0000gn/T/ipykernel_1125/32175107.py:20: SettingWithCopyWarning: \n",
      "A value is trying to be set on a copy of a slice from a DataFrame.\n",
      "Try using .loc[row_indexer,col_indexer] = value instead\n",
      "\n",
      "See the caveats in the documentation: https://pandas.pydata.org/pandas-docs/stable/user_guide/indexing.html#returning-a-view-versus-a-copy\n",
      "  X_val_fold['brand_return_rate'] = X_val_fold['brand_id'].map(brand_return_rates).fillna(default_fill_value)\n",
      "/var/folders/4f/3w_37fps2jl_9bqnhfpl8d8h0000gn/T/ipykernel_1125/32175107.py:23: SettingWithCopyWarning: \n",
      "A value is trying to be set on a copy of a slice from a DataFrame\n",
      "\n",
      "See the caveats in the documentation: https://pandas.pydata.org/pandas-docs/stable/user_guide/indexing.html#returning-a-view-versus-a-copy\n",
      "  X_train_fold.drop(['return', 'user_id', 'brand_id'], axis=1, inplace=True)\n",
      "/var/folders/4f/3w_37fps2jl_9bqnhfpl8d8h0000gn/T/ipykernel_1125/32175107.py:24: SettingWithCopyWarning: \n",
      "A value is trying to be set on a copy of a slice from a DataFrame\n",
      "\n",
      "See the caveats in the documentation: https://pandas.pydata.org/pandas-docs/stable/user_guide/indexing.html#returning-a-view-versus-a-copy\n",
      "  X_val_fold.drop(['return', 'user_id', 'brand_id'], axis=1, inplace=True)\n",
      "/var/folders/4f/3w_37fps2jl_9bqnhfpl8d8h0000gn/T/ipykernel_1125/32175107.py:15: SettingWithCopyWarning: \n",
      "A value is trying to be set on a copy of a slice from a DataFrame.\n",
      "Try using .loc[row_indexer,col_indexer] = value instead\n",
      "\n",
      "See the caveats in the documentation: https://pandas.pydata.org/pandas-docs/stable/user_guide/indexing.html#returning-a-view-versus-a-copy\n",
      "  X_train_fold['user_return_rate'] = X_train_fold['user_id'].map(user_return_rates)\n",
      "/var/folders/4f/3w_37fps2jl_9bqnhfpl8d8h0000gn/T/ipykernel_1125/32175107.py:16: SettingWithCopyWarning: \n",
      "A value is trying to be set on a copy of a slice from a DataFrame.\n",
      "Try using .loc[row_indexer,col_indexer] = value instead\n",
      "\n",
      "See the caveats in the documentation: https://pandas.pydata.org/pandas-docs/stable/user_guide/indexing.html#returning-a-view-versus-a-copy\n",
      "  X_train_fold['brand_return_rate'] = X_train_fold['brand_id'].map(brand_return_rates)\n",
      "/var/folders/4f/3w_37fps2jl_9bqnhfpl8d8h0000gn/T/ipykernel_1125/32175107.py:19: SettingWithCopyWarning: \n",
      "A value is trying to be set on a copy of a slice from a DataFrame.\n",
      "Try using .loc[row_indexer,col_indexer] = value instead\n",
      "\n",
      "See the caveats in the documentation: https://pandas.pydata.org/pandas-docs/stable/user_guide/indexing.html#returning-a-view-versus-a-copy\n",
      "  X_val_fold['user_return_rate'] = X_val_fold['user_id'].map(user_return_rates).fillna(default_fill_value)\n",
      "/var/folders/4f/3w_37fps2jl_9bqnhfpl8d8h0000gn/T/ipykernel_1125/32175107.py:20: SettingWithCopyWarning: \n",
      "A value is trying to be set on a copy of a slice from a DataFrame.\n",
      "Try using .loc[row_indexer,col_indexer] = value instead\n",
      "\n",
      "See the caveats in the documentation: https://pandas.pydata.org/pandas-docs/stable/user_guide/indexing.html#returning-a-view-versus-a-copy\n",
      "  X_val_fold['brand_return_rate'] = X_val_fold['brand_id'].map(brand_return_rates).fillna(default_fill_value)\n",
      "/var/folders/4f/3w_37fps2jl_9bqnhfpl8d8h0000gn/T/ipykernel_1125/32175107.py:23: SettingWithCopyWarning: \n",
      "A value is trying to be set on a copy of a slice from a DataFrame\n",
      "\n",
      "See the caveats in the documentation: https://pandas.pydata.org/pandas-docs/stable/user_guide/indexing.html#returning-a-view-versus-a-copy\n",
      "  X_train_fold.drop(['return', 'user_id', 'brand_id'], axis=1, inplace=True)\n",
      "/var/folders/4f/3w_37fps2jl_9bqnhfpl8d8h0000gn/T/ipykernel_1125/32175107.py:24: SettingWithCopyWarning: \n",
      "A value is trying to be set on a copy of a slice from a DataFrame\n",
      "\n",
      "See the caveats in the documentation: https://pandas.pydata.org/pandas-docs/stable/user_guide/indexing.html#returning-a-view-versus-a-copy\n",
      "  X_val_fold.drop(['return', 'user_id', 'brand_id'], axis=1, inplace=True)\n",
      "/var/folders/4f/3w_37fps2jl_9bqnhfpl8d8h0000gn/T/ipykernel_1125/32175107.py:15: SettingWithCopyWarning: \n",
      "A value is trying to be set on a copy of a slice from a DataFrame.\n",
      "Try using .loc[row_indexer,col_indexer] = value instead\n",
      "\n",
      "See the caveats in the documentation: https://pandas.pydata.org/pandas-docs/stable/user_guide/indexing.html#returning-a-view-versus-a-copy\n",
      "  X_train_fold['user_return_rate'] = X_train_fold['user_id'].map(user_return_rates)\n",
      "/var/folders/4f/3w_37fps2jl_9bqnhfpl8d8h0000gn/T/ipykernel_1125/32175107.py:16: SettingWithCopyWarning: \n",
      "A value is trying to be set on a copy of a slice from a DataFrame.\n",
      "Try using .loc[row_indexer,col_indexer] = value instead\n",
      "\n",
      "See the caveats in the documentation: https://pandas.pydata.org/pandas-docs/stable/user_guide/indexing.html#returning-a-view-versus-a-copy\n",
      "  X_train_fold['brand_return_rate'] = X_train_fold['brand_id'].map(brand_return_rates)\n",
      "/var/folders/4f/3w_37fps2jl_9bqnhfpl8d8h0000gn/T/ipykernel_1125/32175107.py:19: SettingWithCopyWarning: \n",
      "A value is trying to be set on a copy of a slice from a DataFrame.\n",
      "Try using .loc[row_indexer,col_indexer] = value instead\n",
      "\n",
      "See the caveats in the documentation: https://pandas.pydata.org/pandas-docs/stable/user_guide/indexing.html#returning-a-view-versus-a-copy\n",
      "  X_val_fold['user_return_rate'] = X_val_fold['user_id'].map(user_return_rates).fillna(default_fill_value)\n",
      "/var/folders/4f/3w_37fps2jl_9bqnhfpl8d8h0000gn/T/ipykernel_1125/32175107.py:20: SettingWithCopyWarning: \n",
      "A value is trying to be set on a copy of a slice from a DataFrame.\n",
      "Try using .loc[row_indexer,col_indexer] = value instead\n",
      "\n",
      "See the caveats in the documentation: https://pandas.pydata.org/pandas-docs/stable/user_guide/indexing.html#returning-a-view-versus-a-copy\n",
      "  X_val_fold['brand_return_rate'] = X_val_fold['brand_id'].map(brand_return_rates).fillna(default_fill_value)\n",
      "/var/folders/4f/3w_37fps2jl_9bqnhfpl8d8h0000gn/T/ipykernel_1125/32175107.py:23: SettingWithCopyWarning: \n",
      "A value is trying to be set on a copy of a slice from a DataFrame\n",
      "\n",
      "See the caveats in the documentation: https://pandas.pydata.org/pandas-docs/stable/user_guide/indexing.html#returning-a-view-versus-a-copy\n",
      "  X_train_fold.drop(['return', 'user_id', 'brand_id'], axis=1, inplace=True)\n",
      "/var/folders/4f/3w_37fps2jl_9bqnhfpl8d8h0000gn/T/ipykernel_1125/32175107.py:24: SettingWithCopyWarning: \n",
      "A value is trying to be set on a copy of a slice from a DataFrame\n",
      "\n",
      "See the caveats in the documentation: https://pandas.pydata.org/pandas-docs/stable/user_guide/indexing.html#returning-a-view-versus-a-copy\n",
      "  X_val_fold.drop(['return', 'user_id', 'brand_id'], axis=1, inplace=True)\n"
     ]
    }
   ],
   "source": [
    "# Create train test split for CV evaluation\n",
    "X = cv\n",
    "y = cv['return']\n",
    "\n",
    "X_train, X_test, y_train, y_test = train_test_split(X, y, test_size=0.2, random_state=42)\n",
    "\n",
    "# Get kfold data\n",
    "kfold_data = prepare_kfold_data(X_train, y_train, k=5, default_fill_value=0.5)"
   ]
  },
  {
   "cell_type": "code",
   "execution_count": 41,
   "id": "6539c190-0c4b-415c-9f63-3c3871063b98",
   "metadata": {},
   "outputs": [
    {
     "data": {
      "text/plain": [
       "(       no_delivery  is_female  is_male  is_bday  most_returned_item  \\\n",
       " 64470            0          1        0        0                   0   \n",
       " 45557            0          1        0        0                   0   \n",
       " 27614            0          1        0        0                   1   \n",
       " 13568            0          1        0        0                   0   \n",
       " 92726            1          1        0        0                   0   \n",
       " ...            ...        ...      ...      ...                 ...   \n",
       " 82386            0          1        0        0                   0   \n",
       " 6265             0          1        0        0                   1   \n",
       " 54886            0          1        0        0                   0   \n",
       " 860              0          1        0        0                   0   \n",
       " 15795            1          1        0        0                   0   \n",
       " \n",
       "        least_returned_item  most_returned_color  least_returned_color  \\\n",
       " 64470                    0                    0                     0   \n",
       " 45557                    0                    0                     0   \n",
       " 27614                    0                    0                     0   \n",
       " 13568                    0                    0                     0   \n",
       " 92726                    0                    0                     0   \n",
       " ...                    ...                  ...                   ...   \n",
       " 82386                    0                    0                     0   \n",
       " 6265                     0                    0                     0   \n",
       " 54886                    0                    0                     0   \n",
       " 860                      0                    0                     0   \n",
       " 15795                    1                    0                     0   \n",
       " \n",
       "        log_item_price  log_no_items  ...  item_size_l  item_size_m  \\\n",
       " 64470       -1.012997     -1.089406  ...            1            0   \n",
       " 45557       -0.784276      0.270723  ...            0            0   \n",
       " 27614       -0.784276     -0.587423  ...            0            0   \n",
       " 13568       -0.090200     -0.587423  ...            0            1   \n",
       " 92726       -1.457767      0.045001  ...            0            0   \n",
       " ...               ...           ...  ...          ...          ...   \n",
       " 82386        1.476795      1.128869  ...            0            0   \n",
       " 6265         0.173540      0.903147  ...            0            0   \n",
       " 54886        0.785284      1.227965  ...            0            0   \n",
       " 860          1.232162      0.461568  ...            0            0   \n",
       " 15795       -1.457767      0.461568  ...            1            0   \n",
       " \n",
       "        item_size_s  item_size_unsized  item_size_xl  item_size_xs  \\\n",
       " 64470            0                  0             0             0   \n",
       " 45557            0                  0             1             0   \n",
       " 27614            0                  0             0             0   \n",
       " 13568            0                  0             0             0   \n",
       " 92726            0                  1             0             0   \n",
       " ...            ...                ...           ...           ...   \n",
       " 82386            0                  0             0             0   \n",
       " 6265             1                  0             0             0   \n",
       " 54886            0                  0             0             1   \n",
       " 860              1                  0             0             0   \n",
       " 15795            0                  0             0             0   \n",
       " \n",
       "        item_size_xxl  item_size_xxxl  user_return_rate  brand_return_rate  \n",
       " 64470              0               0          0.750000           0.369820  \n",
       " 45557              0               0          0.166667           0.497129  \n",
       " 27614              0               1          0.555556           0.602201  \n",
       " 13568              0               0          0.000000           0.491751  \n",
       " 92726              0               0          0.538462           0.226415  \n",
       " ...              ...             ...               ...                ...  \n",
       " 82386              1               0          0.500000           0.510511  \n",
       " 6265               0               0          0.600000           0.470275  \n",
       " 54886              0               0          0.692308           0.577465  \n",
       " 860                0               0          0.555556           0.491751  \n",
       " 15795              0               0          0.500000           0.369820  \n",
       " \n",
       " [63999 rows x 39 columns],\n",
       " 64470    1\n",
       " 45557    0\n",
       " 27614    1\n",
       " 13568    0\n",
       " 92726    0\n",
       "         ..\n",
       " 82386    1\n",
       " 6265     1\n",
       " 54886    1\n",
       " 860      1\n",
       " 15795    0\n",
       " Name: return, Length: 63999, dtype: int64,\n",
       "        no_delivery  is_female  is_male  is_bday  most_returned_item  \\\n",
       " 50981            0          1        0        0                   0   \n",
       " 86621            0          1        0        0                   0   \n",
       " 22481            1          1        0        0                   0   \n",
       " 71542            0          1        0        0                   0   \n",
       " 71673            0          1        0        0                   0   \n",
       " ...            ...        ...      ...      ...                 ...   \n",
       " 56886            1          1        0        0                   0   \n",
       " 67435            0          1        0        0                   0   \n",
       " 2747             0          1        0        0                   0   \n",
       " 16023            1          1        0        0                   0   \n",
       " 76820            0          1        0        0                   0   \n",
       " \n",
       "        least_returned_item  most_returned_color  least_returned_color  \\\n",
       " 50981                    0                    0                     0   \n",
       " 86621                    1                    0                     1   \n",
       " 22481                    0                    0                     0   \n",
       " 71542                    0                    1                     0   \n",
       " 71673                    0                    0                     0   \n",
       " ...                    ...                  ...                   ...   \n",
       " 56886                    0                    0                     0   \n",
       " 67435                    0                    0                     0   \n",
       " 2747                     0                    0                     0   \n",
       " 16023                    1                    0                     0   \n",
       " 76820                    0                    0                     0   \n",
       " \n",
       "        log_item_price  log_no_items  ...  item_size_l  item_size_m  \\\n",
       " 50981        1.232162      0.045001  ...            0            0   \n",
       " 86621       -2.056217      0.270723  ...            0            0   \n",
       " 22481       -0.090200     -0.231260  ...            0            0   \n",
       " 71542       -0.402228     -0.587423  ...            0            0   \n",
       " 71673       -1.012997      0.270723  ...            0            0   \n",
       " ...               ...           ...  ...          ...          ...   \n",
       " 56886       -0.784276      0.045001  ...            0            0   \n",
       " 67435        0.072876      0.045001  ...            0            0   \n",
       " 2747        -1.277147      0.045001  ...            0            0   \n",
       " 16023       -3.148184      1.485032  ...            0            0   \n",
       " 76820        1.690743     -1.089406  ...            1            0   \n",
       " \n",
       "        item_size_s  item_size_unsized  item_size_xl  item_size_xs  \\\n",
       " 50981            0                  0             0             0   \n",
       " 86621            0                  1             0             0   \n",
       " 22481            0                  0             1             0   \n",
       " 71542            0                  0             0             0   \n",
       " 71673            0                  0             0             0   \n",
       " ...            ...                ...           ...           ...   \n",
       " 56886            0                  1             0             0   \n",
       " 67435            0                  0             0             1   \n",
       " 2747             0                  0             0             0   \n",
       " 16023            0                  1             0             0   \n",
       " 76820            0                  0             0             0   \n",
       " \n",
       "        item_size_xxl  item_size_xxxl  user_return_rate  brand_return_rate  \n",
       " 50981              0               1          1.000000           0.513258  \n",
       " 86621              0               0          1.000000           0.077778  \n",
       " 22481              0               0          0.000000           0.521807  \n",
       " 71542              1               0          0.500000           0.392102  \n",
       " 71673              1               0          0.000000           0.369820  \n",
       " ...              ...             ...               ...                ...  \n",
       " 56886              0               0          0.509091           0.431677  \n",
       " 67435              0               0          0.750000           0.389474  \n",
       " 2747               1               0          0.625000           0.424263  \n",
       " 16023              0               0          0.833333           0.222910  \n",
       " 76820              0               0          0.000000           0.491751  \n",
       " \n",
       " [16000 rows x 39 columns],\n",
       " 50981    1\n",
       " 86621    1\n",
       " 22481    0\n",
       " 71542    1\n",
       " 71673    0\n",
       "         ..\n",
       " 56886    0\n",
       " 67435    1\n",
       " 2747     0\n",
       " 16023    0\n",
       " 76820    1\n",
       " Name: return, Length: 16000, dtype: int64)"
      ]
     },
     "execution_count": 41,
     "metadata": {},
     "output_type": "execute_result"
    }
   ],
   "source": [
    "# Look at kfold data\n",
    "kfold_data[0]"
   ]
  },
  {
   "cell_type": "markdown",
   "id": "00cb9cec-c27c-43bd-abd4-394e3e9f6da6",
   "metadata": {},
   "source": [
    "##### Model Evaluation Preparation"
   ]
  },
  {
   "cell_type": "code",
   "execution_count": 42,
   "id": "5a2176dd",
   "metadata": {},
   "outputs": [
    {
     "name": "stdout",
     "output_type": "stream",
     "text": [
      "(79999, 39)\n",
      "(79999,)\n",
      "(20000, 39)\n",
      "(20000,)\n"
     ]
    }
   ],
   "source": [
    "# Create train test split for model evaluation\n",
    "X = df.drop('return', axis=1)\n",
    "y = df['return']\n",
    "\n",
    "X_train, X_test, y_train, y_test = train_test_split(X, y, test_size=0.2, random_state=42)\n",
    "\n",
    "print(X_train.shape)\n",
    "print(y_train.shape)\n",
    "\n",
    "print(X_test.shape)\n",
    "print(y_test.shape)"
   ]
  },
  {
   "cell_type": "markdown",
   "id": "c1f6c016-5a7b-4ced-a140-b725aa8e5fdf",
   "metadata": {},
   "source": [
    "##### Gridsearch Preparation"
   ]
  },
  {
   "cell_type": "code",
   "execution_count": 43,
   "id": "cf24a368-8998-44be-8869-945739d99cd9",
   "metadata": {},
   "outputs": [],
   "source": [
    "def generate_param_combinations(params):\n",
    "    \"\"\"\n",
    "    Generates all possible unique parameter combinations.\n",
    "    \n",
    "    Parameters:\n",
    "        params (dict): A dictionary where keys are parameter names and values are lists of possible values for each parameter.\n",
    "    \n",
    "    Yields:\n",
    "        dict: A dictionary representing a unique parameter combination.\n",
    "    \"\"\"\n",
    "    # Check if params is a dictionary\n",
    "    if not isinstance(params, dict):\n",
    "        raise ValueError(\"params must be a dictionary\")\n",
    "\n",
    "    # Check if all values in params are lists\n",
    "    if not all(isinstance(v, list) for v in params.values()):\n",
    "        raise ValueError(\"All values in params must be lists\")\n",
    "\n",
    "    # Generate parameter combinations\n",
    "    keys = list(params.keys())\n",
    "    value_combinations = itertools.product(*params.values())\n",
    "    \n",
    "    for values in value_combinations:\n",
    "        yield dict(zip(keys, values))\n",
    "\n",
    "# SKLearn Grid Search \n",
    "def custom_grid_search_auc(model, params, kfold_data):\n",
    "    best_score = 0.0\n",
    "    best_params = None\n",
    "\n",
    "    for param_set in generate_param_combinations(params):\n",
    "\n",
    "        avg_score = 0.0\n",
    "        \n",
    "        for fold, (X_train_fold, y_train_fold, X_val_fold, y_val_fold) in enumerate(kfold_data):\n",
    "            model.set_params(**param_set)\n",
    "            model.fit(X_train_fold, y_train_fold)\n",
    "            y_pred = model.predict_proba(X_val_fold)[:, 1]\n",
    "            fold_score = roc_auc_score(y_val_fold, y_pred)\n",
    "            avg_score += fold_score\n",
    "        \n",
    "        avg_score /= len(kfold_data)\n",
    "        print(\"Params:\", param_set, \"| Avg. AUC Score:\", round(avg_score,5))\n",
    "        \n",
    "        if avg_score > best_score:\n",
    "            best_score = avg_score\n",
    "            best_params = param_set\n",
    "            \n",
    "    print()\n",
    "    print(\"Params Avg. AUC Score:\", round(best_score,5))\n",
    "    print(\"Best Params:\", best_params)\n",
    "\n",
    "    return None\n",
    "\n",
    "# XGBoost Grid Search \n",
    "def custom_grid_search_xgb_auc(params, kfold_data):\n",
    "    best_score = 0.0\n",
    "    best_params = None\n",
    "\n",
    "    for param_set in generate_param_combinations(params):\n",
    "        avg_score = 0.0\n",
    "        for fold, (X_train_fold, y_train_fold, X_val_fold, y_val_fold) in enumerate(kfold_data):\n",
    "            xgb = XGBClassifier(**param_set)\n",
    "            xgb.fit(X_train_fold, y_train_fold)\n",
    "            y_pred = xgb.predict_proba(X_val_fold)[:, 1]\n",
    "            fold_score = roc_auc_score(y_val_fold, y_pred)\n",
    "            avg_score += fold_score\n",
    "        \n",
    "        avg_score /= len(kfold_data)\n",
    "        print(\"Params:\", param_set, \"| Avg. AUC Score:\", round(avg_score,5))\n",
    "        \n",
    "        if avg_score > best_score:\n",
    "            best_score = avg_score\n",
    "            best_params = param_set\n",
    "            \n",
    "    print()\n",
    "    print(\"Params Avg. AUC Score:\", round(best_score,5))\n",
    "    print(\"Best Params:\", best_params)\n",
    "\n",
    "    return None\n",
    "\n",
    "# No Probability Grid Search \n",
    "def custom_grid_search_acc(model, params, kfold_data):\n",
    "    best_score = 0.0\n",
    "    best_params = None\n",
    "\n",
    "    for param_set in generate_param_combinations(params):\n",
    "        \n",
    "        avg_score = 0.0\n",
    "        \n",
    "        for fold, (X_train_fold, y_train_fold, X_val_fold, y_val_fold) in enumerate(kfold_data):\n",
    "            model.set_params(**param_set)\n",
    "            model.fit(X_train_fold, y_train_fold)\n",
    "            y_pred = model.predict(X_val_fold)\n",
    "            fold_score = balanced_accuracy_score(y_val_fold, y_pred)\n",
    "            avg_score += fold_score\n",
    "        \n",
    "        avg_score /= len(kfold_data)\n",
    "        print(\"Params:\", param_set, \"| Avg. Acc Score:\", round(avg_score,5))\n",
    "        \n",
    "        if avg_score > best_score:\n",
    "            best_score = avg_score\n",
    "            best_params = param_set\n",
    "            \n",
    "    print()\n",
    "    print(\"Params Avg. Acc Score:\", round(best_score,5))\n",
    "    print(\"Best Params:\", best_params)\n",
    "\n",
    "    return None"
   ]
  },
  {
   "cell_type": "markdown",
   "id": "cdf08a68",
   "metadata": {},
   "source": [
    "DNN"
   ]
  },
  {
   "cell_type": "code",
   "execution_count": 44,
   "id": "41628afc",
   "metadata": {},
   "outputs": [],
   "source": [
    "def custom_grid_search_dnn_auc(dnn_model, params, kfold_data):\n",
    "    best_score = 0.0\n",
    "    best_params = None\n",
    "    best_history = None\n",
    "\n",
    "    for param_set in generate_param_combinations(params):\n",
    "        avg_score = 0.0\n",
    "        histories = []  # Store training histories for each fold\n",
    "        \n",
    "        for fold, (X_train_fold, y_train_fold, X_val_fold, y_val_fold) in enumerate(kfold_data):\n",
    "            \n",
    "            dnn_model.add(Dense(param_set['input'], input_shape=(X_train_fold.shape[1],)))\n",
    "            dnn_model.add(Dense(param_set['hidden'], activation='relu')) # hidden layer \n",
    "            dnn_model.add(Dense(1, activation='sigmoid'))  # Output layer\n",
    "            dnn_model.compile(loss='binary_crossentropy', metrics=['accuracy'], optimizer=\"adam\")\n",
    "\n",
    "            history = dnn_model.fit(X_train_fold, y_train_fold, epochs=param_set['epochs'], batch_size=32, verbose=0, validation_data=(X_val_fold, y_val_fold))\n",
    "            histories.append(history)  # Store history\n",
    "            \n",
    "            y_pred = dnn_model.predict(X_val_fold)\n",
    "            auc_score = roc_auc_score(y_val_fold, y_pred)\n",
    "            avg_score += auc_score\n",
    "            \n",
    "        avg_score /= len(kfold_data)\n",
    "        print(\"Params:\", param_set, \"| Avg. AUC Score:\", round(avg_score, 5))\n",
    "        \n",
    "        if avg_score > best_score:\n",
    "            best_score = avg_score\n",
    "            best_params = param_set\n",
    "            best_history = histories\n",
    "            \n",
    "    print()\n",
    "    print(\"Params Avg. AUC Score:\", round(best_score, 5))\n",
    "    print(\"Best Params:\", best_params)\n",
    "\n",
    "    return best_history\n",
    "\n",
    "def generate_all_possible_param_combinations(params):\n",
    "    \"\"\"\n",
    "    Generates all possible unique parameter combinations within the specified range.\n",
    "    \n",
    "    Parameters:\n",
    "        params (dict): A dictionary where keys are parameter names and values are lists of two elements\n",
    "                       representing the lower and upper bounds of the range for each parameter.\n",
    "    \n",
    "    Yields:\n",
    "        dict: A dictionary representing a unique parameter combination.\n",
    "    \"\"\"\n",
    "    # Check if params is a dictionary\n",
    "    if not isinstance(params, dict):\n",
    "        raise ValueError(\"params must be a dictionary\")\n",
    "\n",
    "    # Check if all values in params are lists of two elements\n",
    "    if not all(isinstance(v, list) and len(v) == 2 for v in params.values()):\n",
    "        raise ValueError(\"All values in params must be lists of two elements\")\n",
    "\n",
    "    # Generate parameter combinations\n",
    "    param_names = list(params.keys())\n",
    "    param_value_ranges = [range(v[0], v[1] + 1) for v in params.values()]\n",
    "    param_combinations = product(*param_value_ranges)\n",
    "\n",
    "    # Iterate through each combination of parameters\n",
    "    for values in param_combinations:\n",
    "        yield {name: value for name, value in zip(param_names, values)}\n"
   ]
  },
  {
   "cell_type": "markdown",
   "id": "db1eb188-2ae6-425e-b5e4-9d547fac9637",
   "metadata": {},
   "source": [
    "##### Evaluation Functions"
   ]
  },
  {
   "cell_type": "code",
   "execution_count": 45,
   "id": "9197336e-a293-4fb8-9319-e26c4a8a5a36",
   "metadata": {},
   "outputs": [],
   "source": [
    "# Get metrics for model without probabilities\n",
    "def evaluate_model_binary(fitted_model, x_test, y_test):\n",
    "    y_pred = fitted_model.predict(x_test)  # Predict binary labels\n",
    "    \n",
    "    auc = roc_auc_score(y_test, y_pred)\n",
    "    accuracy = balanced_accuracy_score(y_test, y_pred)\n",
    "    precision = precision_score(y_test, y_pred)\n",
    "    recall = recall_score(y_test, y_pred)\n",
    "    f1 = f1_score(y_test, y_pred)\n",
    "    \n",
    "    metrics_dict = {\n",
    "        'AUC': auc,\n",
    "        'Accuracy': accuracy,\n",
    "        'Precision': precision,\n",
    "        'Recall': recall,\n",
    "        'F1 Score': f1\n",
    "    }\n",
    "\n",
    "    return metrics_dict\n",
    "\n",
    "\n",
    "# Get metrics for model with probabilities\n",
    "def evaluate_model_probability(fitted_model, x_test, y_test, threshold=0.5):\n",
    "    y_pred_probs = fitted_model.predict_proba(x_test)[:, 1]\n",
    "    y_pred = (y_pred_probs > threshold).astype(int)\n",
    "    \n",
    "    auc = roc_auc_score(y_test, y_pred_probs)\n",
    "    accuracy = balanced_accuracy_score(y_test, y_pred)\n",
    "    precision = precision_score(y_test, y_pred)\n",
    "    recall = recall_score(y_test, y_pred)\n",
    "    f1 = f1_score(y_test, y_pred)\n",
    "    \n",
    "    metrics_dict = {\n",
    "        'AUC': auc,\n",
    "        'Accuracy': accuracy,\n",
    "        'Precision': precision,\n",
    "        'Recall': recall,\n",
    "        'F1 Score': f1\n",
    "    }\n",
    "\n",
    "    return metrics_dict\n",
    "\n",
    "# DNN - Get metrics for model with probabilities\n",
    "def evaluate_dnn_probability(fitted_model, x_test, y_test, threshold=0.5):\n",
    "    y_pred_probs = fitted_model.predict(x_test)\n",
    "    y_pred = (y_pred_probs > threshold).astype(int)\n",
    "    \n",
    "    auc = roc_auc_score(y_test, y_pred_probs)\n",
    "    accuracy = balanced_accuracy_score(y_test, y_pred)\n",
    "    precision = precision_score(y_test, y_pred)\n",
    "    recall = recall_score(y_test, y_pred)\n",
    "    f1 = f1_score(y_test, y_pred)\n",
    "    \n",
    "    metrics_dict = {\n",
    "        'AUC': auc,\n",
    "        'Accuracy': accuracy,\n",
    "        'Precision': precision,\n",
    "        'Recall': recall,\n",
    "        'F1 Score': f1\n",
    "    }\n",
    "\n",
    "    return metrics_dict"
   ]
  },
  {
   "cell_type": "markdown",
   "id": "41f8dcfe-8b57-4c57-a0d4-a85d253b908c",
   "metadata": {},
   "source": [
    "# Logistic Regression without Interaction Terms"
   ]
  },
  {
   "cell_type": "markdown",
   "id": "791380d3-47ce-4f31-9a4a-112c81dc1e84",
   "metadata": {},
   "source": [
    "##### Baseline"
   ]
  },
  {
   "cell_type": "code",
   "execution_count": 51,
   "id": "c62b0899-b493-4c62-b727-722f7b968dcf",
   "metadata": {},
   "outputs": [
    {
     "name": "stderr",
     "output_type": "stream",
     "text": [
      "/Users/xaviersan/miniconda3/envs/dmba/lib/python3.11/site-packages/sklearn/linear_model/_sag.py:350: ConvergenceWarning: The max_iter was reached which means the coef_ did not converge\n",
      "  warnings.warn(\n"
     ]
    },
    {
     "data": {
      "text/plain": [
       "{'AUC': 0.7566285328223896,\n",
       " 'Accuracy': 0.6846306320248767,\n",
       " 'Precision': 0.6513761467889908,\n",
       " 'Recall': 0.6649405024239753,\n",
       " 'F1 Score': 0.658088435745052}"
      ]
     },
     "execution_count": 51,
     "metadata": {},
     "output_type": "execute_result"
    }
   ],
   "source": [
    "logreg_baseline = LogisticRegression(solver='saga', penalty=None, random_state=42)\n",
    "logreg_baseline.fit(X_train, y_train)\n",
    "\n",
    "evaluate_model_probability(logreg_baseline, X_test, y_test)"
   ]
  },
  {
   "cell_type": "markdown",
   "id": "ca4d1f6a-b4bb-40e7-9293-2a1f5a2264d2",
   "metadata": {},
   "source": [
    "##### Tuning"
   ]
  },
  {
   "cell_type": "markdown",
   "id": "955b824c-b149-4b8c-9038-5e3ae6c8c305",
   "metadata": {},
   "source": [
    "Regularization"
   ]
  },
  {
   "cell_type": "code",
   "execution_count": 52,
   "id": "4c8e2ba2-6603-4317-af01-f62e983f5311",
   "metadata": {},
   "outputs": [],
   "source": [
    "# Initialize Model\n",
    "logreg = LogisticRegression(penalty='l1', solver='saga', random_state=42)"
   ]
  },
  {
   "cell_type": "code",
   "execution_count": 53,
   "id": "ae01a3db-833e-407c-8b9e-68532f61a175",
   "metadata": {
    "scrolled": true
   },
   "outputs": [
    {
     "name": "stdout",
     "output_type": "stream",
     "text": [
      "Params: {'C': 0.001} | Avg. AUC Score: 0.70893\n",
      "Params: {'C': 0.01} | Avg. AUC Score: 0.73944\n",
      "Params: {'C': 0.1} | Avg. AUC Score: 0.74511\n",
      "Params: {'C': 1} | Avg. AUC Score: 0.74555\n"
     ]
    },
    {
     "name": "stderr",
     "output_type": "stream",
     "text": [
      "/Users/xaviersan/miniconda3/envs/dmba/lib/python3.11/site-packages/sklearn/linear_model/_sag.py:350: ConvergenceWarning: The max_iter was reached which means the coef_ did not converge\n",
      "  warnings.warn(\n",
      "/Users/xaviersan/miniconda3/envs/dmba/lib/python3.11/site-packages/sklearn/linear_model/_sag.py:350: ConvergenceWarning: The max_iter was reached which means the coef_ did not converge\n",
      "  warnings.warn(\n",
      "/Users/xaviersan/miniconda3/envs/dmba/lib/python3.11/site-packages/sklearn/linear_model/_sag.py:350: ConvergenceWarning: The max_iter was reached which means the coef_ did not converge\n",
      "  warnings.warn(\n",
      "/Users/xaviersan/miniconda3/envs/dmba/lib/python3.11/site-packages/sklearn/linear_model/_sag.py:350: ConvergenceWarning: The max_iter was reached which means the coef_ did not converge\n",
      "  warnings.warn(\n",
      "/Users/xaviersan/miniconda3/envs/dmba/lib/python3.11/site-packages/sklearn/linear_model/_sag.py:350: ConvergenceWarning: The max_iter was reached which means the coef_ did not converge\n",
      "  warnings.warn(\n"
     ]
    },
    {
     "name": "stdout",
     "output_type": "stream",
     "text": [
      "Params: {'C': 10} | Avg. AUC Score: 0.74557\n"
     ]
    },
    {
     "name": "stderr",
     "output_type": "stream",
     "text": [
      "/Users/xaviersan/miniconda3/envs/dmba/lib/python3.11/site-packages/sklearn/linear_model/_sag.py:350: ConvergenceWarning: The max_iter was reached which means the coef_ did not converge\n",
      "  warnings.warn(\n",
      "/Users/xaviersan/miniconda3/envs/dmba/lib/python3.11/site-packages/sklearn/linear_model/_sag.py:350: ConvergenceWarning: The max_iter was reached which means the coef_ did not converge\n",
      "  warnings.warn(\n",
      "/Users/xaviersan/miniconda3/envs/dmba/lib/python3.11/site-packages/sklearn/linear_model/_sag.py:350: ConvergenceWarning: The max_iter was reached which means the coef_ did not converge\n",
      "  warnings.warn(\n",
      "/Users/xaviersan/miniconda3/envs/dmba/lib/python3.11/site-packages/sklearn/linear_model/_sag.py:350: ConvergenceWarning: The max_iter was reached which means the coef_ did not converge\n",
      "  warnings.warn(\n"
     ]
    },
    {
     "name": "stdout",
     "output_type": "stream",
     "text": [
      "Params: {'C': 100} | Avg. AUC Score: 0.74557\n",
      "\n",
      "Params Avg. AUC Score: 0.74557\n",
      "Best Params: {'C': 100}\n"
     ]
    },
    {
     "name": "stderr",
     "output_type": "stream",
     "text": [
      "/Users/xaviersan/miniconda3/envs/dmba/lib/python3.11/site-packages/sklearn/linear_model/_sag.py:350: ConvergenceWarning: The max_iter was reached which means the coef_ did not converge\n",
      "  warnings.warn(\n"
     ]
    }
   ],
   "source": [
    "# Step 1\n",
    "param_grid = {\n",
    "    'C': [0.001, 0.01, 0.1, 1, 10, 100]\n",
    "}\n",
    "\n",
    "custom_grid_search_auc(logreg, param_grid, kfold_data)"
   ]
  },
  {
   "cell_type": "code",
   "execution_count": 54,
   "id": "eeec94de-86cc-42cf-8aa6-279de639986b",
   "metadata": {
    "scrolled": true
   },
   "outputs": [
    {
     "name": "stdout",
     "output_type": "stream",
     "text": [
      "Params: {'C': 0.001} | Avg. AUC Score: 0.74149\n",
      "Params: {'C': 0.01} | Avg. AUC Score: 0.73986\n",
      "Params: {'C': 0.1} | Avg. AUC Score: 0.74385\n",
      "Params: {'C': 1} | Avg. AUC Score: 0.74552\n"
     ]
    },
    {
     "name": "stderr",
     "output_type": "stream",
     "text": [
      "/Users/xaviersan/miniconda3/envs/dmba/lib/python3.11/site-packages/sklearn/linear_model/_sag.py:350: ConvergenceWarning: The max_iter was reached which means the coef_ did not converge\n",
      "  warnings.warn(\n",
      "/Users/xaviersan/miniconda3/envs/dmba/lib/python3.11/site-packages/sklearn/linear_model/_sag.py:350: ConvergenceWarning: The max_iter was reached which means the coef_ did not converge\n",
      "  warnings.warn(\n",
      "/Users/xaviersan/miniconda3/envs/dmba/lib/python3.11/site-packages/sklearn/linear_model/_sag.py:350: ConvergenceWarning: The max_iter was reached which means the coef_ did not converge\n",
      "  warnings.warn(\n",
      "/Users/xaviersan/miniconda3/envs/dmba/lib/python3.11/site-packages/sklearn/linear_model/_sag.py:350: ConvergenceWarning: The max_iter was reached which means the coef_ did not converge\n",
      "  warnings.warn(\n",
      "/Users/xaviersan/miniconda3/envs/dmba/lib/python3.11/site-packages/sklearn/linear_model/_sag.py:350: ConvergenceWarning: The max_iter was reached which means the coef_ did not converge\n",
      "  warnings.warn(\n"
     ]
    },
    {
     "name": "stdout",
     "output_type": "stream",
     "text": [
      "Params: {'C': 10} | Avg. AUC Score: 0.74557\n"
     ]
    },
    {
     "name": "stderr",
     "output_type": "stream",
     "text": [
      "/Users/xaviersan/miniconda3/envs/dmba/lib/python3.11/site-packages/sklearn/linear_model/_sag.py:350: ConvergenceWarning: The max_iter was reached which means the coef_ did not converge\n",
      "  warnings.warn(\n",
      "/Users/xaviersan/miniconda3/envs/dmba/lib/python3.11/site-packages/sklearn/linear_model/_sag.py:350: ConvergenceWarning: The max_iter was reached which means the coef_ did not converge\n",
      "  warnings.warn(\n",
      "/Users/xaviersan/miniconda3/envs/dmba/lib/python3.11/site-packages/sklearn/linear_model/_sag.py:350: ConvergenceWarning: The max_iter was reached which means the coef_ did not converge\n",
      "  warnings.warn(\n",
      "/Users/xaviersan/miniconda3/envs/dmba/lib/python3.11/site-packages/sklearn/linear_model/_sag.py:350: ConvergenceWarning: The max_iter was reached which means the coef_ did not converge\n",
      "  warnings.warn(\n"
     ]
    },
    {
     "name": "stdout",
     "output_type": "stream",
     "text": [
      "Params: {'C': 100} | Avg. AUC Score: 0.74557\n",
      "\n",
      "Params Avg. AUC Score: 0.74557\n",
      "Best Params: {'C': 10}\n"
     ]
    },
    {
     "name": "stderr",
     "output_type": "stream",
     "text": [
      "/Users/xaviersan/miniconda3/envs/dmba/lib/python3.11/site-packages/sklearn/linear_model/_sag.py:350: ConvergenceWarning: The max_iter was reached which means the coef_ did not converge\n",
      "  warnings.warn(\n"
     ]
    }
   ],
   "source": [
    "# Re-Initialize Model\n",
    "logreg = LogisticRegression(penalty='l2', solver='saga', random_state=42)\n",
    "\n",
    "# Step 2\n",
    "param_grid = {\n",
    "    'C': [0.001, 0.01, 0.1, 1, 10, 100]\n",
    "}\n",
    "\n",
    "custom_grid_search_auc(logreg, param_grid, kfold_data)"
   ]
  },
  {
   "cell_type": "code",
   "execution_count": 9,
   "id": "29df0528-5c53-4938-8378-3bc7418a7da5",
   "metadata": {
    "scrolled": true
   },
   "outputs": [
    {
     "name": "stdout",
     "output_type": "stream",
     "text": [
      "Params: {'C': 0.001, 'l1_ratio': 0.1} | Avg. AUC Score: 0.73912\n",
      "Params: {'C': 0.001, 'l1_ratio': 0.3} | Avg. AUC Score: 0.73411\n",
      "Params: {'C': 0.001, 'l1_ratio': 0.5} | Avg. AUC Score: 0.72807\n",
      "Params: {'C': 0.001, 'l1_ratio': 0.7} | Avg. AUC Score: 0.72163\n",
      "Params: {'C': 0.001, 'l1_ratio': 0.9} | Avg. AUC Score: 0.71382\n",
      "Params: {'C': 0.01, 'l1_ratio': 0.1} | Avg. AUC Score: 0.73963\n",
      "Params: {'C': 0.01, 'l1_ratio': 0.3} | Avg. AUC Score: 0.7393\n",
      "Params: {'C': 0.01, 'l1_ratio': 0.5} | Avg. AUC Score: 0.73907\n",
      "Params: {'C': 0.01, 'l1_ratio': 0.7} | Avg. AUC Score: 0.739\n",
      "Params: {'C': 0.01, 'l1_ratio': 0.9} | Avg. AUC Score: 0.73919\n",
      "Params: {'C': 0.1, 'l1_ratio': 0.1} | Avg. AUC Score: 0.74391\n",
      "Params: {'C': 0.1, 'l1_ratio': 0.3} | Avg. AUC Score: 0.74404\n",
      "Params: {'C': 0.1, 'l1_ratio': 0.5} | Avg. AUC Score: 0.74423\n",
      "Params: {'C': 0.1, 'l1_ratio': 0.7} | Avg. AUC Score: 0.74448\n",
      "Params: {'C': 0.1, 'l1_ratio': 0.9} | Avg. AUC Score: 0.74486\n",
      "Params: {'C': 1, 'l1_ratio': 0.1} | Avg. AUC Score: 0.74553\n",
      "Params: {'C': 1, 'l1_ratio': 0.3} | Avg. AUC Score: 0.74554\n",
      "Params: {'C': 1, 'l1_ratio': 0.5} | Avg. AUC Score: 0.74555\n",
      "Params: {'C': 1, 'l1_ratio': 0.7} | Avg. AUC Score: 0.74556\n",
      "Params: {'C': 1, 'l1_ratio': 0.9} | Avg. AUC Score: 0.74555\n"
     ]
    },
    {
     "name": "stderr",
     "output_type": "stream",
     "text": [
      "/Users/xaviersan/miniconda3/envs/dmba/lib/python3.11/site-packages/sklearn/linear_model/_sag.py:350: ConvergenceWarning: The max_iter was reached which means the coef_ did not converge\n",
      "  warnings.warn(\n",
      "/Users/xaviersan/miniconda3/envs/dmba/lib/python3.11/site-packages/sklearn/linear_model/_sag.py:350: ConvergenceWarning: The max_iter was reached which means the coef_ did not converge\n",
      "  warnings.warn(\n",
      "/Users/xaviersan/miniconda3/envs/dmba/lib/python3.11/site-packages/sklearn/linear_model/_sag.py:350: ConvergenceWarning: The max_iter was reached which means the coef_ did not converge\n",
      "  warnings.warn(\n",
      "/Users/xaviersan/miniconda3/envs/dmba/lib/python3.11/site-packages/sklearn/linear_model/_sag.py:350: ConvergenceWarning: The max_iter was reached which means the coef_ did not converge\n",
      "  warnings.warn(\n",
      "/Users/xaviersan/miniconda3/envs/dmba/lib/python3.11/site-packages/sklearn/linear_model/_sag.py:350: ConvergenceWarning: The max_iter was reached which means the coef_ did not converge\n",
      "  warnings.warn(\n"
     ]
    },
    {
     "name": "stdout",
     "output_type": "stream",
     "text": [
      "Params: {'C': 10, 'l1_ratio': 0.1} | Avg. AUC Score: 0.74557\n"
     ]
    },
    {
     "name": "stderr",
     "output_type": "stream",
     "text": [
      "/Users/xaviersan/miniconda3/envs/dmba/lib/python3.11/site-packages/sklearn/linear_model/_sag.py:350: ConvergenceWarning: The max_iter was reached which means the coef_ did not converge\n",
      "  warnings.warn(\n",
      "/Users/xaviersan/miniconda3/envs/dmba/lib/python3.11/site-packages/sklearn/linear_model/_sag.py:350: ConvergenceWarning: The max_iter was reached which means the coef_ did not converge\n",
      "  warnings.warn(\n",
      "/Users/xaviersan/miniconda3/envs/dmba/lib/python3.11/site-packages/sklearn/linear_model/_sag.py:350: ConvergenceWarning: The max_iter was reached which means the coef_ did not converge\n",
      "  warnings.warn(\n",
      "/Users/xaviersan/miniconda3/envs/dmba/lib/python3.11/site-packages/sklearn/linear_model/_sag.py:350: ConvergenceWarning: The max_iter was reached which means the coef_ did not converge\n",
      "  warnings.warn(\n",
      "/Users/xaviersan/miniconda3/envs/dmba/lib/python3.11/site-packages/sklearn/linear_model/_sag.py:350: ConvergenceWarning: The max_iter was reached which means the coef_ did not converge\n",
      "  warnings.warn(\n"
     ]
    },
    {
     "name": "stdout",
     "output_type": "stream",
     "text": [
      "Params: {'C': 10, 'l1_ratio': 0.3} | Avg. AUC Score: 0.74557\n"
     ]
    },
    {
     "name": "stderr",
     "output_type": "stream",
     "text": [
      "/Users/xaviersan/miniconda3/envs/dmba/lib/python3.11/site-packages/sklearn/linear_model/_sag.py:350: ConvergenceWarning: The max_iter was reached which means the coef_ did not converge\n",
      "  warnings.warn(\n",
      "/Users/xaviersan/miniconda3/envs/dmba/lib/python3.11/site-packages/sklearn/linear_model/_sag.py:350: ConvergenceWarning: The max_iter was reached which means the coef_ did not converge\n",
      "  warnings.warn(\n",
      "/Users/xaviersan/miniconda3/envs/dmba/lib/python3.11/site-packages/sklearn/linear_model/_sag.py:350: ConvergenceWarning: The max_iter was reached which means the coef_ did not converge\n",
      "  warnings.warn(\n",
      "/Users/xaviersan/miniconda3/envs/dmba/lib/python3.11/site-packages/sklearn/linear_model/_sag.py:350: ConvergenceWarning: The max_iter was reached which means the coef_ did not converge\n",
      "  warnings.warn(\n",
      "/Users/xaviersan/miniconda3/envs/dmba/lib/python3.11/site-packages/sklearn/linear_model/_sag.py:350: ConvergenceWarning: The max_iter was reached which means the coef_ did not converge\n",
      "  warnings.warn(\n"
     ]
    },
    {
     "name": "stdout",
     "output_type": "stream",
     "text": [
      "Params: {'C': 10, 'l1_ratio': 0.5} | Avg. AUC Score: 0.74557\n"
     ]
    },
    {
     "name": "stderr",
     "output_type": "stream",
     "text": [
      "/Users/xaviersan/miniconda3/envs/dmba/lib/python3.11/site-packages/sklearn/linear_model/_sag.py:350: ConvergenceWarning: The max_iter was reached which means the coef_ did not converge\n",
      "  warnings.warn(\n",
      "/Users/xaviersan/miniconda3/envs/dmba/lib/python3.11/site-packages/sklearn/linear_model/_sag.py:350: ConvergenceWarning: The max_iter was reached which means the coef_ did not converge\n",
      "  warnings.warn(\n",
      "/Users/xaviersan/miniconda3/envs/dmba/lib/python3.11/site-packages/sklearn/linear_model/_sag.py:350: ConvergenceWarning: The max_iter was reached which means the coef_ did not converge\n",
      "  warnings.warn(\n",
      "/Users/xaviersan/miniconda3/envs/dmba/lib/python3.11/site-packages/sklearn/linear_model/_sag.py:350: ConvergenceWarning: The max_iter was reached which means the coef_ did not converge\n",
      "  warnings.warn(\n",
      "/Users/xaviersan/miniconda3/envs/dmba/lib/python3.11/site-packages/sklearn/linear_model/_sag.py:350: ConvergenceWarning: The max_iter was reached which means the coef_ did not converge\n",
      "  warnings.warn(\n"
     ]
    },
    {
     "name": "stdout",
     "output_type": "stream",
     "text": [
      "Params: {'C': 10, 'l1_ratio': 0.7} | Avg. AUC Score: 0.74557\n"
     ]
    },
    {
     "name": "stderr",
     "output_type": "stream",
     "text": [
      "/Users/xaviersan/miniconda3/envs/dmba/lib/python3.11/site-packages/sklearn/linear_model/_sag.py:350: ConvergenceWarning: The max_iter was reached which means the coef_ did not converge\n",
      "  warnings.warn(\n",
      "/Users/xaviersan/miniconda3/envs/dmba/lib/python3.11/site-packages/sklearn/linear_model/_sag.py:350: ConvergenceWarning: The max_iter was reached which means the coef_ did not converge\n",
      "  warnings.warn(\n",
      "/Users/xaviersan/miniconda3/envs/dmba/lib/python3.11/site-packages/sklearn/linear_model/_sag.py:350: ConvergenceWarning: The max_iter was reached which means the coef_ did not converge\n",
      "  warnings.warn(\n",
      "/Users/xaviersan/miniconda3/envs/dmba/lib/python3.11/site-packages/sklearn/linear_model/_sag.py:350: ConvergenceWarning: The max_iter was reached which means the coef_ did not converge\n",
      "  warnings.warn(\n",
      "/Users/xaviersan/miniconda3/envs/dmba/lib/python3.11/site-packages/sklearn/linear_model/_sag.py:350: ConvergenceWarning: The max_iter was reached which means the coef_ did not converge\n",
      "  warnings.warn(\n"
     ]
    },
    {
     "name": "stdout",
     "output_type": "stream",
     "text": [
      "Params: {'C': 10, 'l1_ratio': 0.9} | Avg. AUC Score: 0.74557\n"
     ]
    },
    {
     "name": "stderr",
     "output_type": "stream",
     "text": [
      "/Users/xaviersan/miniconda3/envs/dmba/lib/python3.11/site-packages/sklearn/linear_model/_sag.py:350: ConvergenceWarning: The max_iter was reached which means the coef_ did not converge\n",
      "  warnings.warn(\n",
      "/Users/xaviersan/miniconda3/envs/dmba/lib/python3.11/site-packages/sklearn/linear_model/_sag.py:350: ConvergenceWarning: The max_iter was reached which means the coef_ did not converge\n",
      "  warnings.warn(\n",
      "/Users/xaviersan/miniconda3/envs/dmba/lib/python3.11/site-packages/sklearn/linear_model/_sag.py:350: ConvergenceWarning: The max_iter was reached which means the coef_ did not converge\n",
      "  warnings.warn(\n",
      "/Users/xaviersan/miniconda3/envs/dmba/lib/python3.11/site-packages/sklearn/linear_model/_sag.py:350: ConvergenceWarning: The max_iter was reached which means the coef_ did not converge\n",
      "  warnings.warn(\n",
      "/Users/xaviersan/miniconda3/envs/dmba/lib/python3.11/site-packages/sklearn/linear_model/_sag.py:350: ConvergenceWarning: The max_iter was reached which means the coef_ did not converge\n",
      "  warnings.warn(\n"
     ]
    },
    {
     "name": "stdout",
     "output_type": "stream",
     "text": [
      "Params: {'C': 100, 'l1_ratio': 0.1} | Avg. AUC Score: 0.74557\n"
     ]
    },
    {
     "name": "stderr",
     "output_type": "stream",
     "text": [
      "/Users/xaviersan/miniconda3/envs/dmba/lib/python3.11/site-packages/sklearn/linear_model/_sag.py:350: ConvergenceWarning: The max_iter was reached which means the coef_ did not converge\n",
      "  warnings.warn(\n",
      "/Users/xaviersan/miniconda3/envs/dmba/lib/python3.11/site-packages/sklearn/linear_model/_sag.py:350: ConvergenceWarning: The max_iter was reached which means the coef_ did not converge\n",
      "  warnings.warn(\n",
      "/Users/xaviersan/miniconda3/envs/dmba/lib/python3.11/site-packages/sklearn/linear_model/_sag.py:350: ConvergenceWarning: The max_iter was reached which means the coef_ did not converge\n",
      "  warnings.warn(\n",
      "/Users/xaviersan/miniconda3/envs/dmba/lib/python3.11/site-packages/sklearn/linear_model/_sag.py:350: ConvergenceWarning: The max_iter was reached which means the coef_ did not converge\n",
      "  warnings.warn(\n",
      "/Users/xaviersan/miniconda3/envs/dmba/lib/python3.11/site-packages/sklearn/linear_model/_sag.py:350: ConvergenceWarning: The max_iter was reached which means the coef_ did not converge\n",
      "  warnings.warn(\n"
     ]
    },
    {
     "name": "stdout",
     "output_type": "stream",
     "text": [
      "Params: {'C': 100, 'l1_ratio': 0.3} | Avg. AUC Score: 0.74557\n"
     ]
    },
    {
     "name": "stderr",
     "output_type": "stream",
     "text": [
      "/Users/xaviersan/miniconda3/envs/dmba/lib/python3.11/site-packages/sklearn/linear_model/_sag.py:350: ConvergenceWarning: The max_iter was reached which means the coef_ did not converge\n",
      "  warnings.warn(\n",
      "/Users/xaviersan/miniconda3/envs/dmba/lib/python3.11/site-packages/sklearn/linear_model/_sag.py:350: ConvergenceWarning: The max_iter was reached which means the coef_ did not converge\n",
      "  warnings.warn(\n",
      "/Users/xaviersan/miniconda3/envs/dmba/lib/python3.11/site-packages/sklearn/linear_model/_sag.py:350: ConvergenceWarning: The max_iter was reached which means the coef_ did not converge\n",
      "  warnings.warn(\n",
      "/Users/xaviersan/miniconda3/envs/dmba/lib/python3.11/site-packages/sklearn/linear_model/_sag.py:350: ConvergenceWarning: The max_iter was reached which means the coef_ did not converge\n",
      "  warnings.warn(\n",
      "/Users/xaviersan/miniconda3/envs/dmba/lib/python3.11/site-packages/sklearn/linear_model/_sag.py:350: ConvergenceWarning: The max_iter was reached which means the coef_ did not converge\n",
      "  warnings.warn(\n"
     ]
    },
    {
     "name": "stdout",
     "output_type": "stream",
     "text": [
      "Params: {'C': 100, 'l1_ratio': 0.5} | Avg. AUC Score: 0.74557\n"
     ]
    },
    {
     "name": "stderr",
     "output_type": "stream",
     "text": [
      "/Users/xaviersan/miniconda3/envs/dmba/lib/python3.11/site-packages/sklearn/linear_model/_sag.py:350: ConvergenceWarning: The max_iter was reached which means the coef_ did not converge\n",
      "  warnings.warn(\n",
      "/Users/xaviersan/miniconda3/envs/dmba/lib/python3.11/site-packages/sklearn/linear_model/_sag.py:350: ConvergenceWarning: The max_iter was reached which means the coef_ did not converge\n",
      "  warnings.warn(\n",
      "/Users/xaviersan/miniconda3/envs/dmba/lib/python3.11/site-packages/sklearn/linear_model/_sag.py:350: ConvergenceWarning: The max_iter was reached which means the coef_ did not converge\n",
      "  warnings.warn(\n",
      "/Users/xaviersan/miniconda3/envs/dmba/lib/python3.11/site-packages/sklearn/linear_model/_sag.py:350: ConvergenceWarning: The max_iter was reached which means the coef_ did not converge\n",
      "  warnings.warn(\n",
      "/Users/xaviersan/miniconda3/envs/dmba/lib/python3.11/site-packages/sklearn/linear_model/_sag.py:350: ConvergenceWarning: The max_iter was reached which means the coef_ did not converge\n",
      "  warnings.warn(\n"
     ]
    },
    {
     "name": "stdout",
     "output_type": "stream",
     "text": [
      "Params: {'C': 100, 'l1_ratio': 0.7} | Avg. AUC Score: 0.74557\n"
     ]
    },
    {
     "name": "stderr",
     "output_type": "stream",
     "text": [
      "/Users/xaviersan/miniconda3/envs/dmba/lib/python3.11/site-packages/sklearn/linear_model/_sag.py:350: ConvergenceWarning: The max_iter was reached which means the coef_ did not converge\n",
      "  warnings.warn(\n",
      "/Users/xaviersan/miniconda3/envs/dmba/lib/python3.11/site-packages/sklearn/linear_model/_sag.py:350: ConvergenceWarning: The max_iter was reached which means the coef_ did not converge\n",
      "  warnings.warn(\n",
      "/Users/xaviersan/miniconda3/envs/dmba/lib/python3.11/site-packages/sklearn/linear_model/_sag.py:350: ConvergenceWarning: The max_iter was reached which means the coef_ did not converge\n",
      "  warnings.warn(\n",
      "/Users/xaviersan/miniconda3/envs/dmba/lib/python3.11/site-packages/sklearn/linear_model/_sag.py:350: ConvergenceWarning: The max_iter was reached which means the coef_ did not converge\n",
      "  warnings.warn(\n"
     ]
    },
    {
     "name": "stdout",
     "output_type": "stream",
     "text": [
      "Params: {'C': 100, 'l1_ratio': 0.9} | Avg. AUC Score: 0.74557\n",
      "\n",
      "Params Avg. AUC Score: 0.74557\n",
      "Best Params: {'C': 10, 'l1_ratio': 0.1}\n"
     ]
    },
    {
     "name": "stderr",
     "output_type": "stream",
     "text": [
      "/Users/xaviersan/miniconda3/envs/dmba/lib/python3.11/site-packages/sklearn/linear_model/_sag.py:350: ConvergenceWarning: The max_iter was reached which means the coef_ did not converge\n",
      "  warnings.warn(\n"
     ]
    }
   ],
   "source": [
    "# Re-Initialize Model\n",
    "logreg = LogisticRegression(penalty='elasticnet', solver='saga', random_state=42)\n",
    "\n",
    "# Step 3\n",
    "param_grid = {\n",
    "    'C': [0.001, 0.01, 0.1, 1, 10, 100],\n",
    "    'l1_ratio': [0.1, 0.3, 0.5, 0.7, 0.9] \n",
    "}\n",
    "\n",
    "custom_grid_search_auc(logreg, param_grid, kfold_data)"
   ]
  },
  {
   "cell_type": "markdown",
   "id": "6c511bf2-e009-485f-a160-84c883836026",
   "metadata": {},
   "source": [
    "If AUC are similar across 3 penalty methods, we opt for elastic net due to its ability to perform variable selection and regularization simultaneously."
   ]
  },
  {
   "cell_type": "markdown",
   "id": "61bc1eaa-b592-46c0-ac48-4c2adc005df2",
   "metadata": {},
   "source": [
    "No. of Iterations"
   ]
  },
  {
   "cell_type": "code",
   "execution_count": 56,
   "id": "d459122a-e5cf-4d49-8c7c-4d66364019bc",
   "metadata": {},
   "outputs": [
    {
     "name": "stderr",
     "output_type": "stream",
     "text": [
      "/Users/xaviersan/miniconda3/envs/dmba/lib/python3.11/site-packages/sklearn/linear_model/_sag.py:350: ConvergenceWarning: The max_iter was reached which means the coef_ did not converge\n",
      "  warnings.warn(\n",
      "/Users/xaviersan/miniconda3/envs/dmba/lib/python3.11/site-packages/sklearn/linear_model/_sag.py:350: ConvergenceWarning: The max_iter was reached which means the coef_ did not converge\n",
      "  warnings.warn(\n",
      "/Users/xaviersan/miniconda3/envs/dmba/lib/python3.11/site-packages/sklearn/linear_model/_sag.py:350: ConvergenceWarning: The max_iter was reached which means the coef_ did not converge\n",
      "  warnings.warn(\n",
      "/Users/xaviersan/miniconda3/envs/dmba/lib/python3.11/site-packages/sklearn/linear_model/_sag.py:350: ConvergenceWarning: The max_iter was reached which means the coef_ did not converge\n",
      "  warnings.warn(\n",
      "/Users/xaviersan/miniconda3/envs/dmba/lib/python3.11/site-packages/sklearn/linear_model/_sag.py:350: ConvergenceWarning: The max_iter was reached which means the coef_ did not converge\n",
      "  warnings.warn(\n"
     ]
    },
    {
     "name": "stdout",
     "output_type": "stream",
     "text": [
      "Params: {'max_iter': 100} | Avg. AUC Score: 0.74557\n"
     ]
    },
    {
     "name": "stderr",
     "output_type": "stream",
     "text": [
      "/Users/xaviersan/miniconda3/envs/dmba/lib/python3.11/site-packages/sklearn/linear_model/_sag.py:350: ConvergenceWarning: The max_iter was reached which means the coef_ did not converge\n",
      "  warnings.warn(\n"
     ]
    },
    {
     "name": "stdout",
     "output_type": "stream",
     "text": [
      "Params: {'max_iter': 200} | Avg. AUC Score: 0.74557\n",
      "Params: {'max_iter': 300} | Avg. AUC Score: 0.74557\n",
      "\n",
      "Params Avg. AUC Score: 0.74557\n",
      "Best Params: {'max_iter': 200}\n"
     ]
    }
   ],
   "source": [
    "# Re-Initialize Model\n",
    "logreg = LogisticRegression(C=10, l1_ratio=0.1, penalty='elasticnet', solver='saga', random_state=42)\n",
    "\n",
    "param_grid = {\n",
    "    'max_iter':[100, 200, 300]\n",
    "}\n",
    "\n",
    "custom_grid_search_auc(logreg, param_grid, kfold_data)"
   ]
  },
  {
   "cell_type": "markdown",
   "id": "ec09af0c-11dc-49db-9512-d99ee6684328",
   "metadata": {},
   "source": [
    "##### Final Model"
   ]
  },
  {
   "cell_type": "code",
   "execution_count": 57,
   "id": "4c3b7cf6-e9f9-433e-9d96-9e23ba88f1aa",
   "metadata": {},
   "outputs": [
    {
     "data": {
      "text/plain": [
       "{'AUC': 0.7566278873111698,\n",
       " 'Accuracy': 0.6889265697098056,\n",
       " 'Precision': 0.6422821493258201,\n",
       " 'Recall': 0.7032833847509916,\n",
       " 'F1 Score': 0.6714000210371305}"
      ]
     },
     "execution_count": 57,
     "metadata": {},
     "output_type": "execute_result"
    }
   ],
   "source": [
    "param_grid = {'C':10, 'l1_ratio':0.1, 'penalty':'elasticnet', 'solver':'saga', 'max_iter':200, 'random_state':42}\n",
    "\n",
    "logreg = LogisticRegression()\n",
    "logreg.set_params(**param_grid)\n",
    "logreg.fit(X_train, y_train)\n",
    "\n",
    "evaluate_model_probability(logreg, X_test, y_test, threshold=0.46)"
   ]
  },
  {
   "cell_type": "markdown",
   "id": "c715fd4c-4dd9-4fd2-a54a-3dcd9c5f8c36",
   "metadata": {},
   "source": [
    "# Logistic Regression with Interaction Terms"
   ]
  },
  {
   "cell_type": "markdown",
   "id": "c4dc734e-4007-492d-b69b-133d23c5858a",
   "metadata": {},
   "source": [
    "##### Data Preparation"
   ]
  },
  {
   "cell_type": "code",
   "execution_count": 11,
   "id": "55f7cd74-82a6-418c-9573-2f19ba6551c3",
   "metadata": {},
   "outputs": [],
   "source": [
    "def prepare_kfold_data_logreg(X_train, y_train, k=5, default_fill_value=0.5):\n",
    "    \n",
    "    kf = KFold(n_splits=k, shuffle=True, random_state=42)\n",
    "    data_arrays = []\n",
    "\n",
    "    for train_index, val_index in kf.split(X_train):\n",
    "        # Step 1: Split data into train and validation folds\n",
    "        X_train_fold, X_val_fold = X_train.iloc[train_index], X_train.iloc[val_index]\n",
    "        y_train_fold, y_val_fold = y_train.iloc[train_index], y_train.iloc[val_index]\n",
    "        \n",
    "        # Step 2: Perform preprocessing on train fold\n",
    "        user_return_rates = X_train_fold.groupby('user_id')['return'].mean()\n",
    "        brand_return_rates = X_train_fold.groupby('brand_id')['return'].mean()\n",
    "        \n",
    "        X_train_fold['user_return_rate'] = X_train_fold['user_id'].map(user_return_rates)\n",
    "        X_train_fold['brand_return_rate'] = X_train_fold['brand_id'].map(brand_return_rates)\n",
    "        \n",
    "        # Step 3: Map values to validation fold\n",
    "        X_val_fold['user_return_rate'] = X_val_fold['user_id'].map(user_return_rates).fillna(default_fill_value)\n",
    "        X_val_fold['brand_return_rate'] = X_val_fold['brand_id'].map(brand_return_rates).fillna(default_fill_value)\n",
    "        \n",
    "        # Step 4: Drop unnecessary columns\n",
    "        X_train_fold.drop(['return', 'user_id', 'brand_id'], axis=1, inplace=True)\n",
    "        X_val_fold.drop(['return', 'user_id', 'brand_id'], axis=1, inplace=True)\n",
    "\n",
    "        # Step 5: Create interaction terms\n",
    "        X_train_fold['log_item_price * is_bday'] = X_train_fold['log_item_price'] * X_train_fold['is_bday']\n",
    "        X_train_fold['log_age * log_avg_freq_purchases'] = X_train_fold['log_age'] * X_train_fold['log_avg_freq_purchases']\n",
    "        X_train_fold['log_no_items * log_avg_freq_purchases'] = X_train_fold['log_no_items'] * X_train_fold['log_avg_freq_purchases']\n",
    "        X_train_fold['log_item_price * brand_return_rate'] = X_train_fold['log_item_price'] * X_train_fold['brand_return_rate'] \n",
    "        X_train_fold['most_returned_color * brand_return_rate'] = X_train_fold['most_returned_color'] * X_train_fold['brand_return_rate']\n",
    "        X_train_fold['least_returned_color * brand_return_rate'] = X_train_fold['least_returned_color'] * X_train_fold['brand_return_rate']\n",
    "\n",
    "        X_val_fold['log_item_price * is_bday'] = X_val_fold['log_item_price'] * X_val_fold['is_bday']\n",
    "        X_val_fold['log_age * log_avg_freq_purchases'] = X_val_fold['log_age'] * X_val_fold['log_avg_freq_purchases']\n",
    "        X_val_fold['log_no_items * log_avg_freq_purchases'] = X_val_fold['log_no_items'] * X_val_fold['log_avg_freq_purchases']\n",
    "        X_val_fold['log_item_price * brand_return_rate'] = X_val_fold['log_item_price'] * X_val_fold['brand_return_rate'] \n",
    "        X_val_fold['most_returned_color * brand_return_rate'] = X_val_fold['most_returned_color'] * X_val_fold['brand_return_rate']\n",
    "        X_val_fold['least_returned_color * brand_return_rate'] = X_val_fold['least_returned_color'] * X_val_fold['brand_return_rate']\n",
    "        \n",
    "        # Append data arrays\n",
    "        data_arrays.append((X_train_fold, y_train_fold, X_val_fold, y_val_fold))\n",
    "\n",
    "    return data_arrays"
   ]
  },
  {
   "cell_type": "code",
   "execution_count": 12,
   "id": "f10fd670-3a25-41ad-9f1a-bd26f9161765",
   "metadata": {
    "scrolled": true
   },
   "outputs": [
    {
     "name": "stderr",
     "output_type": "stream",
     "text": [
      "/var/folders/4f/3w_37fps2jl_9bqnhfpl8d8h0000gn/T/ipykernel_45625/3264776615.py:15: SettingWithCopyWarning: \n",
      "A value is trying to be set on a copy of a slice from a DataFrame.\n",
      "Try using .loc[row_indexer,col_indexer] = value instead\n",
      "\n",
      "See the caveats in the documentation: https://pandas.pydata.org/pandas-docs/stable/user_guide/indexing.html#returning-a-view-versus-a-copy\n",
      "  X_train_fold['user_return_rate'] = X_train_fold['user_id'].map(user_return_rates)\n",
      "/var/folders/4f/3w_37fps2jl_9bqnhfpl8d8h0000gn/T/ipykernel_45625/3264776615.py:16: SettingWithCopyWarning: \n",
      "A value is trying to be set on a copy of a slice from a DataFrame.\n",
      "Try using .loc[row_indexer,col_indexer] = value instead\n",
      "\n",
      "See the caveats in the documentation: https://pandas.pydata.org/pandas-docs/stable/user_guide/indexing.html#returning-a-view-versus-a-copy\n",
      "  X_train_fold['brand_return_rate'] = X_train_fold['brand_id'].map(brand_return_rates)\n",
      "/var/folders/4f/3w_37fps2jl_9bqnhfpl8d8h0000gn/T/ipykernel_45625/3264776615.py:19: SettingWithCopyWarning: \n",
      "A value is trying to be set on a copy of a slice from a DataFrame.\n",
      "Try using .loc[row_indexer,col_indexer] = value instead\n",
      "\n",
      "See the caveats in the documentation: https://pandas.pydata.org/pandas-docs/stable/user_guide/indexing.html#returning-a-view-versus-a-copy\n",
      "  X_val_fold['user_return_rate'] = X_val_fold['user_id'].map(user_return_rates).fillna(default_fill_value)\n",
      "/var/folders/4f/3w_37fps2jl_9bqnhfpl8d8h0000gn/T/ipykernel_45625/3264776615.py:20: SettingWithCopyWarning: \n",
      "A value is trying to be set on a copy of a slice from a DataFrame.\n",
      "Try using .loc[row_indexer,col_indexer] = value instead\n",
      "\n",
      "See the caveats in the documentation: https://pandas.pydata.org/pandas-docs/stable/user_guide/indexing.html#returning-a-view-versus-a-copy\n",
      "  X_val_fold['brand_return_rate'] = X_val_fold['brand_id'].map(brand_return_rates).fillna(default_fill_value)\n",
      "/var/folders/4f/3w_37fps2jl_9bqnhfpl8d8h0000gn/T/ipykernel_45625/3264776615.py:23: SettingWithCopyWarning: \n",
      "A value is trying to be set on a copy of a slice from a DataFrame\n",
      "\n",
      "See the caveats in the documentation: https://pandas.pydata.org/pandas-docs/stable/user_guide/indexing.html#returning-a-view-versus-a-copy\n",
      "  X_train_fold.drop(['return', 'user_id', 'brand_id'], axis=1, inplace=True)\n",
      "/var/folders/4f/3w_37fps2jl_9bqnhfpl8d8h0000gn/T/ipykernel_45625/3264776615.py:24: SettingWithCopyWarning: \n",
      "A value is trying to be set on a copy of a slice from a DataFrame\n",
      "\n",
      "See the caveats in the documentation: https://pandas.pydata.org/pandas-docs/stable/user_guide/indexing.html#returning-a-view-versus-a-copy\n",
      "  X_val_fold.drop(['return', 'user_id', 'brand_id'], axis=1, inplace=True)\n",
      "/var/folders/4f/3w_37fps2jl_9bqnhfpl8d8h0000gn/T/ipykernel_45625/3264776615.py:27: SettingWithCopyWarning: \n",
      "A value is trying to be set on a copy of a slice from a DataFrame.\n",
      "Try using .loc[row_indexer,col_indexer] = value instead\n",
      "\n",
      "See the caveats in the documentation: https://pandas.pydata.org/pandas-docs/stable/user_guide/indexing.html#returning-a-view-versus-a-copy\n",
      "  X_train_fold['log_item_price * is_bday'] = X_train_fold['log_item_price'] * X_train_fold['is_bday']\n",
      "/var/folders/4f/3w_37fps2jl_9bqnhfpl8d8h0000gn/T/ipykernel_45625/3264776615.py:28: SettingWithCopyWarning: \n",
      "A value is trying to be set on a copy of a slice from a DataFrame.\n",
      "Try using .loc[row_indexer,col_indexer] = value instead\n",
      "\n",
      "See the caveats in the documentation: https://pandas.pydata.org/pandas-docs/stable/user_guide/indexing.html#returning-a-view-versus-a-copy\n",
      "  X_train_fold['log_age * log_avg_freq_purchases'] = X_train_fold['log_age'] * X_train_fold['log_avg_freq_purchases']\n",
      "/var/folders/4f/3w_37fps2jl_9bqnhfpl8d8h0000gn/T/ipykernel_45625/3264776615.py:29: SettingWithCopyWarning: \n",
      "A value is trying to be set on a copy of a slice from a DataFrame.\n",
      "Try using .loc[row_indexer,col_indexer] = value instead\n",
      "\n",
      "See the caveats in the documentation: https://pandas.pydata.org/pandas-docs/stable/user_guide/indexing.html#returning-a-view-versus-a-copy\n",
      "  X_train_fold['log_no_items * log_avg_freq_purchases'] = X_train_fold['log_no_items'] * X_train_fold['log_avg_freq_purchases']\n",
      "/var/folders/4f/3w_37fps2jl_9bqnhfpl8d8h0000gn/T/ipykernel_45625/3264776615.py:30: SettingWithCopyWarning: \n",
      "A value is trying to be set on a copy of a slice from a DataFrame.\n",
      "Try using .loc[row_indexer,col_indexer] = value instead\n",
      "\n",
      "See the caveats in the documentation: https://pandas.pydata.org/pandas-docs/stable/user_guide/indexing.html#returning-a-view-versus-a-copy\n",
      "  X_train_fold['log_item_price * brand_return_rate'] = X_train_fold['log_item_price'] * X_train_fold['brand_return_rate']\n",
      "/var/folders/4f/3w_37fps2jl_9bqnhfpl8d8h0000gn/T/ipykernel_45625/3264776615.py:31: SettingWithCopyWarning: \n",
      "A value is trying to be set on a copy of a slice from a DataFrame.\n",
      "Try using .loc[row_indexer,col_indexer] = value instead\n",
      "\n",
      "See the caveats in the documentation: https://pandas.pydata.org/pandas-docs/stable/user_guide/indexing.html#returning-a-view-versus-a-copy\n",
      "  X_train_fold['most_returned_color * brand_return_rate'] = X_train_fold['most_returned_color'] * X_train_fold['brand_return_rate']\n",
      "/var/folders/4f/3w_37fps2jl_9bqnhfpl8d8h0000gn/T/ipykernel_45625/3264776615.py:32: SettingWithCopyWarning: \n",
      "A value is trying to be set on a copy of a slice from a DataFrame.\n",
      "Try using .loc[row_indexer,col_indexer] = value instead\n",
      "\n",
      "See the caveats in the documentation: https://pandas.pydata.org/pandas-docs/stable/user_guide/indexing.html#returning-a-view-versus-a-copy\n",
      "  X_train_fold['least_returned_color * brand_return_rate'] = X_train_fold['least_returned_color'] * X_train_fold['brand_return_rate']\n",
      "/var/folders/4f/3w_37fps2jl_9bqnhfpl8d8h0000gn/T/ipykernel_45625/3264776615.py:34: SettingWithCopyWarning: \n",
      "A value is trying to be set on a copy of a slice from a DataFrame.\n",
      "Try using .loc[row_indexer,col_indexer] = value instead\n",
      "\n",
      "See the caveats in the documentation: https://pandas.pydata.org/pandas-docs/stable/user_guide/indexing.html#returning-a-view-versus-a-copy\n",
      "  X_val_fold['log_item_price * is_bday'] = X_val_fold['log_item_price'] * X_val_fold['is_bday']\n",
      "/var/folders/4f/3w_37fps2jl_9bqnhfpl8d8h0000gn/T/ipykernel_45625/3264776615.py:35: SettingWithCopyWarning: \n",
      "A value is trying to be set on a copy of a slice from a DataFrame.\n",
      "Try using .loc[row_indexer,col_indexer] = value instead\n",
      "\n",
      "See the caveats in the documentation: https://pandas.pydata.org/pandas-docs/stable/user_guide/indexing.html#returning-a-view-versus-a-copy\n",
      "  X_val_fold['log_age * log_avg_freq_purchases'] = X_val_fold['log_age'] * X_val_fold['log_avg_freq_purchases']\n",
      "/var/folders/4f/3w_37fps2jl_9bqnhfpl8d8h0000gn/T/ipykernel_45625/3264776615.py:36: SettingWithCopyWarning: \n",
      "A value is trying to be set on a copy of a slice from a DataFrame.\n",
      "Try using .loc[row_indexer,col_indexer] = value instead\n",
      "\n",
      "See the caveats in the documentation: https://pandas.pydata.org/pandas-docs/stable/user_guide/indexing.html#returning-a-view-versus-a-copy\n",
      "  X_val_fold['log_no_items * log_avg_freq_purchases'] = X_val_fold['log_no_items'] * X_val_fold['log_avg_freq_purchases']\n",
      "/var/folders/4f/3w_37fps2jl_9bqnhfpl8d8h0000gn/T/ipykernel_45625/3264776615.py:37: SettingWithCopyWarning: \n",
      "A value is trying to be set on a copy of a slice from a DataFrame.\n",
      "Try using .loc[row_indexer,col_indexer] = value instead\n",
      "\n",
      "See the caveats in the documentation: https://pandas.pydata.org/pandas-docs/stable/user_guide/indexing.html#returning-a-view-versus-a-copy\n",
      "  X_val_fold['log_item_price * brand_return_rate'] = X_val_fold['log_item_price'] * X_val_fold['brand_return_rate']\n",
      "/var/folders/4f/3w_37fps2jl_9bqnhfpl8d8h0000gn/T/ipykernel_45625/3264776615.py:38: SettingWithCopyWarning: \n",
      "A value is trying to be set on a copy of a slice from a DataFrame.\n",
      "Try using .loc[row_indexer,col_indexer] = value instead\n",
      "\n",
      "See the caveats in the documentation: https://pandas.pydata.org/pandas-docs/stable/user_guide/indexing.html#returning-a-view-versus-a-copy\n",
      "  X_val_fold['most_returned_color * brand_return_rate'] = X_val_fold['most_returned_color'] * X_val_fold['brand_return_rate']\n",
      "/var/folders/4f/3w_37fps2jl_9bqnhfpl8d8h0000gn/T/ipykernel_45625/3264776615.py:39: SettingWithCopyWarning: \n",
      "A value is trying to be set on a copy of a slice from a DataFrame.\n",
      "Try using .loc[row_indexer,col_indexer] = value instead\n",
      "\n",
      "See the caveats in the documentation: https://pandas.pydata.org/pandas-docs/stable/user_guide/indexing.html#returning-a-view-versus-a-copy\n",
      "  X_val_fold['least_returned_color * brand_return_rate'] = X_val_fold['least_returned_color'] * X_val_fold['brand_return_rate']\n",
      "/var/folders/4f/3w_37fps2jl_9bqnhfpl8d8h0000gn/T/ipykernel_45625/3264776615.py:15: SettingWithCopyWarning: \n",
      "A value is trying to be set on a copy of a slice from a DataFrame.\n",
      "Try using .loc[row_indexer,col_indexer] = value instead\n",
      "\n",
      "See the caveats in the documentation: https://pandas.pydata.org/pandas-docs/stable/user_guide/indexing.html#returning-a-view-versus-a-copy\n",
      "  X_train_fold['user_return_rate'] = X_train_fold['user_id'].map(user_return_rates)\n",
      "/var/folders/4f/3w_37fps2jl_9bqnhfpl8d8h0000gn/T/ipykernel_45625/3264776615.py:16: SettingWithCopyWarning: \n",
      "A value is trying to be set on a copy of a slice from a DataFrame.\n",
      "Try using .loc[row_indexer,col_indexer] = value instead\n",
      "\n",
      "See the caveats in the documentation: https://pandas.pydata.org/pandas-docs/stable/user_guide/indexing.html#returning-a-view-versus-a-copy\n",
      "  X_train_fold['brand_return_rate'] = X_train_fold['brand_id'].map(brand_return_rates)\n",
      "/var/folders/4f/3w_37fps2jl_9bqnhfpl8d8h0000gn/T/ipykernel_45625/3264776615.py:19: SettingWithCopyWarning: \n",
      "A value is trying to be set on a copy of a slice from a DataFrame.\n",
      "Try using .loc[row_indexer,col_indexer] = value instead\n",
      "\n",
      "See the caveats in the documentation: https://pandas.pydata.org/pandas-docs/stable/user_guide/indexing.html#returning-a-view-versus-a-copy\n",
      "  X_val_fold['user_return_rate'] = X_val_fold['user_id'].map(user_return_rates).fillna(default_fill_value)\n",
      "/var/folders/4f/3w_37fps2jl_9bqnhfpl8d8h0000gn/T/ipykernel_45625/3264776615.py:20: SettingWithCopyWarning: \n",
      "A value is trying to be set on a copy of a slice from a DataFrame.\n",
      "Try using .loc[row_indexer,col_indexer] = value instead\n",
      "\n",
      "See the caveats in the documentation: https://pandas.pydata.org/pandas-docs/stable/user_guide/indexing.html#returning-a-view-versus-a-copy\n",
      "  X_val_fold['brand_return_rate'] = X_val_fold['brand_id'].map(brand_return_rates).fillna(default_fill_value)\n",
      "/var/folders/4f/3w_37fps2jl_9bqnhfpl8d8h0000gn/T/ipykernel_45625/3264776615.py:23: SettingWithCopyWarning: \n",
      "A value is trying to be set on a copy of a slice from a DataFrame\n",
      "\n",
      "See the caveats in the documentation: https://pandas.pydata.org/pandas-docs/stable/user_guide/indexing.html#returning-a-view-versus-a-copy\n",
      "  X_train_fold.drop(['return', 'user_id', 'brand_id'], axis=1, inplace=True)\n",
      "/var/folders/4f/3w_37fps2jl_9bqnhfpl8d8h0000gn/T/ipykernel_45625/3264776615.py:24: SettingWithCopyWarning: \n",
      "A value is trying to be set on a copy of a slice from a DataFrame\n",
      "\n",
      "See the caveats in the documentation: https://pandas.pydata.org/pandas-docs/stable/user_guide/indexing.html#returning-a-view-versus-a-copy\n",
      "  X_val_fold.drop(['return', 'user_id', 'brand_id'], axis=1, inplace=True)\n",
      "/var/folders/4f/3w_37fps2jl_9bqnhfpl8d8h0000gn/T/ipykernel_45625/3264776615.py:27: SettingWithCopyWarning: \n",
      "A value is trying to be set on a copy of a slice from a DataFrame.\n",
      "Try using .loc[row_indexer,col_indexer] = value instead\n",
      "\n",
      "See the caveats in the documentation: https://pandas.pydata.org/pandas-docs/stable/user_guide/indexing.html#returning-a-view-versus-a-copy\n",
      "  X_train_fold['log_item_price * is_bday'] = X_train_fold['log_item_price'] * X_train_fold['is_bday']\n",
      "/var/folders/4f/3w_37fps2jl_9bqnhfpl8d8h0000gn/T/ipykernel_45625/3264776615.py:28: SettingWithCopyWarning: \n",
      "A value is trying to be set on a copy of a slice from a DataFrame.\n",
      "Try using .loc[row_indexer,col_indexer] = value instead\n",
      "\n",
      "See the caveats in the documentation: https://pandas.pydata.org/pandas-docs/stable/user_guide/indexing.html#returning-a-view-versus-a-copy\n",
      "  X_train_fold['log_age * log_avg_freq_purchases'] = X_train_fold['log_age'] * X_train_fold['log_avg_freq_purchases']\n",
      "/var/folders/4f/3w_37fps2jl_9bqnhfpl8d8h0000gn/T/ipykernel_45625/3264776615.py:29: SettingWithCopyWarning: \n",
      "A value is trying to be set on a copy of a slice from a DataFrame.\n",
      "Try using .loc[row_indexer,col_indexer] = value instead\n",
      "\n",
      "See the caveats in the documentation: https://pandas.pydata.org/pandas-docs/stable/user_guide/indexing.html#returning-a-view-versus-a-copy\n",
      "  X_train_fold['log_no_items * log_avg_freq_purchases'] = X_train_fold['log_no_items'] * X_train_fold['log_avg_freq_purchases']\n",
      "/var/folders/4f/3w_37fps2jl_9bqnhfpl8d8h0000gn/T/ipykernel_45625/3264776615.py:30: SettingWithCopyWarning: \n",
      "A value is trying to be set on a copy of a slice from a DataFrame.\n",
      "Try using .loc[row_indexer,col_indexer] = value instead\n",
      "\n",
      "See the caveats in the documentation: https://pandas.pydata.org/pandas-docs/stable/user_guide/indexing.html#returning-a-view-versus-a-copy\n",
      "  X_train_fold['log_item_price * brand_return_rate'] = X_train_fold['log_item_price'] * X_train_fold['brand_return_rate']\n",
      "/var/folders/4f/3w_37fps2jl_9bqnhfpl8d8h0000gn/T/ipykernel_45625/3264776615.py:31: SettingWithCopyWarning: \n",
      "A value is trying to be set on a copy of a slice from a DataFrame.\n",
      "Try using .loc[row_indexer,col_indexer] = value instead\n",
      "\n",
      "See the caveats in the documentation: https://pandas.pydata.org/pandas-docs/stable/user_guide/indexing.html#returning-a-view-versus-a-copy\n",
      "  X_train_fold['most_returned_color * brand_return_rate'] = X_train_fold['most_returned_color'] * X_train_fold['brand_return_rate']\n",
      "/var/folders/4f/3w_37fps2jl_9bqnhfpl8d8h0000gn/T/ipykernel_45625/3264776615.py:32: SettingWithCopyWarning: \n",
      "A value is trying to be set on a copy of a slice from a DataFrame.\n",
      "Try using .loc[row_indexer,col_indexer] = value instead\n",
      "\n",
      "See the caveats in the documentation: https://pandas.pydata.org/pandas-docs/stable/user_guide/indexing.html#returning-a-view-versus-a-copy\n",
      "  X_train_fold['least_returned_color * brand_return_rate'] = X_train_fold['least_returned_color'] * X_train_fold['brand_return_rate']\n",
      "/var/folders/4f/3w_37fps2jl_9bqnhfpl8d8h0000gn/T/ipykernel_45625/3264776615.py:34: SettingWithCopyWarning: \n",
      "A value is trying to be set on a copy of a slice from a DataFrame.\n",
      "Try using .loc[row_indexer,col_indexer] = value instead\n",
      "\n",
      "See the caveats in the documentation: https://pandas.pydata.org/pandas-docs/stable/user_guide/indexing.html#returning-a-view-versus-a-copy\n",
      "  X_val_fold['log_item_price * is_bday'] = X_val_fold['log_item_price'] * X_val_fold['is_bday']\n",
      "/var/folders/4f/3w_37fps2jl_9bqnhfpl8d8h0000gn/T/ipykernel_45625/3264776615.py:35: SettingWithCopyWarning: \n",
      "A value is trying to be set on a copy of a slice from a DataFrame.\n",
      "Try using .loc[row_indexer,col_indexer] = value instead\n",
      "\n",
      "See the caveats in the documentation: https://pandas.pydata.org/pandas-docs/stable/user_guide/indexing.html#returning-a-view-versus-a-copy\n",
      "  X_val_fold['log_age * log_avg_freq_purchases'] = X_val_fold['log_age'] * X_val_fold['log_avg_freq_purchases']\n",
      "/var/folders/4f/3w_37fps2jl_9bqnhfpl8d8h0000gn/T/ipykernel_45625/3264776615.py:36: SettingWithCopyWarning: \n",
      "A value is trying to be set on a copy of a slice from a DataFrame.\n",
      "Try using .loc[row_indexer,col_indexer] = value instead\n",
      "\n",
      "See the caveats in the documentation: https://pandas.pydata.org/pandas-docs/stable/user_guide/indexing.html#returning-a-view-versus-a-copy\n",
      "  X_val_fold['log_no_items * log_avg_freq_purchases'] = X_val_fold['log_no_items'] * X_val_fold['log_avg_freq_purchases']\n",
      "/var/folders/4f/3w_37fps2jl_9bqnhfpl8d8h0000gn/T/ipykernel_45625/3264776615.py:37: SettingWithCopyWarning: \n",
      "A value is trying to be set on a copy of a slice from a DataFrame.\n",
      "Try using .loc[row_indexer,col_indexer] = value instead\n",
      "\n",
      "See the caveats in the documentation: https://pandas.pydata.org/pandas-docs/stable/user_guide/indexing.html#returning-a-view-versus-a-copy\n",
      "  X_val_fold['log_item_price * brand_return_rate'] = X_val_fold['log_item_price'] * X_val_fold['brand_return_rate']\n",
      "/var/folders/4f/3w_37fps2jl_9bqnhfpl8d8h0000gn/T/ipykernel_45625/3264776615.py:38: SettingWithCopyWarning: \n",
      "A value is trying to be set on a copy of a slice from a DataFrame.\n",
      "Try using .loc[row_indexer,col_indexer] = value instead\n",
      "\n",
      "See the caveats in the documentation: https://pandas.pydata.org/pandas-docs/stable/user_guide/indexing.html#returning-a-view-versus-a-copy\n",
      "  X_val_fold['most_returned_color * brand_return_rate'] = X_val_fold['most_returned_color'] * X_val_fold['brand_return_rate']\n",
      "/var/folders/4f/3w_37fps2jl_9bqnhfpl8d8h0000gn/T/ipykernel_45625/3264776615.py:39: SettingWithCopyWarning: \n",
      "A value is trying to be set on a copy of a slice from a DataFrame.\n",
      "Try using .loc[row_indexer,col_indexer] = value instead\n",
      "\n",
      "See the caveats in the documentation: https://pandas.pydata.org/pandas-docs/stable/user_guide/indexing.html#returning-a-view-versus-a-copy\n",
      "  X_val_fold['least_returned_color * brand_return_rate'] = X_val_fold['least_returned_color'] * X_val_fold['brand_return_rate']\n",
      "/var/folders/4f/3w_37fps2jl_9bqnhfpl8d8h0000gn/T/ipykernel_45625/3264776615.py:15: SettingWithCopyWarning: \n",
      "A value is trying to be set on a copy of a slice from a DataFrame.\n",
      "Try using .loc[row_indexer,col_indexer] = value instead\n",
      "\n",
      "See the caveats in the documentation: https://pandas.pydata.org/pandas-docs/stable/user_guide/indexing.html#returning-a-view-versus-a-copy\n",
      "  X_train_fold['user_return_rate'] = X_train_fold['user_id'].map(user_return_rates)\n",
      "/var/folders/4f/3w_37fps2jl_9bqnhfpl8d8h0000gn/T/ipykernel_45625/3264776615.py:16: SettingWithCopyWarning: \n",
      "A value is trying to be set on a copy of a slice from a DataFrame.\n",
      "Try using .loc[row_indexer,col_indexer] = value instead\n",
      "\n",
      "See the caveats in the documentation: https://pandas.pydata.org/pandas-docs/stable/user_guide/indexing.html#returning-a-view-versus-a-copy\n",
      "  X_train_fold['brand_return_rate'] = X_train_fold['brand_id'].map(brand_return_rates)\n",
      "/var/folders/4f/3w_37fps2jl_9bqnhfpl8d8h0000gn/T/ipykernel_45625/3264776615.py:19: SettingWithCopyWarning: \n",
      "A value is trying to be set on a copy of a slice from a DataFrame.\n",
      "Try using .loc[row_indexer,col_indexer] = value instead\n",
      "\n",
      "See the caveats in the documentation: https://pandas.pydata.org/pandas-docs/stable/user_guide/indexing.html#returning-a-view-versus-a-copy\n",
      "  X_val_fold['user_return_rate'] = X_val_fold['user_id'].map(user_return_rates).fillna(default_fill_value)\n",
      "/var/folders/4f/3w_37fps2jl_9bqnhfpl8d8h0000gn/T/ipykernel_45625/3264776615.py:20: SettingWithCopyWarning: \n",
      "A value is trying to be set on a copy of a slice from a DataFrame.\n",
      "Try using .loc[row_indexer,col_indexer] = value instead\n",
      "\n",
      "See the caveats in the documentation: https://pandas.pydata.org/pandas-docs/stable/user_guide/indexing.html#returning-a-view-versus-a-copy\n",
      "  X_val_fold['brand_return_rate'] = X_val_fold['brand_id'].map(brand_return_rates).fillna(default_fill_value)\n",
      "/var/folders/4f/3w_37fps2jl_9bqnhfpl8d8h0000gn/T/ipykernel_45625/3264776615.py:23: SettingWithCopyWarning: \n",
      "A value is trying to be set on a copy of a slice from a DataFrame\n",
      "\n",
      "See the caveats in the documentation: https://pandas.pydata.org/pandas-docs/stable/user_guide/indexing.html#returning-a-view-versus-a-copy\n",
      "  X_train_fold.drop(['return', 'user_id', 'brand_id'], axis=1, inplace=True)\n",
      "/var/folders/4f/3w_37fps2jl_9bqnhfpl8d8h0000gn/T/ipykernel_45625/3264776615.py:24: SettingWithCopyWarning: \n",
      "A value is trying to be set on a copy of a slice from a DataFrame\n",
      "\n",
      "See the caveats in the documentation: https://pandas.pydata.org/pandas-docs/stable/user_guide/indexing.html#returning-a-view-versus-a-copy\n",
      "  X_val_fold.drop(['return', 'user_id', 'brand_id'], axis=1, inplace=True)\n",
      "/var/folders/4f/3w_37fps2jl_9bqnhfpl8d8h0000gn/T/ipykernel_45625/3264776615.py:27: SettingWithCopyWarning: \n",
      "A value is trying to be set on a copy of a slice from a DataFrame.\n",
      "Try using .loc[row_indexer,col_indexer] = value instead\n",
      "\n",
      "See the caveats in the documentation: https://pandas.pydata.org/pandas-docs/stable/user_guide/indexing.html#returning-a-view-versus-a-copy\n",
      "  X_train_fold['log_item_price * is_bday'] = X_train_fold['log_item_price'] * X_train_fold['is_bday']\n",
      "/var/folders/4f/3w_37fps2jl_9bqnhfpl8d8h0000gn/T/ipykernel_45625/3264776615.py:28: SettingWithCopyWarning: \n",
      "A value is trying to be set on a copy of a slice from a DataFrame.\n",
      "Try using .loc[row_indexer,col_indexer] = value instead\n",
      "\n",
      "See the caveats in the documentation: https://pandas.pydata.org/pandas-docs/stable/user_guide/indexing.html#returning-a-view-versus-a-copy\n",
      "  X_train_fold['log_age * log_avg_freq_purchases'] = X_train_fold['log_age'] * X_train_fold['log_avg_freq_purchases']\n",
      "/var/folders/4f/3w_37fps2jl_9bqnhfpl8d8h0000gn/T/ipykernel_45625/3264776615.py:29: SettingWithCopyWarning: \n",
      "A value is trying to be set on a copy of a slice from a DataFrame.\n",
      "Try using .loc[row_indexer,col_indexer] = value instead\n",
      "\n",
      "See the caveats in the documentation: https://pandas.pydata.org/pandas-docs/stable/user_guide/indexing.html#returning-a-view-versus-a-copy\n",
      "  X_train_fold['log_no_items * log_avg_freq_purchases'] = X_train_fold['log_no_items'] * X_train_fold['log_avg_freq_purchases']\n",
      "/var/folders/4f/3w_37fps2jl_9bqnhfpl8d8h0000gn/T/ipykernel_45625/3264776615.py:30: SettingWithCopyWarning: \n",
      "A value is trying to be set on a copy of a slice from a DataFrame.\n",
      "Try using .loc[row_indexer,col_indexer] = value instead\n",
      "\n",
      "See the caveats in the documentation: https://pandas.pydata.org/pandas-docs/stable/user_guide/indexing.html#returning-a-view-versus-a-copy\n",
      "  X_train_fold['log_item_price * brand_return_rate'] = X_train_fold['log_item_price'] * X_train_fold['brand_return_rate']\n",
      "/var/folders/4f/3w_37fps2jl_9bqnhfpl8d8h0000gn/T/ipykernel_45625/3264776615.py:31: SettingWithCopyWarning: \n",
      "A value is trying to be set on a copy of a slice from a DataFrame.\n",
      "Try using .loc[row_indexer,col_indexer] = value instead\n",
      "\n",
      "See the caveats in the documentation: https://pandas.pydata.org/pandas-docs/stable/user_guide/indexing.html#returning-a-view-versus-a-copy\n",
      "  X_train_fold['most_returned_color * brand_return_rate'] = X_train_fold['most_returned_color'] * X_train_fold['brand_return_rate']\n",
      "/var/folders/4f/3w_37fps2jl_9bqnhfpl8d8h0000gn/T/ipykernel_45625/3264776615.py:32: SettingWithCopyWarning: \n",
      "A value is trying to be set on a copy of a slice from a DataFrame.\n",
      "Try using .loc[row_indexer,col_indexer] = value instead\n",
      "\n",
      "See the caveats in the documentation: https://pandas.pydata.org/pandas-docs/stable/user_guide/indexing.html#returning-a-view-versus-a-copy\n",
      "  X_train_fold['least_returned_color * brand_return_rate'] = X_train_fold['least_returned_color'] * X_train_fold['brand_return_rate']\n",
      "/var/folders/4f/3w_37fps2jl_9bqnhfpl8d8h0000gn/T/ipykernel_45625/3264776615.py:34: SettingWithCopyWarning: \n",
      "A value is trying to be set on a copy of a slice from a DataFrame.\n",
      "Try using .loc[row_indexer,col_indexer] = value instead\n",
      "\n",
      "See the caveats in the documentation: https://pandas.pydata.org/pandas-docs/stable/user_guide/indexing.html#returning-a-view-versus-a-copy\n",
      "  X_val_fold['log_item_price * is_bday'] = X_val_fold['log_item_price'] * X_val_fold['is_bday']\n",
      "/var/folders/4f/3w_37fps2jl_9bqnhfpl8d8h0000gn/T/ipykernel_45625/3264776615.py:35: SettingWithCopyWarning: \n",
      "A value is trying to be set on a copy of a slice from a DataFrame.\n",
      "Try using .loc[row_indexer,col_indexer] = value instead\n",
      "\n",
      "See the caveats in the documentation: https://pandas.pydata.org/pandas-docs/stable/user_guide/indexing.html#returning-a-view-versus-a-copy\n",
      "  X_val_fold['log_age * log_avg_freq_purchases'] = X_val_fold['log_age'] * X_val_fold['log_avg_freq_purchases']\n",
      "/var/folders/4f/3w_37fps2jl_9bqnhfpl8d8h0000gn/T/ipykernel_45625/3264776615.py:36: SettingWithCopyWarning: \n",
      "A value is trying to be set on a copy of a slice from a DataFrame.\n",
      "Try using .loc[row_indexer,col_indexer] = value instead\n",
      "\n",
      "See the caveats in the documentation: https://pandas.pydata.org/pandas-docs/stable/user_guide/indexing.html#returning-a-view-versus-a-copy\n",
      "  X_val_fold['log_no_items * log_avg_freq_purchases'] = X_val_fold['log_no_items'] * X_val_fold['log_avg_freq_purchases']\n",
      "/var/folders/4f/3w_37fps2jl_9bqnhfpl8d8h0000gn/T/ipykernel_45625/3264776615.py:37: SettingWithCopyWarning: \n",
      "A value is trying to be set on a copy of a slice from a DataFrame.\n",
      "Try using .loc[row_indexer,col_indexer] = value instead\n",
      "\n",
      "See the caveats in the documentation: https://pandas.pydata.org/pandas-docs/stable/user_guide/indexing.html#returning-a-view-versus-a-copy\n",
      "  X_val_fold['log_item_price * brand_return_rate'] = X_val_fold['log_item_price'] * X_val_fold['brand_return_rate']\n",
      "/var/folders/4f/3w_37fps2jl_9bqnhfpl8d8h0000gn/T/ipykernel_45625/3264776615.py:38: SettingWithCopyWarning: \n",
      "A value is trying to be set on a copy of a slice from a DataFrame.\n",
      "Try using .loc[row_indexer,col_indexer] = value instead\n",
      "\n",
      "See the caveats in the documentation: https://pandas.pydata.org/pandas-docs/stable/user_guide/indexing.html#returning-a-view-versus-a-copy\n",
      "  X_val_fold['most_returned_color * brand_return_rate'] = X_val_fold['most_returned_color'] * X_val_fold['brand_return_rate']\n",
      "/var/folders/4f/3w_37fps2jl_9bqnhfpl8d8h0000gn/T/ipykernel_45625/3264776615.py:39: SettingWithCopyWarning: \n",
      "A value is trying to be set on a copy of a slice from a DataFrame.\n",
      "Try using .loc[row_indexer,col_indexer] = value instead\n",
      "\n",
      "See the caveats in the documentation: https://pandas.pydata.org/pandas-docs/stable/user_guide/indexing.html#returning-a-view-versus-a-copy\n",
      "  X_val_fold['least_returned_color * brand_return_rate'] = X_val_fold['least_returned_color'] * X_val_fold['brand_return_rate']\n",
      "/var/folders/4f/3w_37fps2jl_9bqnhfpl8d8h0000gn/T/ipykernel_45625/3264776615.py:15: SettingWithCopyWarning: \n",
      "A value is trying to be set on a copy of a slice from a DataFrame.\n",
      "Try using .loc[row_indexer,col_indexer] = value instead\n",
      "\n",
      "See the caveats in the documentation: https://pandas.pydata.org/pandas-docs/stable/user_guide/indexing.html#returning-a-view-versus-a-copy\n",
      "  X_train_fold['user_return_rate'] = X_train_fold['user_id'].map(user_return_rates)\n",
      "/var/folders/4f/3w_37fps2jl_9bqnhfpl8d8h0000gn/T/ipykernel_45625/3264776615.py:16: SettingWithCopyWarning: \n",
      "A value is trying to be set on a copy of a slice from a DataFrame.\n",
      "Try using .loc[row_indexer,col_indexer] = value instead\n",
      "\n",
      "See the caveats in the documentation: https://pandas.pydata.org/pandas-docs/stable/user_guide/indexing.html#returning-a-view-versus-a-copy\n",
      "  X_train_fold['brand_return_rate'] = X_train_fold['brand_id'].map(brand_return_rates)\n",
      "/var/folders/4f/3w_37fps2jl_9bqnhfpl8d8h0000gn/T/ipykernel_45625/3264776615.py:19: SettingWithCopyWarning: \n",
      "A value is trying to be set on a copy of a slice from a DataFrame.\n",
      "Try using .loc[row_indexer,col_indexer] = value instead\n",
      "\n",
      "See the caveats in the documentation: https://pandas.pydata.org/pandas-docs/stable/user_guide/indexing.html#returning-a-view-versus-a-copy\n",
      "  X_val_fold['user_return_rate'] = X_val_fold['user_id'].map(user_return_rates).fillna(default_fill_value)\n",
      "/var/folders/4f/3w_37fps2jl_9bqnhfpl8d8h0000gn/T/ipykernel_45625/3264776615.py:20: SettingWithCopyWarning: \n",
      "A value is trying to be set on a copy of a slice from a DataFrame.\n",
      "Try using .loc[row_indexer,col_indexer] = value instead\n",
      "\n",
      "See the caveats in the documentation: https://pandas.pydata.org/pandas-docs/stable/user_guide/indexing.html#returning-a-view-versus-a-copy\n",
      "  X_val_fold['brand_return_rate'] = X_val_fold['brand_id'].map(brand_return_rates).fillna(default_fill_value)\n",
      "/var/folders/4f/3w_37fps2jl_9bqnhfpl8d8h0000gn/T/ipykernel_45625/3264776615.py:23: SettingWithCopyWarning: \n",
      "A value is trying to be set on a copy of a slice from a DataFrame\n",
      "\n",
      "See the caveats in the documentation: https://pandas.pydata.org/pandas-docs/stable/user_guide/indexing.html#returning-a-view-versus-a-copy\n",
      "  X_train_fold.drop(['return', 'user_id', 'brand_id'], axis=1, inplace=True)\n",
      "/var/folders/4f/3w_37fps2jl_9bqnhfpl8d8h0000gn/T/ipykernel_45625/3264776615.py:24: SettingWithCopyWarning: \n",
      "A value is trying to be set on a copy of a slice from a DataFrame\n",
      "\n",
      "See the caveats in the documentation: https://pandas.pydata.org/pandas-docs/stable/user_guide/indexing.html#returning-a-view-versus-a-copy\n",
      "  X_val_fold.drop(['return', 'user_id', 'brand_id'], axis=1, inplace=True)\n",
      "/var/folders/4f/3w_37fps2jl_9bqnhfpl8d8h0000gn/T/ipykernel_45625/3264776615.py:27: SettingWithCopyWarning: \n",
      "A value is trying to be set on a copy of a slice from a DataFrame.\n",
      "Try using .loc[row_indexer,col_indexer] = value instead\n",
      "\n",
      "See the caveats in the documentation: https://pandas.pydata.org/pandas-docs/stable/user_guide/indexing.html#returning-a-view-versus-a-copy\n",
      "  X_train_fold['log_item_price * is_bday'] = X_train_fold['log_item_price'] * X_train_fold['is_bday']\n",
      "/var/folders/4f/3w_37fps2jl_9bqnhfpl8d8h0000gn/T/ipykernel_45625/3264776615.py:28: SettingWithCopyWarning: \n",
      "A value is trying to be set on a copy of a slice from a DataFrame.\n",
      "Try using .loc[row_indexer,col_indexer] = value instead\n",
      "\n",
      "See the caveats in the documentation: https://pandas.pydata.org/pandas-docs/stable/user_guide/indexing.html#returning-a-view-versus-a-copy\n",
      "  X_train_fold['log_age * log_avg_freq_purchases'] = X_train_fold['log_age'] * X_train_fold['log_avg_freq_purchases']\n",
      "/var/folders/4f/3w_37fps2jl_9bqnhfpl8d8h0000gn/T/ipykernel_45625/3264776615.py:29: SettingWithCopyWarning: \n",
      "A value is trying to be set on a copy of a slice from a DataFrame.\n",
      "Try using .loc[row_indexer,col_indexer] = value instead\n",
      "\n",
      "See the caveats in the documentation: https://pandas.pydata.org/pandas-docs/stable/user_guide/indexing.html#returning-a-view-versus-a-copy\n",
      "  X_train_fold['log_no_items * log_avg_freq_purchases'] = X_train_fold['log_no_items'] * X_train_fold['log_avg_freq_purchases']\n",
      "/var/folders/4f/3w_37fps2jl_9bqnhfpl8d8h0000gn/T/ipykernel_45625/3264776615.py:30: SettingWithCopyWarning: \n",
      "A value is trying to be set on a copy of a slice from a DataFrame.\n",
      "Try using .loc[row_indexer,col_indexer] = value instead\n",
      "\n",
      "See the caveats in the documentation: https://pandas.pydata.org/pandas-docs/stable/user_guide/indexing.html#returning-a-view-versus-a-copy\n",
      "  X_train_fold['log_item_price * brand_return_rate'] = X_train_fold['log_item_price'] * X_train_fold['brand_return_rate']\n",
      "/var/folders/4f/3w_37fps2jl_9bqnhfpl8d8h0000gn/T/ipykernel_45625/3264776615.py:31: SettingWithCopyWarning: \n",
      "A value is trying to be set on a copy of a slice from a DataFrame.\n",
      "Try using .loc[row_indexer,col_indexer] = value instead\n",
      "\n",
      "See the caveats in the documentation: https://pandas.pydata.org/pandas-docs/stable/user_guide/indexing.html#returning-a-view-versus-a-copy\n",
      "  X_train_fold['most_returned_color * brand_return_rate'] = X_train_fold['most_returned_color'] * X_train_fold['brand_return_rate']\n",
      "/var/folders/4f/3w_37fps2jl_9bqnhfpl8d8h0000gn/T/ipykernel_45625/3264776615.py:32: SettingWithCopyWarning: \n",
      "A value is trying to be set on a copy of a slice from a DataFrame.\n",
      "Try using .loc[row_indexer,col_indexer] = value instead\n",
      "\n",
      "See the caveats in the documentation: https://pandas.pydata.org/pandas-docs/stable/user_guide/indexing.html#returning-a-view-versus-a-copy\n",
      "  X_train_fold['least_returned_color * brand_return_rate'] = X_train_fold['least_returned_color'] * X_train_fold['brand_return_rate']\n",
      "/var/folders/4f/3w_37fps2jl_9bqnhfpl8d8h0000gn/T/ipykernel_45625/3264776615.py:34: SettingWithCopyWarning: \n",
      "A value is trying to be set on a copy of a slice from a DataFrame.\n",
      "Try using .loc[row_indexer,col_indexer] = value instead\n",
      "\n",
      "See the caveats in the documentation: https://pandas.pydata.org/pandas-docs/stable/user_guide/indexing.html#returning-a-view-versus-a-copy\n",
      "  X_val_fold['log_item_price * is_bday'] = X_val_fold['log_item_price'] * X_val_fold['is_bday']\n",
      "/var/folders/4f/3w_37fps2jl_9bqnhfpl8d8h0000gn/T/ipykernel_45625/3264776615.py:35: SettingWithCopyWarning: \n",
      "A value is trying to be set on a copy of a slice from a DataFrame.\n",
      "Try using .loc[row_indexer,col_indexer] = value instead\n",
      "\n",
      "See the caveats in the documentation: https://pandas.pydata.org/pandas-docs/stable/user_guide/indexing.html#returning-a-view-versus-a-copy\n",
      "  X_val_fold['log_age * log_avg_freq_purchases'] = X_val_fold['log_age'] * X_val_fold['log_avg_freq_purchases']\n",
      "/var/folders/4f/3w_37fps2jl_9bqnhfpl8d8h0000gn/T/ipykernel_45625/3264776615.py:36: SettingWithCopyWarning: \n",
      "A value is trying to be set on a copy of a slice from a DataFrame.\n",
      "Try using .loc[row_indexer,col_indexer] = value instead\n",
      "\n",
      "See the caveats in the documentation: https://pandas.pydata.org/pandas-docs/stable/user_guide/indexing.html#returning-a-view-versus-a-copy\n",
      "  X_val_fold['log_no_items * log_avg_freq_purchases'] = X_val_fold['log_no_items'] * X_val_fold['log_avg_freq_purchases']\n",
      "/var/folders/4f/3w_37fps2jl_9bqnhfpl8d8h0000gn/T/ipykernel_45625/3264776615.py:37: SettingWithCopyWarning: \n",
      "A value is trying to be set on a copy of a slice from a DataFrame.\n",
      "Try using .loc[row_indexer,col_indexer] = value instead\n",
      "\n",
      "See the caveats in the documentation: https://pandas.pydata.org/pandas-docs/stable/user_guide/indexing.html#returning-a-view-versus-a-copy\n",
      "  X_val_fold['log_item_price * brand_return_rate'] = X_val_fold['log_item_price'] * X_val_fold['brand_return_rate']\n",
      "/var/folders/4f/3w_37fps2jl_9bqnhfpl8d8h0000gn/T/ipykernel_45625/3264776615.py:38: SettingWithCopyWarning: \n",
      "A value is trying to be set on a copy of a slice from a DataFrame.\n",
      "Try using .loc[row_indexer,col_indexer] = value instead\n",
      "\n",
      "See the caveats in the documentation: https://pandas.pydata.org/pandas-docs/stable/user_guide/indexing.html#returning-a-view-versus-a-copy\n",
      "  X_val_fold['most_returned_color * brand_return_rate'] = X_val_fold['most_returned_color'] * X_val_fold['brand_return_rate']\n",
      "/var/folders/4f/3w_37fps2jl_9bqnhfpl8d8h0000gn/T/ipykernel_45625/3264776615.py:39: SettingWithCopyWarning: \n",
      "A value is trying to be set on a copy of a slice from a DataFrame.\n",
      "Try using .loc[row_indexer,col_indexer] = value instead\n",
      "\n",
      "See the caveats in the documentation: https://pandas.pydata.org/pandas-docs/stable/user_guide/indexing.html#returning-a-view-versus-a-copy\n",
      "  X_val_fold['least_returned_color * brand_return_rate'] = X_val_fold['least_returned_color'] * X_val_fold['brand_return_rate']\n",
      "/var/folders/4f/3w_37fps2jl_9bqnhfpl8d8h0000gn/T/ipykernel_45625/3264776615.py:15: SettingWithCopyWarning: \n",
      "A value is trying to be set on a copy of a slice from a DataFrame.\n",
      "Try using .loc[row_indexer,col_indexer] = value instead\n",
      "\n",
      "See the caveats in the documentation: https://pandas.pydata.org/pandas-docs/stable/user_guide/indexing.html#returning-a-view-versus-a-copy\n",
      "  X_train_fold['user_return_rate'] = X_train_fold['user_id'].map(user_return_rates)\n",
      "/var/folders/4f/3w_37fps2jl_9bqnhfpl8d8h0000gn/T/ipykernel_45625/3264776615.py:16: SettingWithCopyWarning: \n",
      "A value is trying to be set on a copy of a slice from a DataFrame.\n",
      "Try using .loc[row_indexer,col_indexer] = value instead\n",
      "\n",
      "See the caveats in the documentation: https://pandas.pydata.org/pandas-docs/stable/user_guide/indexing.html#returning-a-view-versus-a-copy\n",
      "  X_train_fold['brand_return_rate'] = X_train_fold['brand_id'].map(brand_return_rates)\n",
      "/var/folders/4f/3w_37fps2jl_9bqnhfpl8d8h0000gn/T/ipykernel_45625/3264776615.py:19: SettingWithCopyWarning: \n",
      "A value is trying to be set on a copy of a slice from a DataFrame.\n",
      "Try using .loc[row_indexer,col_indexer] = value instead\n",
      "\n",
      "See the caveats in the documentation: https://pandas.pydata.org/pandas-docs/stable/user_guide/indexing.html#returning-a-view-versus-a-copy\n",
      "  X_val_fold['user_return_rate'] = X_val_fold['user_id'].map(user_return_rates).fillna(default_fill_value)\n",
      "/var/folders/4f/3w_37fps2jl_9bqnhfpl8d8h0000gn/T/ipykernel_45625/3264776615.py:20: SettingWithCopyWarning: \n",
      "A value is trying to be set on a copy of a slice from a DataFrame.\n",
      "Try using .loc[row_indexer,col_indexer] = value instead\n",
      "\n",
      "See the caveats in the documentation: https://pandas.pydata.org/pandas-docs/stable/user_guide/indexing.html#returning-a-view-versus-a-copy\n",
      "  X_val_fold['brand_return_rate'] = X_val_fold['brand_id'].map(brand_return_rates).fillna(default_fill_value)\n",
      "/var/folders/4f/3w_37fps2jl_9bqnhfpl8d8h0000gn/T/ipykernel_45625/3264776615.py:23: SettingWithCopyWarning: \n",
      "A value is trying to be set on a copy of a slice from a DataFrame\n",
      "\n",
      "See the caveats in the documentation: https://pandas.pydata.org/pandas-docs/stable/user_guide/indexing.html#returning-a-view-versus-a-copy\n",
      "  X_train_fold.drop(['return', 'user_id', 'brand_id'], axis=1, inplace=True)\n",
      "/var/folders/4f/3w_37fps2jl_9bqnhfpl8d8h0000gn/T/ipykernel_45625/3264776615.py:24: SettingWithCopyWarning: \n",
      "A value is trying to be set on a copy of a slice from a DataFrame\n",
      "\n",
      "See the caveats in the documentation: https://pandas.pydata.org/pandas-docs/stable/user_guide/indexing.html#returning-a-view-versus-a-copy\n",
      "  X_val_fold.drop(['return', 'user_id', 'brand_id'], axis=1, inplace=True)\n",
      "/var/folders/4f/3w_37fps2jl_9bqnhfpl8d8h0000gn/T/ipykernel_45625/3264776615.py:27: SettingWithCopyWarning: \n",
      "A value is trying to be set on a copy of a slice from a DataFrame.\n",
      "Try using .loc[row_indexer,col_indexer] = value instead\n",
      "\n",
      "See the caveats in the documentation: https://pandas.pydata.org/pandas-docs/stable/user_guide/indexing.html#returning-a-view-versus-a-copy\n",
      "  X_train_fold['log_item_price * is_bday'] = X_train_fold['log_item_price'] * X_train_fold['is_bday']\n",
      "/var/folders/4f/3w_37fps2jl_9bqnhfpl8d8h0000gn/T/ipykernel_45625/3264776615.py:28: SettingWithCopyWarning: \n",
      "A value is trying to be set on a copy of a slice from a DataFrame.\n",
      "Try using .loc[row_indexer,col_indexer] = value instead\n",
      "\n",
      "See the caveats in the documentation: https://pandas.pydata.org/pandas-docs/stable/user_guide/indexing.html#returning-a-view-versus-a-copy\n",
      "  X_train_fold['log_age * log_avg_freq_purchases'] = X_train_fold['log_age'] * X_train_fold['log_avg_freq_purchases']\n",
      "/var/folders/4f/3w_37fps2jl_9bqnhfpl8d8h0000gn/T/ipykernel_45625/3264776615.py:29: SettingWithCopyWarning: \n",
      "A value is trying to be set on a copy of a slice from a DataFrame.\n",
      "Try using .loc[row_indexer,col_indexer] = value instead\n",
      "\n",
      "See the caveats in the documentation: https://pandas.pydata.org/pandas-docs/stable/user_guide/indexing.html#returning-a-view-versus-a-copy\n",
      "  X_train_fold['log_no_items * log_avg_freq_purchases'] = X_train_fold['log_no_items'] * X_train_fold['log_avg_freq_purchases']\n",
      "/var/folders/4f/3w_37fps2jl_9bqnhfpl8d8h0000gn/T/ipykernel_45625/3264776615.py:30: SettingWithCopyWarning: \n",
      "A value is trying to be set on a copy of a slice from a DataFrame.\n",
      "Try using .loc[row_indexer,col_indexer] = value instead\n",
      "\n",
      "See the caveats in the documentation: https://pandas.pydata.org/pandas-docs/stable/user_guide/indexing.html#returning-a-view-versus-a-copy\n",
      "  X_train_fold['log_item_price * brand_return_rate'] = X_train_fold['log_item_price'] * X_train_fold['brand_return_rate']\n",
      "/var/folders/4f/3w_37fps2jl_9bqnhfpl8d8h0000gn/T/ipykernel_45625/3264776615.py:31: SettingWithCopyWarning: \n",
      "A value is trying to be set on a copy of a slice from a DataFrame.\n",
      "Try using .loc[row_indexer,col_indexer] = value instead\n",
      "\n",
      "See the caveats in the documentation: https://pandas.pydata.org/pandas-docs/stable/user_guide/indexing.html#returning-a-view-versus-a-copy\n",
      "  X_train_fold['most_returned_color * brand_return_rate'] = X_train_fold['most_returned_color'] * X_train_fold['brand_return_rate']\n",
      "/var/folders/4f/3w_37fps2jl_9bqnhfpl8d8h0000gn/T/ipykernel_45625/3264776615.py:32: SettingWithCopyWarning: \n",
      "A value is trying to be set on a copy of a slice from a DataFrame.\n",
      "Try using .loc[row_indexer,col_indexer] = value instead\n",
      "\n",
      "See the caveats in the documentation: https://pandas.pydata.org/pandas-docs/stable/user_guide/indexing.html#returning-a-view-versus-a-copy\n",
      "  X_train_fold['least_returned_color * brand_return_rate'] = X_train_fold['least_returned_color'] * X_train_fold['brand_return_rate']\n",
      "/var/folders/4f/3w_37fps2jl_9bqnhfpl8d8h0000gn/T/ipykernel_45625/3264776615.py:34: SettingWithCopyWarning: \n",
      "A value is trying to be set on a copy of a slice from a DataFrame.\n",
      "Try using .loc[row_indexer,col_indexer] = value instead\n",
      "\n",
      "See the caveats in the documentation: https://pandas.pydata.org/pandas-docs/stable/user_guide/indexing.html#returning-a-view-versus-a-copy\n",
      "  X_val_fold['log_item_price * is_bday'] = X_val_fold['log_item_price'] * X_val_fold['is_bday']\n",
      "/var/folders/4f/3w_37fps2jl_9bqnhfpl8d8h0000gn/T/ipykernel_45625/3264776615.py:35: SettingWithCopyWarning: \n",
      "A value is trying to be set on a copy of a slice from a DataFrame.\n",
      "Try using .loc[row_indexer,col_indexer] = value instead\n",
      "\n",
      "See the caveats in the documentation: https://pandas.pydata.org/pandas-docs/stable/user_guide/indexing.html#returning-a-view-versus-a-copy\n",
      "  X_val_fold['log_age * log_avg_freq_purchases'] = X_val_fold['log_age'] * X_val_fold['log_avg_freq_purchases']\n",
      "/var/folders/4f/3w_37fps2jl_9bqnhfpl8d8h0000gn/T/ipykernel_45625/3264776615.py:36: SettingWithCopyWarning: \n",
      "A value is trying to be set on a copy of a slice from a DataFrame.\n",
      "Try using .loc[row_indexer,col_indexer] = value instead\n",
      "\n",
      "See the caveats in the documentation: https://pandas.pydata.org/pandas-docs/stable/user_guide/indexing.html#returning-a-view-versus-a-copy\n",
      "  X_val_fold['log_no_items * log_avg_freq_purchases'] = X_val_fold['log_no_items'] * X_val_fold['log_avg_freq_purchases']\n",
      "/var/folders/4f/3w_37fps2jl_9bqnhfpl8d8h0000gn/T/ipykernel_45625/3264776615.py:37: SettingWithCopyWarning: \n",
      "A value is trying to be set on a copy of a slice from a DataFrame.\n",
      "Try using .loc[row_indexer,col_indexer] = value instead\n",
      "\n",
      "See the caveats in the documentation: https://pandas.pydata.org/pandas-docs/stable/user_guide/indexing.html#returning-a-view-versus-a-copy\n",
      "  X_val_fold['log_item_price * brand_return_rate'] = X_val_fold['log_item_price'] * X_val_fold['brand_return_rate']\n",
      "/var/folders/4f/3w_37fps2jl_9bqnhfpl8d8h0000gn/T/ipykernel_45625/3264776615.py:38: SettingWithCopyWarning: \n",
      "A value is trying to be set on a copy of a slice from a DataFrame.\n",
      "Try using .loc[row_indexer,col_indexer] = value instead\n",
      "\n",
      "See the caveats in the documentation: https://pandas.pydata.org/pandas-docs/stable/user_guide/indexing.html#returning-a-view-versus-a-copy\n",
      "  X_val_fold['most_returned_color * brand_return_rate'] = X_val_fold['most_returned_color'] * X_val_fold['brand_return_rate']\n",
      "/var/folders/4f/3w_37fps2jl_9bqnhfpl8d8h0000gn/T/ipykernel_45625/3264776615.py:39: SettingWithCopyWarning: \n",
      "A value is trying to be set on a copy of a slice from a DataFrame.\n",
      "Try using .loc[row_indexer,col_indexer] = value instead\n",
      "\n",
      "See the caveats in the documentation: https://pandas.pydata.org/pandas-docs/stable/user_guide/indexing.html#returning-a-view-versus-a-copy\n",
      "  X_val_fold['least_returned_color * brand_return_rate'] = X_val_fold['least_returned_color'] * X_val_fold['brand_return_rate']\n"
     ]
    }
   ],
   "source": [
    "# LogReg - Create train test split for CV evaluation\n",
    "X_int_terms = cv\n",
    "y_int_terms = cv['return']\n",
    "\n",
    "X_int_terms_train, X_int_terms_test, y_int_terms_train, y_int_terms_test = train_test_split(X_int_terms, y_int_terms, test_size=0.2, random_state=42)\n",
    "\n",
    "# Get kfold data\n",
    "kfold_data_int_terms = prepare_kfold_data_logreg(X_int_terms_train, y_int_terms_train, k=5, default_fill_value=0.5)"
   ]
  },
  {
   "cell_type": "code",
   "execution_count": 13,
   "id": "423c3a89-577c-4da7-ae8a-9bfdf1eccb58",
   "metadata": {},
   "outputs": [
    {
     "name": "stdout",
     "output_type": "stream",
     "text": [
      "(79999, 45)\n",
      "(79999,)\n",
      "(20000, 45)\n",
      "(20000,)\n"
     ]
    }
   ],
   "source": [
    "# LogReg - Create train test split for model evaluation\n",
    "X_int_terms = df.drop('return', axis=1)\n",
    "y_int_terms = df['return']\n",
    "\n",
    "X_int_terms['log_item_price * is_bday'] = X_int_terms['log_item_price'] * X_int_terms ['is_bday']\n",
    "X_int_terms['log_age * log_avg_freq_purchases'] = X_int_terms['log_age'] * X_int_terms['log_avg_freq_purchases']\n",
    "X_int_terms['log_no_items * log_avg_freq_purchases'] = X_int_terms['log_no_items'] * X_int_terms['log_avg_freq_purchases']\n",
    "X_int_terms['log_item_price * brand_return_rate'] = X_int_terms['log_item_price'] * X_int_terms['brand_return_rate'] \n",
    "X_int_terms['most_returned_color * brand_return_rate'] = X_int_terms['most_returned_color'] * X_int_terms['brand_return_rate']\n",
    "X_int_terms['least_returned_color * brand_return_rate'] = X_int_terms['least_returned_color'] * X_int_terms['brand_return_rate']\n",
    "\n",
    "X_int_terms_train, X_int_terms_test, y_int_terms_train, y_int_terms_test = train_test_split(X_int_terms, y_int_terms, test_size=0.2, random_state=42)\n",
    "\n",
    "print(X_int_terms_train.shape)\n",
    "print(y_int_terms_train.shape)\n",
    "\n",
    "print(X_int_terms_test.shape)\n",
    "print(y_int_terms_test.shape)"
   ]
  },
  {
   "cell_type": "markdown",
   "id": "6d634dd9-d8f3-4c3b-9a53-299f76a8600e",
   "metadata": {},
   "source": [
    "##### Baseline"
   ]
  },
  {
   "cell_type": "code",
   "execution_count": 61,
   "id": "c4e64b12-21cd-4793-bc6f-e23708c22c1f",
   "metadata": {},
   "outputs": [
    {
     "name": "stderr",
     "output_type": "stream",
     "text": [
      "/Users/xaviersan/miniconda3/envs/dmba/lib/python3.11/site-packages/sklearn/linear_model/_sag.py:350: ConvergenceWarning: The max_iter was reached which means the coef_ did not converge\n",
      "  warnings.warn(\n"
     ]
    },
    {
     "data": {
      "text/plain": [
       "{'AUC': 0.7563832486449509,\n",
       " 'Accuracy': 0.6848992453812461,\n",
       " 'Precision': 0.6508977529297925,\n",
       " 'Recall': 0.6670339356544733,\n",
       " 'F1 Score': 0.6588670620884801}"
      ]
     },
     "execution_count": 61,
     "metadata": {},
     "output_type": "execute_result"
    }
   ],
   "source": [
    "logreg_baseline = LogisticRegression(solver='saga', penalty=None, random_state=42)\n",
    "logreg_baseline.fit(X_int_terms_train, y_int_terms_train)\n",
    "\n",
    "evaluate_model_probability(logreg_baseline, X_int_terms_test, y_int_terms_test)"
   ]
  },
  {
   "cell_type": "markdown",
   "id": "937e99d1-f229-4797-81eb-7b67064005ce",
   "metadata": {},
   "source": [
    "##### Tuning"
   ]
  },
  {
   "cell_type": "markdown",
   "id": "c87ed2ca-c5be-4d9f-bd20-111718785234",
   "metadata": {},
   "source": [
    "Regularization"
   ]
  },
  {
   "cell_type": "code",
   "execution_count": 62,
   "id": "e38e752c-99b6-4d31-944e-4d7bae10669f",
   "metadata": {},
   "outputs": [],
   "source": [
    "# Initialize Model\n",
    "logreg = LogisticRegression(penalty='l1', solver='saga', random_state=42)"
   ]
  },
  {
   "cell_type": "code",
   "execution_count": 63,
   "id": "e8dfb828-6bc3-4041-9cc1-bcbd375836a8",
   "metadata": {
    "scrolled": true
   },
   "outputs": [
    {
     "name": "stdout",
     "output_type": "stream",
     "text": [
      "Params: {'C': 0.001} | Avg. AUC Score: 0.70893\n",
      "Params: {'C': 0.01} | Avg. AUC Score: 0.73942\n",
      "Params: {'C': 0.1} | Avg. AUC Score: 0.74494\n"
     ]
    },
    {
     "name": "stderr",
     "output_type": "stream",
     "text": [
      "/Users/xaviersan/miniconda3/envs/dmba/lib/python3.11/site-packages/sklearn/linear_model/_sag.py:350: ConvergenceWarning: The max_iter was reached which means the coef_ did not converge\n",
      "  warnings.warn(\n",
      "/Users/xaviersan/miniconda3/envs/dmba/lib/python3.11/site-packages/sklearn/linear_model/_sag.py:350: ConvergenceWarning: The max_iter was reached which means the coef_ did not converge\n",
      "  warnings.warn(\n",
      "/Users/xaviersan/miniconda3/envs/dmba/lib/python3.11/site-packages/sklearn/linear_model/_sag.py:350: ConvergenceWarning: The max_iter was reached which means the coef_ did not converge\n",
      "  warnings.warn(\n",
      "/Users/xaviersan/miniconda3/envs/dmba/lib/python3.11/site-packages/sklearn/linear_model/_sag.py:350: ConvergenceWarning: The max_iter was reached which means the coef_ did not converge\n",
      "  warnings.warn(\n",
      "/Users/xaviersan/miniconda3/envs/dmba/lib/python3.11/site-packages/sklearn/linear_model/_sag.py:350: ConvergenceWarning: The max_iter was reached which means the coef_ did not converge\n",
      "  warnings.warn(\n"
     ]
    },
    {
     "name": "stdout",
     "output_type": "stream",
     "text": [
      "Params: {'C': 1} | Avg. AUC Score: 0.74537\n"
     ]
    },
    {
     "name": "stderr",
     "output_type": "stream",
     "text": [
      "/Users/xaviersan/miniconda3/envs/dmba/lib/python3.11/site-packages/sklearn/linear_model/_sag.py:350: ConvergenceWarning: The max_iter was reached which means the coef_ did not converge\n",
      "  warnings.warn(\n",
      "/Users/xaviersan/miniconda3/envs/dmba/lib/python3.11/site-packages/sklearn/linear_model/_sag.py:350: ConvergenceWarning: The max_iter was reached which means the coef_ did not converge\n",
      "  warnings.warn(\n",
      "/Users/xaviersan/miniconda3/envs/dmba/lib/python3.11/site-packages/sklearn/linear_model/_sag.py:350: ConvergenceWarning: The max_iter was reached which means the coef_ did not converge\n",
      "  warnings.warn(\n",
      "/Users/xaviersan/miniconda3/envs/dmba/lib/python3.11/site-packages/sklearn/linear_model/_sag.py:350: ConvergenceWarning: The max_iter was reached which means the coef_ did not converge\n",
      "  warnings.warn(\n",
      "/Users/xaviersan/miniconda3/envs/dmba/lib/python3.11/site-packages/sklearn/linear_model/_sag.py:350: ConvergenceWarning: The max_iter was reached which means the coef_ did not converge\n",
      "  warnings.warn(\n"
     ]
    },
    {
     "name": "stdout",
     "output_type": "stream",
     "text": [
      "Params: {'C': 10} | Avg. AUC Score: 0.74539\n"
     ]
    },
    {
     "name": "stderr",
     "output_type": "stream",
     "text": [
      "/Users/xaviersan/miniconda3/envs/dmba/lib/python3.11/site-packages/sklearn/linear_model/_sag.py:350: ConvergenceWarning: The max_iter was reached which means the coef_ did not converge\n",
      "  warnings.warn(\n",
      "/Users/xaviersan/miniconda3/envs/dmba/lib/python3.11/site-packages/sklearn/linear_model/_sag.py:350: ConvergenceWarning: The max_iter was reached which means the coef_ did not converge\n",
      "  warnings.warn(\n",
      "/Users/xaviersan/miniconda3/envs/dmba/lib/python3.11/site-packages/sklearn/linear_model/_sag.py:350: ConvergenceWarning: The max_iter was reached which means the coef_ did not converge\n",
      "  warnings.warn(\n",
      "/Users/xaviersan/miniconda3/envs/dmba/lib/python3.11/site-packages/sklearn/linear_model/_sag.py:350: ConvergenceWarning: The max_iter was reached which means the coef_ did not converge\n",
      "  warnings.warn(\n"
     ]
    },
    {
     "name": "stdout",
     "output_type": "stream",
     "text": [
      "Params: {'C': 100} | Avg. AUC Score: 0.7454\n",
      "\n",
      "Params Avg. AUC Score: 0.7454\n",
      "Best Params: {'C': 100}\n"
     ]
    },
    {
     "name": "stderr",
     "output_type": "stream",
     "text": [
      "/Users/xaviersan/miniconda3/envs/dmba/lib/python3.11/site-packages/sklearn/linear_model/_sag.py:350: ConvergenceWarning: The max_iter was reached which means the coef_ did not converge\n",
      "  warnings.warn(\n"
     ]
    }
   ],
   "source": [
    "# Step 1\n",
    "param_grid = {\n",
    "    'C': [0.001, 0.01, 0.1, 1, 10, 100]\n",
    "}\n",
    "\n",
    "custom_grid_search_auc(logreg, param_grid, kfold_data_int_terms)"
   ]
  },
  {
   "cell_type": "code",
   "execution_count": 64,
   "id": "5b1d06a9-cefd-4037-8b59-e13ca185d857",
   "metadata": {
    "scrolled": true
   },
   "outputs": [
    {
     "name": "stdout",
     "output_type": "stream",
     "text": [
      "Params: {'C': 0.001} | Avg. AUC Score: 0.74238\n",
      "Params: {'C': 0.01} | Avg. AUC Score: 0.74005\n",
      "Params: {'C': 0.1} | Avg. AUC Score: 0.74375\n"
     ]
    },
    {
     "name": "stderr",
     "output_type": "stream",
     "text": [
      "/Users/xaviersan/miniconda3/envs/dmba/lib/python3.11/site-packages/sklearn/linear_model/_sag.py:350: ConvergenceWarning: The max_iter was reached which means the coef_ did not converge\n",
      "  warnings.warn(\n",
      "/Users/xaviersan/miniconda3/envs/dmba/lib/python3.11/site-packages/sklearn/linear_model/_sag.py:350: ConvergenceWarning: The max_iter was reached which means the coef_ did not converge\n",
      "  warnings.warn(\n",
      "/Users/xaviersan/miniconda3/envs/dmba/lib/python3.11/site-packages/sklearn/linear_model/_sag.py:350: ConvergenceWarning: The max_iter was reached which means the coef_ did not converge\n",
      "  warnings.warn(\n",
      "/Users/xaviersan/miniconda3/envs/dmba/lib/python3.11/site-packages/sklearn/linear_model/_sag.py:350: ConvergenceWarning: The max_iter was reached which means the coef_ did not converge\n",
      "  warnings.warn(\n",
      "/Users/xaviersan/miniconda3/envs/dmba/lib/python3.11/site-packages/sklearn/linear_model/_sag.py:350: ConvergenceWarning: The max_iter was reached which means the coef_ did not converge\n",
      "  warnings.warn(\n"
     ]
    },
    {
     "name": "stdout",
     "output_type": "stream",
     "text": [
      "Params: {'C': 1} | Avg. AUC Score: 0.74536\n"
     ]
    },
    {
     "name": "stderr",
     "output_type": "stream",
     "text": [
      "/Users/xaviersan/miniconda3/envs/dmba/lib/python3.11/site-packages/sklearn/linear_model/_sag.py:350: ConvergenceWarning: The max_iter was reached which means the coef_ did not converge\n",
      "  warnings.warn(\n",
      "/Users/xaviersan/miniconda3/envs/dmba/lib/python3.11/site-packages/sklearn/linear_model/_sag.py:350: ConvergenceWarning: The max_iter was reached which means the coef_ did not converge\n",
      "  warnings.warn(\n",
      "/Users/xaviersan/miniconda3/envs/dmba/lib/python3.11/site-packages/sklearn/linear_model/_sag.py:350: ConvergenceWarning: The max_iter was reached which means the coef_ did not converge\n",
      "  warnings.warn(\n",
      "/Users/xaviersan/miniconda3/envs/dmba/lib/python3.11/site-packages/sklearn/linear_model/_sag.py:350: ConvergenceWarning: The max_iter was reached which means the coef_ did not converge\n",
      "  warnings.warn(\n",
      "/Users/xaviersan/miniconda3/envs/dmba/lib/python3.11/site-packages/sklearn/linear_model/_sag.py:350: ConvergenceWarning: The max_iter was reached which means the coef_ did not converge\n",
      "  warnings.warn(\n"
     ]
    },
    {
     "name": "stdout",
     "output_type": "stream",
     "text": [
      "Params: {'C': 10} | Avg. AUC Score: 0.7454\n"
     ]
    },
    {
     "name": "stderr",
     "output_type": "stream",
     "text": [
      "/Users/xaviersan/miniconda3/envs/dmba/lib/python3.11/site-packages/sklearn/linear_model/_sag.py:350: ConvergenceWarning: The max_iter was reached which means the coef_ did not converge\n",
      "  warnings.warn(\n",
      "/Users/xaviersan/miniconda3/envs/dmba/lib/python3.11/site-packages/sklearn/linear_model/_sag.py:350: ConvergenceWarning: The max_iter was reached which means the coef_ did not converge\n",
      "  warnings.warn(\n",
      "/Users/xaviersan/miniconda3/envs/dmba/lib/python3.11/site-packages/sklearn/linear_model/_sag.py:350: ConvergenceWarning: The max_iter was reached which means the coef_ did not converge\n",
      "  warnings.warn(\n",
      "/Users/xaviersan/miniconda3/envs/dmba/lib/python3.11/site-packages/sklearn/linear_model/_sag.py:350: ConvergenceWarning: The max_iter was reached which means the coef_ did not converge\n",
      "  warnings.warn(\n"
     ]
    },
    {
     "name": "stdout",
     "output_type": "stream",
     "text": [
      "Params: {'C': 100} | Avg. AUC Score: 0.7454\n",
      "\n",
      "Params Avg. AUC Score: 0.7454\n",
      "Best Params: {'C': 10}\n"
     ]
    },
    {
     "name": "stderr",
     "output_type": "stream",
     "text": [
      "/Users/xaviersan/miniconda3/envs/dmba/lib/python3.11/site-packages/sklearn/linear_model/_sag.py:350: ConvergenceWarning: The max_iter was reached which means the coef_ did not converge\n",
      "  warnings.warn(\n"
     ]
    }
   ],
   "source": [
    "# Re-Initialize Model\n",
    "logreg = LogisticRegression(penalty='l2', solver='saga', random_state=42)\n",
    "\n",
    "# Step 2\n",
    "param_grid = {\n",
    "    'C': [0.001, 0.01, 0.1, 1, 10, 100]\n",
    "}\n",
    "\n",
    "custom_grid_search_auc(logreg, param_grid, kfold_data_int_terms)"
   ]
  },
  {
   "cell_type": "code",
   "execution_count": 14,
   "id": "a174f8ab-8422-43cb-a4db-dbb59ba5dde2",
   "metadata": {
    "scrolled": true
   },
   "outputs": [
    {
     "name": "stdout",
     "output_type": "stream",
     "text": [
      "Params: {'C': 0.001, 'l1_ratio': 0.1} | Avg. AUC Score: 0.73991\n",
      "Params: {'C': 0.001, 'l1_ratio': 0.3} | Avg. AUC Score: 0.73463\n",
      "Params: {'C': 0.001, 'l1_ratio': 0.5} | Avg. AUC Score: 0.72814\n",
      "Params: {'C': 0.001, 'l1_ratio': 0.7} | Avg. AUC Score: 0.72163\n",
      "Params: {'C': 0.001, 'l1_ratio': 0.9} | Avg. AUC Score: 0.71382\n",
      "Params: {'C': 0.01, 'l1_ratio': 0.1} | Avg. AUC Score: 0.73977\n",
      "Params: {'C': 0.01, 'l1_ratio': 0.3} | Avg. AUC Score: 0.73936\n",
      "Params: {'C': 0.01, 'l1_ratio': 0.5} | Avg. AUC Score: 0.73907\n",
      "Params: {'C': 0.01, 'l1_ratio': 0.7} | Avg. AUC Score: 0.739\n",
      "Params: {'C': 0.01, 'l1_ratio': 0.9} | Avg. AUC Score: 0.73917\n",
      "Params: {'C': 0.1, 'l1_ratio': 0.1} | Avg. AUC Score: 0.7438\n",
      "Params: {'C': 0.1, 'l1_ratio': 0.3} | Avg. AUC Score: 0.74392\n",
      "Params: {'C': 0.1, 'l1_ratio': 0.5} | Avg. AUC Score: 0.74409\n",
      "Params: {'C': 0.1, 'l1_ratio': 0.7} | Avg. AUC Score: 0.74434\n",
      "Params: {'C': 0.1, 'l1_ratio': 0.9} | Avg. AUC Score: 0.7447\n"
     ]
    },
    {
     "name": "stderr",
     "output_type": "stream",
     "text": [
      "/Users/xaviersan/miniconda3/envs/dmba/lib/python3.11/site-packages/sklearn/linear_model/_sag.py:350: ConvergenceWarning: The max_iter was reached which means the coef_ did not converge\n",
      "  warnings.warn(\n",
      "/Users/xaviersan/miniconda3/envs/dmba/lib/python3.11/site-packages/sklearn/linear_model/_sag.py:350: ConvergenceWarning: The max_iter was reached which means the coef_ did not converge\n",
      "  warnings.warn(\n",
      "/Users/xaviersan/miniconda3/envs/dmba/lib/python3.11/site-packages/sklearn/linear_model/_sag.py:350: ConvergenceWarning: The max_iter was reached which means the coef_ did not converge\n",
      "  warnings.warn(\n",
      "/Users/xaviersan/miniconda3/envs/dmba/lib/python3.11/site-packages/sklearn/linear_model/_sag.py:350: ConvergenceWarning: The max_iter was reached which means the coef_ did not converge\n",
      "  warnings.warn(\n",
      "/Users/xaviersan/miniconda3/envs/dmba/lib/python3.11/site-packages/sklearn/linear_model/_sag.py:350: ConvergenceWarning: The max_iter was reached which means the coef_ did not converge\n",
      "  warnings.warn(\n"
     ]
    },
    {
     "name": "stdout",
     "output_type": "stream",
     "text": [
      "Params: {'C': 1, 'l1_ratio': 0.1} | Avg. AUC Score: 0.74537\n"
     ]
    },
    {
     "name": "stderr",
     "output_type": "stream",
     "text": [
      "/Users/xaviersan/miniconda3/envs/dmba/lib/python3.11/site-packages/sklearn/linear_model/_sag.py:350: ConvergenceWarning: The max_iter was reached which means the coef_ did not converge\n",
      "  warnings.warn(\n"
     ]
    },
    {
     "name": "stdout",
     "output_type": "stream",
     "text": [
      "Params: {'C': 1, 'l1_ratio': 0.3} | Avg. AUC Score: 0.74538\n"
     ]
    },
    {
     "name": "stderr",
     "output_type": "stream",
     "text": [
      "/Users/xaviersan/miniconda3/envs/dmba/lib/python3.11/site-packages/sklearn/linear_model/_sag.py:350: ConvergenceWarning: The max_iter was reached which means the coef_ did not converge\n",
      "  warnings.warn(\n"
     ]
    },
    {
     "name": "stdout",
     "output_type": "stream",
     "text": [
      "Params: {'C': 1, 'l1_ratio': 0.5} | Avg. AUC Score: 0.74538\n"
     ]
    },
    {
     "name": "stderr",
     "output_type": "stream",
     "text": [
      "/Users/xaviersan/miniconda3/envs/dmba/lib/python3.11/site-packages/sklearn/linear_model/_sag.py:350: ConvergenceWarning: The max_iter was reached which means the coef_ did not converge\n",
      "  warnings.warn(\n"
     ]
    },
    {
     "name": "stdout",
     "output_type": "stream",
     "text": [
      "Params: {'C': 1, 'l1_ratio': 0.7} | Avg. AUC Score: 0.74538\n"
     ]
    },
    {
     "name": "stderr",
     "output_type": "stream",
     "text": [
      "/Users/xaviersan/miniconda3/envs/dmba/lib/python3.11/site-packages/sklearn/linear_model/_sag.py:350: ConvergenceWarning: The max_iter was reached which means the coef_ did not converge\n",
      "  warnings.warn(\n",
      "/Users/xaviersan/miniconda3/envs/dmba/lib/python3.11/site-packages/sklearn/linear_model/_sag.py:350: ConvergenceWarning: The max_iter was reached which means the coef_ did not converge\n",
      "  warnings.warn(\n",
      "/Users/xaviersan/miniconda3/envs/dmba/lib/python3.11/site-packages/sklearn/linear_model/_sag.py:350: ConvergenceWarning: The max_iter was reached which means the coef_ did not converge\n",
      "  warnings.warn(\n",
      "/Users/xaviersan/miniconda3/envs/dmba/lib/python3.11/site-packages/sklearn/linear_model/_sag.py:350: ConvergenceWarning: The max_iter was reached which means the coef_ did not converge\n",
      "  warnings.warn(\n",
      "/Users/xaviersan/miniconda3/envs/dmba/lib/python3.11/site-packages/sklearn/linear_model/_sag.py:350: ConvergenceWarning: The max_iter was reached which means the coef_ did not converge\n",
      "  warnings.warn(\n"
     ]
    },
    {
     "name": "stdout",
     "output_type": "stream",
     "text": [
      "Params: {'C': 1, 'l1_ratio': 0.9} | Avg. AUC Score: 0.74537\n"
     ]
    },
    {
     "name": "stderr",
     "output_type": "stream",
     "text": [
      "/Users/xaviersan/miniconda3/envs/dmba/lib/python3.11/site-packages/sklearn/linear_model/_sag.py:350: ConvergenceWarning: The max_iter was reached which means the coef_ did not converge\n",
      "  warnings.warn(\n",
      "/Users/xaviersan/miniconda3/envs/dmba/lib/python3.11/site-packages/sklearn/linear_model/_sag.py:350: ConvergenceWarning: The max_iter was reached which means the coef_ did not converge\n",
      "  warnings.warn(\n",
      "/Users/xaviersan/miniconda3/envs/dmba/lib/python3.11/site-packages/sklearn/linear_model/_sag.py:350: ConvergenceWarning: The max_iter was reached which means the coef_ did not converge\n",
      "  warnings.warn(\n",
      "/Users/xaviersan/miniconda3/envs/dmba/lib/python3.11/site-packages/sklearn/linear_model/_sag.py:350: ConvergenceWarning: The max_iter was reached which means the coef_ did not converge\n",
      "  warnings.warn(\n",
      "/Users/xaviersan/miniconda3/envs/dmba/lib/python3.11/site-packages/sklearn/linear_model/_sag.py:350: ConvergenceWarning: The max_iter was reached which means the coef_ did not converge\n",
      "  warnings.warn(\n"
     ]
    },
    {
     "name": "stdout",
     "output_type": "stream",
     "text": [
      "Params: {'C': 10, 'l1_ratio': 0.1} | Avg. AUC Score: 0.7454\n"
     ]
    },
    {
     "name": "stderr",
     "output_type": "stream",
     "text": [
      "/Users/xaviersan/miniconda3/envs/dmba/lib/python3.11/site-packages/sklearn/linear_model/_sag.py:350: ConvergenceWarning: The max_iter was reached which means the coef_ did not converge\n",
      "  warnings.warn(\n",
      "/Users/xaviersan/miniconda3/envs/dmba/lib/python3.11/site-packages/sklearn/linear_model/_sag.py:350: ConvergenceWarning: The max_iter was reached which means the coef_ did not converge\n",
      "  warnings.warn(\n",
      "/Users/xaviersan/miniconda3/envs/dmba/lib/python3.11/site-packages/sklearn/linear_model/_sag.py:350: ConvergenceWarning: The max_iter was reached which means the coef_ did not converge\n",
      "  warnings.warn(\n",
      "/Users/xaviersan/miniconda3/envs/dmba/lib/python3.11/site-packages/sklearn/linear_model/_sag.py:350: ConvergenceWarning: The max_iter was reached which means the coef_ did not converge\n",
      "  warnings.warn(\n",
      "/Users/xaviersan/miniconda3/envs/dmba/lib/python3.11/site-packages/sklearn/linear_model/_sag.py:350: ConvergenceWarning: The max_iter was reached which means the coef_ did not converge\n",
      "  warnings.warn(\n"
     ]
    },
    {
     "name": "stdout",
     "output_type": "stream",
     "text": [
      "Params: {'C': 10, 'l1_ratio': 0.3} | Avg. AUC Score: 0.7454\n"
     ]
    },
    {
     "name": "stderr",
     "output_type": "stream",
     "text": [
      "/Users/xaviersan/miniconda3/envs/dmba/lib/python3.11/site-packages/sklearn/linear_model/_sag.py:350: ConvergenceWarning: The max_iter was reached which means the coef_ did not converge\n",
      "  warnings.warn(\n",
      "/Users/xaviersan/miniconda3/envs/dmba/lib/python3.11/site-packages/sklearn/linear_model/_sag.py:350: ConvergenceWarning: The max_iter was reached which means the coef_ did not converge\n",
      "  warnings.warn(\n",
      "/Users/xaviersan/miniconda3/envs/dmba/lib/python3.11/site-packages/sklearn/linear_model/_sag.py:350: ConvergenceWarning: The max_iter was reached which means the coef_ did not converge\n",
      "  warnings.warn(\n",
      "/Users/xaviersan/miniconda3/envs/dmba/lib/python3.11/site-packages/sklearn/linear_model/_sag.py:350: ConvergenceWarning: The max_iter was reached which means the coef_ did not converge\n",
      "  warnings.warn(\n",
      "/Users/xaviersan/miniconda3/envs/dmba/lib/python3.11/site-packages/sklearn/linear_model/_sag.py:350: ConvergenceWarning: The max_iter was reached which means the coef_ did not converge\n",
      "  warnings.warn(\n"
     ]
    },
    {
     "name": "stdout",
     "output_type": "stream",
     "text": [
      "Params: {'C': 10, 'l1_ratio': 0.5} | Avg. AUC Score: 0.7454\n"
     ]
    },
    {
     "name": "stderr",
     "output_type": "stream",
     "text": [
      "/Users/xaviersan/miniconda3/envs/dmba/lib/python3.11/site-packages/sklearn/linear_model/_sag.py:350: ConvergenceWarning: The max_iter was reached which means the coef_ did not converge\n",
      "  warnings.warn(\n",
      "/Users/xaviersan/miniconda3/envs/dmba/lib/python3.11/site-packages/sklearn/linear_model/_sag.py:350: ConvergenceWarning: The max_iter was reached which means the coef_ did not converge\n",
      "  warnings.warn(\n",
      "/Users/xaviersan/miniconda3/envs/dmba/lib/python3.11/site-packages/sklearn/linear_model/_sag.py:350: ConvergenceWarning: The max_iter was reached which means the coef_ did not converge\n",
      "  warnings.warn(\n",
      "/Users/xaviersan/miniconda3/envs/dmba/lib/python3.11/site-packages/sklearn/linear_model/_sag.py:350: ConvergenceWarning: The max_iter was reached which means the coef_ did not converge\n",
      "  warnings.warn(\n",
      "/Users/xaviersan/miniconda3/envs/dmba/lib/python3.11/site-packages/sklearn/linear_model/_sag.py:350: ConvergenceWarning: The max_iter was reached which means the coef_ did not converge\n",
      "  warnings.warn(\n"
     ]
    },
    {
     "name": "stdout",
     "output_type": "stream",
     "text": [
      "Params: {'C': 10, 'l1_ratio': 0.7} | Avg. AUC Score: 0.7454\n"
     ]
    },
    {
     "name": "stderr",
     "output_type": "stream",
     "text": [
      "/Users/xaviersan/miniconda3/envs/dmba/lib/python3.11/site-packages/sklearn/linear_model/_sag.py:350: ConvergenceWarning: The max_iter was reached which means the coef_ did not converge\n",
      "  warnings.warn(\n",
      "/Users/xaviersan/miniconda3/envs/dmba/lib/python3.11/site-packages/sklearn/linear_model/_sag.py:350: ConvergenceWarning: The max_iter was reached which means the coef_ did not converge\n",
      "  warnings.warn(\n",
      "/Users/xaviersan/miniconda3/envs/dmba/lib/python3.11/site-packages/sklearn/linear_model/_sag.py:350: ConvergenceWarning: The max_iter was reached which means the coef_ did not converge\n",
      "  warnings.warn(\n",
      "/Users/xaviersan/miniconda3/envs/dmba/lib/python3.11/site-packages/sklearn/linear_model/_sag.py:350: ConvergenceWarning: The max_iter was reached which means the coef_ did not converge\n",
      "  warnings.warn(\n",
      "/Users/xaviersan/miniconda3/envs/dmba/lib/python3.11/site-packages/sklearn/linear_model/_sag.py:350: ConvergenceWarning: The max_iter was reached which means the coef_ did not converge\n",
      "  warnings.warn(\n"
     ]
    },
    {
     "name": "stdout",
     "output_type": "stream",
     "text": [
      "Params: {'C': 10, 'l1_ratio': 0.9} | Avg. AUC Score: 0.7454\n"
     ]
    },
    {
     "name": "stderr",
     "output_type": "stream",
     "text": [
      "/Users/xaviersan/miniconda3/envs/dmba/lib/python3.11/site-packages/sklearn/linear_model/_sag.py:350: ConvergenceWarning: The max_iter was reached which means the coef_ did not converge\n",
      "  warnings.warn(\n",
      "/Users/xaviersan/miniconda3/envs/dmba/lib/python3.11/site-packages/sklearn/linear_model/_sag.py:350: ConvergenceWarning: The max_iter was reached which means the coef_ did not converge\n",
      "  warnings.warn(\n",
      "/Users/xaviersan/miniconda3/envs/dmba/lib/python3.11/site-packages/sklearn/linear_model/_sag.py:350: ConvergenceWarning: The max_iter was reached which means the coef_ did not converge\n",
      "  warnings.warn(\n",
      "/Users/xaviersan/miniconda3/envs/dmba/lib/python3.11/site-packages/sklearn/linear_model/_sag.py:350: ConvergenceWarning: The max_iter was reached which means the coef_ did not converge\n",
      "  warnings.warn(\n",
      "/Users/xaviersan/miniconda3/envs/dmba/lib/python3.11/site-packages/sklearn/linear_model/_sag.py:350: ConvergenceWarning: The max_iter was reached which means the coef_ did not converge\n",
      "  warnings.warn(\n"
     ]
    },
    {
     "name": "stdout",
     "output_type": "stream",
     "text": [
      "Params: {'C': 100, 'l1_ratio': 0.1} | Avg. AUC Score: 0.7454\n"
     ]
    },
    {
     "name": "stderr",
     "output_type": "stream",
     "text": [
      "/Users/xaviersan/miniconda3/envs/dmba/lib/python3.11/site-packages/sklearn/linear_model/_sag.py:350: ConvergenceWarning: The max_iter was reached which means the coef_ did not converge\n",
      "  warnings.warn(\n",
      "/Users/xaviersan/miniconda3/envs/dmba/lib/python3.11/site-packages/sklearn/linear_model/_sag.py:350: ConvergenceWarning: The max_iter was reached which means the coef_ did not converge\n",
      "  warnings.warn(\n",
      "/Users/xaviersan/miniconda3/envs/dmba/lib/python3.11/site-packages/sklearn/linear_model/_sag.py:350: ConvergenceWarning: The max_iter was reached which means the coef_ did not converge\n",
      "  warnings.warn(\n",
      "/Users/xaviersan/miniconda3/envs/dmba/lib/python3.11/site-packages/sklearn/linear_model/_sag.py:350: ConvergenceWarning: The max_iter was reached which means the coef_ did not converge\n",
      "  warnings.warn(\n",
      "/Users/xaviersan/miniconda3/envs/dmba/lib/python3.11/site-packages/sklearn/linear_model/_sag.py:350: ConvergenceWarning: The max_iter was reached which means the coef_ did not converge\n",
      "  warnings.warn(\n"
     ]
    },
    {
     "name": "stdout",
     "output_type": "stream",
     "text": [
      "Params: {'C': 100, 'l1_ratio': 0.3} | Avg. AUC Score: 0.7454\n"
     ]
    },
    {
     "name": "stderr",
     "output_type": "stream",
     "text": [
      "/Users/xaviersan/miniconda3/envs/dmba/lib/python3.11/site-packages/sklearn/linear_model/_sag.py:350: ConvergenceWarning: The max_iter was reached which means the coef_ did not converge\n",
      "  warnings.warn(\n",
      "/Users/xaviersan/miniconda3/envs/dmba/lib/python3.11/site-packages/sklearn/linear_model/_sag.py:350: ConvergenceWarning: The max_iter was reached which means the coef_ did not converge\n",
      "  warnings.warn(\n",
      "/Users/xaviersan/miniconda3/envs/dmba/lib/python3.11/site-packages/sklearn/linear_model/_sag.py:350: ConvergenceWarning: The max_iter was reached which means the coef_ did not converge\n",
      "  warnings.warn(\n",
      "/Users/xaviersan/miniconda3/envs/dmba/lib/python3.11/site-packages/sklearn/linear_model/_sag.py:350: ConvergenceWarning: The max_iter was reached which means the coef_ did not converge\n",
      "  warnings.warn(\n",
      "/Users/xaviersan/miniconda3/envs/dmba/lib/python3.11/site-packages/sklearn/linear_model/_sag.py:350: ConvergenceWarning: The max_iter was reached which means the coef_ did not converge\n",
      "  warnings.warn(\n"
     ]
    },
    {
     "name": "stdout",
     "output_type": "stream",
     "text": [
      "Params: {'C': 100, 'l1_ratio': 0.5} | Avg. AUC Score: 0.7454\n"
     ]
    },
    {
     "name": "stderr",
     "output_type": "stream",
     "text": [
      "/Users/xaviersan/miniconda3/envs/dmba/lib/python3.11/site-packages/sklearn/linear_model/_sag.py:350: ConvergenceWarning: The max_iter was reached which means the coef_ did not converge\n",
      "  warnings.warn(\n",
      "/Users/xaviersan/miniconda3/envs/dmba/lib/python3.11/site-packages/sklearn/linear_model/_sag.py:350: ConvergenceWarning: The max_iter was reached which means the coef_ did not converge\n",
      "  warnings.warn(\n",
      "/Users/xaviersan/miniconda3/envs/dmba/lib/python3.11/site-packages/sklearn/linear_model/_sag.py:350: ConvergenceWarning: The max_iter was reached which means the coef_ did not converge\n",
      "  warnings.warn(\n",
      "/Users/xaviersan/miniconda3/envs/dmba/lib/python3.11/site-packages/sklearn/linear_model/_sag.py:350: ConvergenceWarning: The max_iter was reached which means the coef_ did not converge\n",
      "  warnings.warn(\n",
      "/Users/xaviersan/miniconda3/envs/dmba/lib/python3.11/site-packages/sklearn/linear_model/_sag.py:350: ConvergenceWarning: The max_iter was reached which means the coef_ did not converge\n",
      "  warnings.warn(\n"
     ]
    },
    {
     "name": "stdout",
     "output_type": "stream",
     "text": [
      "Params: {'C': 100, 'l1_ratio': 0.7} | Avg. AUC Score: 0.7454\n"
     ]
    },
    {
     "name": "stderr",
     "output_type": "stream",
     "text": [
      "/Users/xaviersan/miniconda3/envs/dmba/lib/python3.11/site-packages/sklearn/linear_model/_sag.py:350: ConvergenceWarning: The max_iter was reached which means the coef_ did not converge\n",
      "  warnings.warn(\n",
      "/Users/xaviersan/miniconda3/envs/dmba/lib/python3.11/site-packages/sklearn/linear_model/_sag.py:350: ConvergenceWarning: The max_iter was reached which means the coef_ did not converge\n",
      "  warnings.warn(\n",
      "/Users/xaviersan/miniconda3/envs/dmba/lib/python3.11/site-packages/sklearn/linear_model/_sag.py:350: ConvergenceWarning: The max_iter was reached which means the coef_ did not converge\n",
      "  warnings.warn(\n",
      "/Users/xaviersan/miniconda3/envs/dmba/lib/python3.11/site-packages/sklearn/linear_model/_sag.py:350: ConvergenceWarning: The max_iter was reached which means the coef_ did not converge\n",
      "  warnings.warn(\n"
     ]
    },
    {
     "name": "stdout",
     "output_type": "stream",
     "text": [
      "Params: {'C': 100, 'l1_ratio': 0.9} | Avg. AUC Score: 0.7454\n",
      "\n",
      "Params Avg. AUC Score: 0.7454\n",
      "Best Params: {'C': 10, 'l1_ratio': 0.1}\n"
     ]
    },
    {
     "name": "stderr",
     "output_type": "stream",
     "text": [
      "/Users/xaviersan/miniconda3/envs/dmba/lib/python3.11/site-packages/sklearn/linear_model/_sag.py:350: ConvergenceWarning: The max_iter was reached which means the coef_ did not converge\n",
      "  warnings.warn(\n"
     ]
    }
   ],
   "source": [
    "# Re-Initialize Model\n",
    "logreg = LogisticRegression(penalty='elasticnet', solver='saga', random_state=42)\n",
    "\n",
    "# Step 3\n",
    "param_grid = {\n",
    "    'C': [0.001, 0.01, 0.1, 1, 10, 100],\n",
    "    'l1_ratio': [0.1, 0.3, 0.5, 0.7, 0.9] \n",
    "}\n",
    "\n",
    "custom_grid_search_auc(logreg, param_grid, kfold_data_int_terms)"
   ]
  },
  {
   "cell_type": "markdown",
   "id": "d9a1099e-0ebf-49bc-9b7a-412a1027df8e",
   "metadata": {},
   "source": [
    "No. of Iterations"
   ]
  },
  {
   "cell_type": "code",
   "execution_count": 66,
   "id": "2a5bc0f8-f569-4e6d-8b34-576e668ad2c1",
   "metadata": {},
   "outputs": [
    {
     "name": "stderr",
     "output_type": "stream",
     "text": [
      "/Users/xaviersan/miniconda3/envs/dmba/lib/python3.11/site-packages/sklearn/linear_model/_sag.py:350: ConvergenceWarning: The max_iter was reached which means the coef_ did not converge\n",
      "  warnings.warn(\n",
      "/Users/xaviersan/miniconda3/envs/dmba/lib/python3.11/site-packages/sklearn/linear_model/_sag.py:350: ConvergenceWarning: The max_iter was reached which means the coef_ did not converge\n",
      "  warnings.warn(\n",
      "/Users/xaviersan/miniconda3/envs/dmba/lib/python3.11/site-packages/sklearn/linear_model/_sag.py:350: ConvergenceWarning: The max_iter was reached which means the coef_ did not converge\n",
      "  warnings.warn(\n",
      "/Users/xaviersan/miniconda3/envs/dmba/lib/python3.11/site-packages/sklearn/linear_model/_sag.py:350: ConvergenceWarning: The max_iter was reached which means the coef_ did not converge\n",
      "  warnings.warn(\n",
      "/Users/xaviersan/miniconda3/envs/dmba/lib/python3.11/site-packages/sklearn/linear_model/_sag.py:350: ConvergenceWarning: The max_iter was reached which means the coef_ did not converge\n",
      "  warnings.warn(\n"
     ]
    },
    {
     "name": "stdout",
     "output_type": "stream",
     "text": [
      "Params: {'max_iter': 100} | Avg. AUC Score: 0.7454\n"
     ]
    },
    {
     "name": "stderr",
     "output_type": "stream",
     "text": [
      "/Users/xaviersan/miniconda3/envs/dmba/lib/python3.11/site-packages/sklearn/linear_model/_sag.py:350: ConvergenceWarning: The max_iter was reached which means the coef_ did not converge\n",
      "  warnings.warn(\n",
      "/Users/xaviersan/miniconda3/envs/dmba/lib/python3.11/site-packages/sklearn/linear_model/_sag.py:350: ConvergenceWarning: The max_iter was reached which means the coef_ did not converge\n",
      "  warnings.warn(\n",
      "/Users/xaviersan/miniconda3/envs/dmba/lib/python3.11/site-packages/sklearn/linear_model/_sag.py:350: ConvergenceWarning: The max_iter was reached which means the coef_ did not converge\n",
      "  warnings.warn(\n",
      "/Users/xaviersan/miniconda3/envs/dmba/lib/python3.11/site-packages/sklearn/linear_model/_sag.py:350: ConvergenceWarning: The max_iter was reached which means the coef_ did not converge\n",
      "  warnings.warn(\n",
      "/Users/xaviersan/miniconda3/envs/dmba/lib/python3.11/site-packages/sklearn/linear_model/_sag.py:350: ConvergenceWarning: The max_iter was reached which means the coef_ did not converge\n",
      "  warnings.warn(\n"
     ]
    },
    {
     "name": "stdout",
     "output_type": "stream",
     "text": [
      "Params: {'max_iter': 200} | Avg. AUC Score: 0.7454\n",
      "Params: {'max_iter': 300} | Avg. AUC Score: 0.7454\n",
      "\n",
      "Params Avg. AUC Score: 0.7454\n",
      "Best Params: {'max_iter': 100}\n"
     ]
    }
   ],
   "source": [
    "# Re-Initialize Model\n",
    "logreg = LogisticRegression(C=10, l1_ratio=0.1, penalty='elasticnet', solver='saga', random_state=42)\n",
    "\n",
    "param_grid = {\n",
    "    'max_iter':[100, 200, 300]\n",
    "}\n",
    "\n",
    "custom_grid_search_auc(logreg, param_grid, kfold_data_int_terms)"
   ]
  },
  {
   "cell_type": "markdown",
   "id": "f83e1f89-f584-4aa5-b360-d08bfd85ba6d",
   "metadata": {},
   "source": [
    "##### Final Model"
   ]
  },
  {
   "cell_type": "code",
   "execution_count": 67,
   "id": "c00ce7ba-8179-4751-9209-635863080319",
   "metadata": {},
   "outputs": [
    {
     "name": "stderr",
     "output_type": "stream",
     "text": [
      "/Users/xaviersan/miniconda3/envs/dmba/lib/python3.11/site-packages/sklearn/linear_model/_sag.py:350: ConvergenceWarning: The max_iter was reached which means the coef_ did not converge\n",
      "  warnings.warn(\n"
     ]
    },
    {
     "data": {
      "text/plain": [
       "{'AUC': 0.7563831477838228,\n",
       " 'Accuracy': 0.6881610942641648,\n",
       " 'Precision': 0.6403359664033597,\n",
       " 'Recall': 0.7055971793741737,\n",
       " 'F1 Score': 0.6713843895790743}"
      ]
     },
     "execution_count": 67,
     "metadata": {},
     "output_type": "execute_result"
    }
   ],
   "source": [
    "param_grid = {'C':10, 'l1_ratio':0.1, 'penalty':'elasticnet', 'solver':'saga', 'max_iter':100, 'random_state':42}\n",
    "\n",
    "logreg = LogisticRegression()\n",
    "logreg.set_params(**param_grid)\n",
    "logreg.fit(X_int_terms_train, y_int_terms_train)\n",
    "\n",
    "evaluate_model_probability(logreg, X_int_terms_test, y_int_terms_test, threshold=0.46)"
   ]
  },
  {
   "cell_type": "markdown",
   "id": "76cd4eb4-a669-4162-9d1f-1bcbf20353b0",
   "metadata": {},
   "source": [
    "#### Overall Logistic Regression Conclusion\n",
    "\n",
    "1. Both logistic regression models perform similarly\n",
    "2. Hyperparameter Tuning does not change the performance of the model by much (regularization doesn't have a significant impact)"
   ]
  },
  {
   "cell_type": "markdown",
   "id": "de87e86a-2a9b-49f9-8d72-3c5990eec6f9",
   "metadata": {},
   "source": [
    "# Random Forest"
   ]
  },
  {
   "cell_type": "markdown",
   "id": "29ef76dd-831e-461d-a38a-a6405f0fcd24",
   "metadata": {},
   "source": [
    "##### Baseline"
   ]
  },
  {
   "cell_type": "code",
   "execution_count": 59,
   "id": "54688610-74ec-479c-b868-9f3524486662",
   "metadata": {},
   "outputs": [
    {
     "data": {
      "text/plain": [
       "{'AUC': 0.7559270890639265,\n",
       " 'Accuracy': 0.6931012521465265,\n",
       " 'Precision': 0.6505652620760535,\n",
       " 'Recall': 0.6974438078448656,\n",
       " 'F1 Score': 0.6731894076358609}"
      ]
     },
     "execution_count": 59,
     "metadata": {},
     "output_type": "execute_result"
    }
   ],
   "source": [
    "rf_baseline = RandomForestClassifier(random_state=42)\n",
    "rf_baseline.fit(X_train, y_train)\n",
    "\n",
    "evaluate_model_probability(rf_baseline, X_test, y_test)"
   ]
  },
  {
   "cell_type": "markdown",
   "id": "313eeec6-0272-467c-adc4-80eac253bff1",
   "metadata": {},
   "source": [
    "##### Tuning"
   ]
  },
  {
   "cell_type": "markdown",
   "id": "89166d32-ca2b-433d-86b4-ab9fa826f9c7",
   "metadata": {},
   "source": [
    "Complexity"
   ]
  },
  {
   "cell_type": "code",
   "execution_count": 66,
   "id": "e40f5e4b-3f38-488d-addc-7d66329170a7",
   "metadata": {},
   "outputs": [],
   "source": [
    "# Initialize Model\n",
    "rf = RandomForestClassifier(n_estimators=100, random_state=42, max_features='sqrt')"
   ]
  },
  {
   "cell_type": "code",
   "execution_count": 67,
   "id": "7547aad0-b11f-4d89-a53e-eadaf0634145",
   "metadata": {},
   "outputs": [
    {
     "name": "stdout",
     "output_type": "stream",
     "text": [
      "Params: {'max_depth': None, 'min_samples_split': 2} | Avg. AUC Score: 0.73928\n",
      "Params: {'max_depth': 10, 'min_samples_split': 5} | Avg. AUC Score: 0.74531\n",
      "Params: {'max_depth': 20, 'min_samples_split': 2} | Avg. AUC Score: 0.74358\n",
      "Params: {'max_depth': None, 'min_samples_split': 5} | Avg. AUC Score: 0.74151\n",
      "Params: {'max_depth': 10, 'min_samples_split': 2} | Avg. AUC Score: 0.7455\n",
      "Params: {'max_depth': 20, 'min_samples_split': 5} | Avg. AUC Score: 0.74246\n",
      "\n",
      "Params Avg. AUC Score: 0.7455\n",
      "Best Params: {'max_depth': 10, 'min_samples_split': 2}\n"
     ]
    }
   ],
   "source": [
    "# Step 1\n",
    "param_grid = {\n",
    "    'max_depth': [None, 10, 20],\n",
    "    'min_samples_split': [2, 5],\n",
    "}\n",
    "\n",
    "custom_grid_search_auc(rf, param_grid, kfold_data)"
   ]
  },
  {
   "cell_type": "code",
   "execution_count": 68,
   "id": "81389b6b-7644-4013-8997-f8906d73b317",
   "metadata": {},
   "outputs": [
    {
     "name": "stdout",
     "output_type": "stream",
     "text": [
      "Params: {'max_depth': 9, 'min_samples_split': 2} | Avg. AUC Score: 0.7474\n",
      "Params: {'max_depth': 10, 'min_samples_split': 3} | Avg. AUC Score: 0.74497\n",
      "Params: {'max_depth': 11, 'min_samples_split': 2} | Avg. AUC Score: 0.74411\n",
      "Params: {'max_depth': 9, 'min_samples_split': 3} | Avg. AUC Score: 0.74662\n",
      "Params: {'max_depth': 10, 'min_samples_split': 2} | Avg. AUC Score: 0.7455\n",
      "Params: {'max_depth': 11, 'min_samples_split': 3} | Avg. AUC Score: 0.74505\n",
      "\n",
      "Params Avg. AUC Score: 0.7474\n",
      "Best Params: {'max_depth': 9, 'min_samples_split': 2}\n"
     ]
    }
   ],
   "source": [
    "# Step 2\n",
    "param_grid = {\n",
    "    'max_depth': [9, 10, 11],\n",
    "    'min_samples_split': [2, 3],\n",
    "}\n",
    "\n",
    "custom_grid_search_auc(rf, param_grid, kfold_data)"
   ]
  },
  {
   "cell_type": "code",
   "execution_count": 69,
   "id": "235341a7-db4a-4281-8e55-b370e1494609",
   "metadata": {},
   "outputs": [
    {
     "name": "stdout",
     "output_type": "stream",
     "text": [
      "Params: {'max_depth': 7, 'min_samples_split': 2} | Avg. AUC Score: 0.7486\n",
      "Params: {'max_depth': 8, 'min_samples_split': 3} | Avg. AUC Score: 0.74788\n",
      "Params: {'max_depth': 9, 'min_samples_split': 2} | Avg. AUC Score: 0.7474\n",
      "Params: {'max_depth': 7, 'min_samples_split': 3} | Avg. AUC Score: 0.74839\n",
      "Params: {'max_depth': 8, 'min_samples_split': 2} | Avg. AUC Score: 0.74747\n",
      "Params: {'max_depth': 9, 'min_samples_split': 3} | Avg. AUC Score: 0.74662\n",
      "\n",
      "Params Avg. AUC Score: 0.7486\n",
      "Best Params: {'max_depth': 7, 'min_samples_split': 2}\n"
     ]
    }
   ],
   "source": [
    "# Step 3\n",
    "param_grid = {\n",
    "    'max_depth': [7, 8, 9],\n",
    "    'min_samples_split': [2, 3],\n",
    "}\n",
    "\n",
    "custom_grid_search_auc(rf, param_grid, kfold_data)"
   ]
  },
  {
   "cell_type": "code",
   "execution_count": 70,
   "id": "fab978d5-c4a1-4197-9aad-278898e28587",
   "metadata": {},
   "outputs": [
    {
     "name": "stdout",
     "output_type": "stream",
     "text": [
      "Params: {'max_depth': 4} | Avg. AUC Score: 0.74653\n",
      "Params: {'max_depth': 5} | Avg. AUC Score: 0.74844\n",
      "Params: {'max_depth': 6} | Avg. AUC Score: 0.74692\n",
      "Params: {'max_depth': 7} | Avg. AUC Score: 0.7486\n",
      "\n",
      "Params Avg. AUC Score: 0.7486\n",
      "Best Params: {'max_depth': 7}\n"
     ]
    }
   ],
   "source": [
    "# Re-Initialize Model\n",
    "rf = RandomForestClassifier(n_estimators=100, min_samples_split=2, random_state=42, max_features='sqrt')\n",
    "\n",
    "# Step 4\n",
    "param_grid = {\n",
    "    'max_depth': [4, 5, 6, 7],\n",
    "}\n",
    "\n",
    "custom_grid_search_auc(rf, param_grid, kfold_data)"
   ]
  },
  {
   "cell_type": "markdown",
   "id": "fa69de1c-3365-446f-aeb1-ecae139990ef",
   "metadata": {},
   "source": [
    "Criterion, Efficiency and Sampling"
   ]
  },
  {
   "cell_type": "code",
   "execution_count": 71,
   "id": "1f627c8f-e600-404c-87e4-03f65b8a27da",
   "metadata": {},
   "outputs": [
    {
     "name": "stdout",
     "output_type": "stream",
     "text": [
      "Params: {'criterion': 'gini'} | Avg. AUC Score: 0.74844\n",
      "Params: {'criterion': 'entropy'} | Avg. AUC Score: 0.74655\n",
      "\n",
      "Params Avg. AUC Score: 0.74844\n",
      "Best Params: {'criterion': 'gini'}\n"
     ]
    }
   ],
   "source": [
    "# Re-Initialize Model\n",
    "rf = RandomForestClassifier(n_estimators=100, max_depth=5, min_samples_split=2, random_state=42, max_features='sqrt')\n",
    "\n",
    "# Step 1\n",
    "param_grid = {\n",
    "    'criterion': ['gini', 'entropy'],\n",
    "}\n",
    "\n",
    "custom_grid_search_auc(rf, param_grid, kfold_data)"
   ]
  },
  {
   "cell_type": "code",
   "execution_count": 72,
   "id": "243734df-e4b7-426e-8cd8-1c2d242d82c2",
   "metadata": {},
   "outputs": [
    {
     "name": "stdout",
     "output_type": "stream",
     "text": [
      "Params: {'n_estimators': 50} | Avg. AUC Score: 0.74917\n",
      "Params: {'n_estimators': 100} | Avg. AUC Score: 0.74844\n",
      "Params: {'n_estimators': 150} | Avg. AUC Score: 0.74744\n",
      "\n",
      "Params Avg. AUC Score: 0.74917\n",
      "Best Params: {'n_estimators': 50}\n"
     ]
    }
   ],
   "source": [
    "# Re-Initialize Model\n",
    "rf = RandomForestClassifier(criterion='gini', max_depth=5, min_samples_split=2, random_state=42, max_features='sqrt')\n",
    "\n",
    "# Step 2\n",
    "param_grid = {\n",
    "    'n_estimators':[50, 100, 150],\n",
    "}\n",
    "\n",
    "custom_grid_search_auc(rf, param_grid, kfold_data)"
   ]
  },
  {
   "cell_type": "code",
   "execution_count": 76,
   "id": "9a00066b-f9a6-47ec-996c-d05e46c6991e",
   "metadata": {},
   "outputs": [
    {
     "name": "stdout",
     "output_type": "stream",
     "text": [
      "Params: {'n_estimators': 25} | Avg. AUC Score: 0.75031\n",
      "Params: {'n_estimators': 50} | Avg. AUC Score: 0.74917\n",
      "Params: {'n_estimators': 75} | Avg. AUC Score: 0.75021\n",
      "\n",
      "Params Avg. AUC Score: 0.75031\n",
      "Best Params: {'n_estimators': 25}\n"
     ]
    }
   ],
   "source": [
    "# Step 3\n",
    "param_grid = {\n",
    "    'n_estimators':[25, 50, 75],\n",
    "}\n",
    "\n",
    "custom_grid_search_auc(rf, param_grid, kfold_data)"
   ]
  },
  {
   "cell_type": "code",
   "execution_count": 80,
   "id": "42e6cf91-7d77-408a-ac21-fc9664a9d06d",
   "metadata": {},
   "outputs": [
    {
     "name": "stdout",
     "output_type": "stream",
     "text": [
      "Params: {'n_estimators': 20} | Avg. AUC Score: 0.74705\n",
      "Params: {'n_estimators': 21} | Avg. AUC Score: 0.74806\n",
      "Params: {'n_estimators': 22} | Avg. AUC Score: 0.74966\n",
      "Params: {'n_estimators': 23} | Avg. AUC Score: 0.74972\n",
      "Params: {'n_estimators': 24} | Avg. AUC Score: 0.74944\n",
      "Params: {'n_estimators': 25} | Avg. AUC Score: 0.75031\n",
      "Params: {'n_estimators': 26} | Avg. AUC Score: 0.75082\n",
      "Params: {'n_estimators': 27} | Avg. AUC Score: 0.74933\n",
      "Params: {'n_estimators': 28} | Avg. AUC Score: 0.74931\n",
      "Params: {'n_estimators': 29} | Avg. AUC Score: 0.74932\n",
      "Params: {'n_estimators': 30} | Avg. AUC Score: 0.74835\n",
      "\n",
      "Params Avg. AUC Score: 0.75082\n",
      "Best Params: {'n_estimators': 26}\n"
     ]
    }
   ],
   "source": [
    "# Step 4\n",
    "param_grid = {\n",
    "    'n_estimators':[i for i in range(20,31)],\n",
    "}\n",
    "\n",
    "custom_grid_search_auc(rf, param_grid, kfold_data)"
   ]
  },
  {
   "cell_type": "code",
   "execution_count": 81,
   "id": "21eefd88-f813-4d09-8943-3b6b1c514c73",
   "metadata": {},
   "outputs": [
    {
     "name": "stdout",
     "output_type": "stream",
     "text": [
      "Params: {'max_features': 'sqrt'} | Avg. AUC Score: 0.75082\n",
      "Params: {'max_features': 'log2'} | Avg. AUC Score: 0.75257\n",
      "\n",
      "Params Avg. AUC Score: 0.75257\n",
      "Best Params: {'max_features': 'log2'}\n"
     ]
    }
   ],
   "source": [
    "# Re-Initialize Model\n",
    "rf = RandomForestClassifier(n_estimators=26, criterion='gini', max_depth=5, min_samples_split=2, random_state=42, max_features='sqrt')\n",
    "\n",
    "# Step 5\n",
    "param_grid = {\n",
    "    'max_features':['sqrt', 'log2'],\n",
    "}\n",
    "\n",
    "custom_grid_search_auc(rf, param_grid, kfold_data)"
   ]
  },
  {
   "cell_type": "markdown",
   "id": "a41d348d-9a3e-487e-a839-71d81d8bc7f9",
   "metadata": {},
   "source": [
    "##### Final Model"
   ]
  },
  {
   "cell_type": "code",
   "execution_count": 92,
   "id": "f38a40fd-6fa1-4cc3-a36f-588dabc33e03",
   "metadata": {},
   "outputs": [
    {
     "data": {
      "text/plain": [
       "{'AUC': 0.7621492120567295,\n",
       " 'Accuracy': 0.6947385106668309,\n",
       " 'Precision': 0.6330053833302395,\n",
       " 'Recall': 0.751432349052446,\n",
       " 'F1 Score': 0.6871536523929471}"
      ]
     },
     "execution_count": 92,
     "metadata": {},
     "output_type": "execute_result"
    }
   ],
   "source": [
    "param_grid = {'n_estimators':26, 'criterion':'gini', 'max_depth':5, 'min_samples_split':2, 'random_state':42, 'max_features':'log2'}\n",
    "\n",
    "rf = RandomForestClassifier()\n",
    "rf.set_params(**param_grid)\n",
    "rf.fit(X_train, y_train)\n",
    "\n",
    "evaluate_model_probability(rf, X_test, y_test, threshold=0.46)"
   ]
  },
  {
   "cell_type": "markdown",
   "id": "e4f02ff7-7228-4137-acd2-34c320eb8083",
   "metadata": {},
   "source": [
    "##### Feature Importance"
   ]
  },
  {
   "cell_type": "code",
   "execution_count": 216,
   "id": "ce04d048-f014-4252-b29c-9d75c163e337",
   "metadata": {},
   "outputs": [
    {
     "data": {
      "image/png": "[encoded data removed]",
      "text/plain": [
       "<Figure size 1000x800 with 1 Axes>"
      ]
     },
     "metadata": {},
     "output_type": "display_data"
    }
   ],
   "source": [
    "importances = rf.feature_importances_\n",
    "std = np.std([tree.feature_importances_ for tree in rf.estimators_], axis=0)\n",
    "rf_importances = pd.Series(importances, index=X_train.columns)\n",
    "\n",
    "fig, ax = plt.subplots(figsize=(10, 8))\n",
    "rf_importances.plot.bar(yerr=std, ax=ax)\n",
    "ax.set_title(\"Feature importances using MDI\") # Mean Decrease in Impurity\n",
    "ax.set_ylabel(\"Mean Decrease in Impurity\")\n",
    "fig.tight_layout()"
   ]
  },
  {
   "cell_type": "markdown",
   "id": "b03621a8-eedf-4e0b-b386-f89049b1fd27",
   "metadata": {},
   "source": [
    "# SVM"
   ]
  },
  {
   "cell_type": "markdown",
   "id": "e2ea4ec4-72be-4daf-9e53-b3ec353b41ad",
   "metadata": {},
   "source": [
    "##### Baseline"
   ]
  },
  {
   "cell_type": "code",
   "execution_count": 102,
   "id": "857dbbcf-f055-46a7-a250-a4b6ec3d39c9",
   "metadata": {},
   "outputs": [
    {
     "data": {
      "text/plain": [
       "{'AUC': 0.6860975562720371,\n",
       " 'Accuracy': 0.6860975562720372,\n",
       " 'Precision': 0.6503995737879595,\n",
       " 'Recall': 0.6725429704715734,\n",
       " 'F1 Score': 0.6612859541736635}"
      ]
     },
     "execution_count": 102,
     "metadata": {},
     "output_type": "execute_result"
    }
   ],
   "source": [
    "svm_baseline = LinearSVC(random_state=42)\n",
    "svm_baseline.fit(X_train, y_train)\n",
    "\n",
    "evaluate_model_binary(svm_baseline, X_test, y_test)"
   ]
  },
  {
   "cell_type": "markdown",
   "id": "f8d4d872-102d-49c2-865f-e588764811d7",
   "metadata": {},
   "source": [
    "##### Tuning"
   ]
  },
  {
   "cell_type": "markdown",
   "id": "ab5de786-2602-4974-8ea2-6e819ee96024",
   "metadata": {},
   "source": [
    "Algorithm"
   ]
  },
  {
   "cell_type": "code",
   "execution_count": 103,
   "id": "fb13bb65-cbd0-4979-a0b5-0e2b8466dfbb",
   "metadata": {},
   "outputs": [],
   "source": [
    "# Initialize Model\n",
    "svm = LinearSVC(C=1.0, random_state=42, max_iter=1000)"
   ]
  },
  {
   "cell_type": "code",
   "execution_count": 104,
   "id": "c5b28ba6-091f-4ba6-8c51-ef5f0f93b13e",
   "metadata": {},
   "outputs": [
    {
     "name": "stdout",
     "output_type": "stream",
     "text": [
      "Params: {'dual': True} | Avg. Acc Score: 0.6795\n",
      "Params: {'dual': False} | Avg. Acc Score: 0.67951\n",
      "\n",
      "Params Avg. Acc Score: 0.67951\n",
      "Best Params: {'dual': False}\n"
     ]
    }
   ],
   "source": [
    "param_grid = {\n",
    "    'dual': [True, False]\n",
    "}\n",
    "\n",
    "custom_grid_search_acc(svm, param_grid, kfold_data)"
   ]
  },
  {
   "cell_type": "markdown",
   "id": "d679b3b5-56da-47d7-8c4c-9bb58f145a71",
   "metadata": {},
   "source": [
    "Regularization"
   ]
  },
  {
   "cell_type": "code",
   "execution_count": 105,
   "id": "e36bb98a-43c9-4372-8711-eed88503c6f0",
   "metadata": {},
   "outputs": [
    {
     "name": "stdout",
     "output_type": "stream",
     "text": [
      "Params: {'C': 0.1} | Avg. Acc Score: 0.67933\n",
      "Params: {'C': 1} | Avg. Acc Score: 0.67951\n",
      "Params: {'C': 10} | Avg. Acc Score: 0.6795\n",
      "Params: {'C': 100} | Avg. Acc Score: 0.67949\n",
      "\n",
      "Params Avg. Acc Score: 0.67951\n",
      "Best Params: {'C': 1}\n"
     ]
    }
   ],
   "source": [
    "# Re-Initialize Model\n",
    "svm = LinearSVC(dual=False, random_state=42, max_iter=1000)\n",
    "\n",
    "# Step 1\n",
    "param_grid = {\n",
    "    'C': [0.1, 1, 10, 100]\n",
    "}\n",
    "\n",
    "custom_grid_search_acc(svm, param_grid, kfold_data)"
   ]
  },
  {
   "cell_type": "code",
   "execution_count": 110,
   "id": "730a7a34-1e25-414f-8163-4a9c22e077b8",
   "metadata": {},
   "outputs": [
    {
     "name": "stdout",
     "output_type": "stream",
     "text": [
      "Params: {'C': 0.5} | Avg. Acc Score: 0.6795\n",
      "Params: {'C': 0.6} | Avg. Acc Score: 0.67949\n",
      "Params: {'C': 0.7} | Avg. Acc Score: 0.67949\n",
      "Params: {'C': 0.8} | Avg. Acc Score: 0.67949\n",
      "Params: {'C': 0.9} | Avg. Acc Score: 0.6795\n",
      "Params: {'C': 1.0} | Avg. Acc Score: 0.67951\n",
      "Params: {'C': 1.1} | Avg. Acc Score: 0.67951\n",
      "Params: {'C': 1.2} | Avg. Acc Score: 0.67951\n",
      "Params: {'C': 1.3} | Avg. Acc Score: 0.67951\n",
      "Params: {'C': 1.4} | Avg. Acc Score: 0.67951\n",
      "Params: {'C': 1.5} | Avg. Acc Score: 0.67949\n",
      "\n",
      "Params Avg. Acc Score: 0.67951\n",
      "Best Params: {'C': 1.3}\n"
     ]
    }
   ],
   "source": [
    "# Re-Initialize Model\n",
    "svm = LinearSVC(dual=False, random_state=42, max_iter=1000)\n",
    "\n",
    "# Step 2\n",
    "param_grid = {\n",
    "    'C': [0.5, 0.6, 0.7, 0.8, 0.9, 1.0, 1.1, 1.2, 1.3, 1.4, 1.5]\n",
    "}\n",
    "\n",
    "custom_grid_search_acc(svm, param_grid, kfold_data)"
   ]
  },
  {
   "cell_type": "markdown",
   "id": "7dd95508-2ef6-43f9-b6ab-006c68c3bf44",
   "metadata": {},
   "source": [
    "Efficiency"
   ]
  },
  {
   "cell_type": "code",
   "execution_count": 112,
   "id": "48650cc3-6dde-4be7-9c2b-812731385a89",
   "metadata": {},
   "outputs": [
    {
     "name": "stdout",
     "output_type": "stream",
     "text": [
      "Params: {'max_iter': 500} | Avg. Acc Score: 0.67951\n",
      "Params: {'max_iter': 1000} | Avg. Acc Score: 0.67951\n",
      "Params: {'max_iter': 2000} | Avg. Acc Score: 0.67951\n",
      "\n",
      "Params Avg. Acc Score: 0.67951\n",
      "Best Params: {'max_iter': 500}\n"
     ]
    }
   ],
   "source": [
    "# Re-Initialize Model\n",
    "svm = LinearSVC(C=1.3, dual=False, random_state=42)\n",
    "\n",
    "param_grid = {\n",
    "    'max_iter': [500, 1000, 2000]\n",
    "}\n",
    "\n",
    "custom_grid_search_acc(svm, param_grid, kfold_data)"
   ]
  },
  {
   "cell_type": "markdown",
   "id": "1f0cee11-394a-4523-93fe-d808bcbbd6de",
   "metadata": {},
   "source": [
    "##### Final Model"
   ]
  },
  {
   "cell_type": "code",
   "execution_count": 113,
   "id": "e22cad11-e98d-45d4-bb2a-aa2f63fb9cbc",
   "metadata": {},
   "outputs": [
    {
     "data": {
      "text/plain": [
       "{'AUC': 0.6860975562720371,\n",
       " 'Accuracy': 0.6860975562720372,\n",
       " 'Precision': 0.6503995737879595,\n",
       " 'Recall': 0.6725429704715734,\n",
       " 'F1 Score': 0.6612859541736635}"
      ]
     },
     "execution_count": 113,
     "metadata": {},
     "output_type": "execute_result"
    }
   ],
   "source": [
    "param_grid = {'C':1.3, 'dual':False, 'random_state':42, 'max_iter':500}\n",
    "\n",
    "svm = LinearSVC()\n",
    "svm.set_params(**param_grid)\n",
    "svm.fit(X_train, y_train)\n",
    "\n",
    "evaluate_model_binary(svm, X_test, y_test)"
   ]
  },
  {
   "cell_type": "markdown",
   "id": "2d968b77-c2b9-470b-8823-89d4f5f96864",
   "metadata": {},
   "source": [
    "# XGBoost"
   ]
  },
  {
   "cell_type": "markdown",
   "id": "27c0f902-f441-4013-9af6-55c31a7232cc",
   "metadata": {},
   "source": [
    "##### Baseline"
   ]
  },
  {
   "cell_type": "code",
   "execution_count": 21,
   "id": "5e04ab09-7dde-49f3-9739-fc2543e7359c",
   "metadata": {},
   "outputs": [
    {
     "data": {
      "text/plain": [
       "{'AUC': 0.7408183946571681,\n",
       " 'Accuracy': 0.6862277478161951,\n",
       " 'Precision': 0.6380876334963569,\n",
       " 'Recall': 0.7043851917144116,\n",
       " 'F1 Score': 0.6695993715632365}"
      ]
     },
     "execution_count": 21,
     "metadata": {},
     "output_type": "execute_result"
    }
   ],
   "source": [
    "xgb_baseline = XGBClassifier(objective='binary:logistic', random_state=42)\n",
    "xgb_baseline.fit(X_train, y_train)\n",
    "\n",
    "evaluate_model_probability(xgb_baseline, X_test, y_test)"
   ]
  },
  {
   "cell_type": "markdown",
   "id": "0025e8c1-c9df-4ab8-b1fb-d29e5428d9d7",
   "metadata": {},
   "source": [
    "##### Tuning"
   ]
  },
  {
   "cell_type": "markdown",
   "id": "bfea17d5-9aeb-4aa1-8dc4-655966e5ca1f",
   "metadata": {},
   "source": [
    "Method"
   ]
  },
  {
   "cell_type": "code",
   "execution_count": 151,
   "id": "477446f7-54b5-4648-8d19-6f8576e6bff2",
   "metadata": {},
   "outputs": [
    {
     "name": "stdout",
     "output_type": "stream",
     "text": [
      "Params: {'objective': 'binary:logistic', 'booster': 'gbtree', 'random_state': 42} | Avg. AUC Score: 0.72417\n",
      "Params: {'objective': 'binary:logistic', 'booster': 'gblinear', 'random_state': 42} | Avg. AUC Score: 0.74465\n",
      "Params: {'objective': 'reg:squarederror', 'booster': 'gbtree', 'random_state': 42} | Avg. AUC Score: 0.73718\n",
      "Params: {'objective': 'reg:squarederror', 'booster': 'gblinear', 'random_state': 42} | Avg. AUC Score: 0.72303\n",
      "\n",
      "Params Avg. AUC Score: 0.74465\n",
      "Best Params: {'objective': 'binary:logistic', 'booster': 'gblinear', 'random_state': 42}\n"
     ]
    }
   ],
   "source": [
    "param_grid = {\n",
    "    'objective': ['binary:logistic', 'reg:squarederror'],\n",
    "    'booster': ['gbtree', 'gblinear'],\n",
    "    'random_state': [42]\n",
    "}\n",
    "\n",
    "custom_grid_search_xgb_auc(param_grid, kfold_data)"
   ]
  },
  {
   "cell_type": "markdown",
   "id": "624b2135-841f-4565-a613-5d312e16ede6",
   "metadata": {},
   "source": [
    "Regularization"
   ]
  },
  {
   "cell_type": "code",
   "execution_count": 157,
   "id": "184c46a5-4438-4eb7-8c49-457879b7e55d",
   "metadata": {},
   "outputs": [
    {
     "name": "stdout",
     "output_type": "stream",
     "text": [
      "Params: {'lambda': 0, 'random_state': 42, 'objective': 'binary:logistic', 'booster': 'gblinear'} | Avg. AUC Score: 0.74457\n",
      "Params: {'lambda': 0.1, 'random_state': 42, 'objective': 'binary:logistic', 'booster': 'gblinear'} | Avg. AUC Score: 0.73287\n",
      "Params: {'lambda': 0.2, 'random_state': 42, 'objective': 'binary:logistic', 'booster': 'gblinear'} | Avg. AUC Score: 0.71939\n",
      "Params: {'lambda': 0.3, 'random_state': 42, 'objective': 'binary:logistic', 'booster': 'gblinear'} | Avg. AUC Score: 0.71137\n",
      "Params: {'lambda': 0.4, 'random_state': 42, 'objective': 'binary:logistic', 'booster': 'gblinear'} | Avg. AUC Score: 0.70626\n",
      "Params: {'lambda': 0.5, 'random_state': 42, 'objective': 'binary:logistic', 'booster': 'gblinear'} | Avg. AUC Score: 0.70272\n",
      "\n",
      "Params Avg. AUC Score: 0.74457\n",
      "Best Params: {'lambda': 0, 'random_state': 42, 'objective': 'binary:logistic', 'booster': 'gblinear'}\n"
     ]
    }
   ],
   "source": [
    "# Step 1\n",
    "param_grid = {\n",
    "    'lambda': [0, 0.1, 0.2, 0.3, 0.4, 0.5],\n",
    "    'random_state': [42],\n",
    "    'objective': ['binary:logistic'],\n",
    "    'booster': ['gblinear']\n",
    "}\n",
    "\n",
    "custom_grid_search_xgb_auc(param_grid, kfold_data)"
   ]
  },
  {
   "cell_type": "code",
   "execution_count": 51,
   "id": "2a2a76be-63fd-4036-b379-9db1d49d32c1",
   "metadata": {},
   "outputs": [
    {
     "name": "stdout",
     "output_type": "stream",
     "text": [
      "Params: {'lambda': 0, 'random_state': 42, 'objective': 'binary:logistic', 'booster': 'gblinear'} | Avg. AUC Score: 0.74459\n",
      "Params: {'lambda': 1e-05, 'random_state': 42, 'objective': 'binary:logistic', 'booster': 'gblinear'} | Avg. AUC Score: 0.7446\n",
      "Params: {'lambda': 5e-05, 'random_state': 42, 'objective': 'binary:logistic', 'booster': 'gblinear'} | Avg. AUC Score: 0.74399\n",
      "Params: {'lambda': 0.0001, 'random_state': 42, 'objective': 'binary:logistic', 'booster': 'gblinear'} | Avg. AUC Score: 0.74337\n",
      "Params: {'lambda': 0.0005, 'random_state': 42, 'objective': 'binary:logistic', 'booster': 'gblinear'} | Avg. AUC Score: 0.7414\n",
      "Params: {'lambda': 0.001, 'random_state': 42, 'objective': 'binary:logistic', 'booster': 'gblinear'} | Avg. AUC Score: 0.74025\n",
      "Params: {'lambda': 0.005, 'random_state': 42, 'objective': 'binary:logistic', 'booster': 'gblinear'} | Avg. AUC Score: 0.73908\n",
      "Params: {'lambda': 0.01, 'random_state': 42, 'objective': 'binary:logistic', 'booster': 'gblinear'} | Avg. AUC Score: 0.7403\n",
      "Params: {'lambda': 0.05, 'random_state': 42, 'objective': 'binary:logistic', 'booster': 'gblinear'} | Avg. AUC Score: 0.74116\n",
      "\n",
      "Params Avg. AUC Score: 0.7446\n",
      "Best Params: {'lambda': 1e-05, 'random_state': 42, 'objective': 'binary:logistic', 'booster': 'gblinear'}\n"
     ]
    }
   ],
   "source": [
    "# Step 2\n",
    "param_grid = {\n",
    "    'lambda': [0, 0.00001, 0.00005, 0.0001, 0.0005, 0.001, 0.005, 0.01, 0.05],\n",
    "    'random_state': [42],\n",
    "    'objective': ['binary:logistic'],\n",
    "    'booster': ['gblinear']\n",
    "}\n",
    "\n",
    "custom_grid_search_xgb_auc(param_grid, kfold_data)"
   ]
  },
  {
   "cell_type": "code",
   "execution_count": 53,
   "id": "7075d2f7-1875-4e4d-8f77-34aa3fae460e",
   "metadata": {},
   "outputs": [
    {
     "name": "stdout",
     "output_type": "stream",
     "text": [
      "Params: {'lambda': 8e-06, 'random_state': 42, 'objective': 'binary:logistic', 'booster': 'gblinear'} | Avg. AUC Score: 0.74458\n",
      "Params: {'lambda': 9e-06, 'random_state': 42, 'objective': 'binary:logistic', 'booster': 'gblinear'} | Avg. AUC Score: 0.74458\n",
      "Params: {'lambda': 1e-05, 'random_state': 42, 'objective': 'binary:logistic', 'booster': 'gblinear'} | Avg. AUC Score: 0.74462\n",
      "Params: {'lambda': 2e-05, 'random_state': 42, 'objective': 'binary:logistic', 'booster': 'gblinear'} | Avg. AUC Score: 0.74448\n",
      "Params: {'lambda': 3e-05, 'random_state': 42, 'objective': 'binary:logistic', 'booster': 'gblinear'} | Avg. AUC Score: 0.74438\n",
      "\n",
      "Params Avg. AUC Score: 0.74462\n",
      "Best Params: {'lambda': 1e-05, 'random_state': 42, 'objective': 'binary:logistic', 'booster': 'gblinear'}\n"
     ]
    }
   ],
   "source": [
    "# Step 3\n",
    "param_grid = {\n",
    "    'lambda': [0.000008, 0.000009, 0.00001, 0.00002, 0.00003],\n",
    "    'random_state': [42],\n",
    "    'objective': ['binary:logistic'],\n",
    "    'booster': ['gblinear']\n",
    "}\n",
    "\n",
    "custom_grid_search_xgb_auc(param_grid, kfold_data)"
   ]
  },
  {
   "cell_type": "markdown",
   "id": "12e800a5-ef49-4564-81ac-fcaa88eaaa55",
   "metadata": {},
   "source": [
    "Learning Rate"
   ]
  },
  {
   "cell_type": "code",
   "execution_count": 55,
   "id": "0df8f1ed-98cf-4c23-b7e7-6080e89bc54e",
   "metadata": {},
   "outputs": [
    {
     "name": "stdout",
     "output_type": "stream",
     "text": [
      "Params: {'eta': 0.01, 'lambda': 1e-05, 'random_state': 42, 'objective': 'binary:logistic', 'booster': 'gblinear'} | Avg. AUC Score: 0.7596\n",
      "Params: {'eta': 0.05, 'lambda': 1e-05, 'random_state': 42, 'objective': 'binary:logistic', 'booster': 'gblinear'} | Avg. AUC Score: 0.75246\n",
      "Params: {'eta': 0.1, 'lambda': 1e-05, 'random_state': 42, 'objective': 'binary:logistic', 'booster': 'gblinear'} | Avg. AUC Score: 0.74645\n",
      "Params: {'eta': 0.2, 'lambda': 1e-05, 'random_state': 42, 'objective': 'binary:logistic', 'booster': 'gblinear'} | Avg. AUC Score: 0.74414\n",
      "Params: {'eta': 0.3, 'lambda': 1e-05, 'random_state': 42, 'objective': 'binary:logistic', 'booster': 'gblinear'} | Avg. AUC Score: 0.74409\n",
      "\n",
      "Params Avg. AUC Score: 0.7596\n",
      "Best Params: {'eta': 0.01, 'lambda': 1e-05, 'random_state': 42, 'objective': 'binary:logistic', 'booster': 'gblinear'}\n"
     ]
    }
   ],
   "source": [
    "# Step 1\n",
    "param_grid = {\n",
    "    'eta': [0.01, 0.05, 0.1, 0.2, 0.3],\n",
    "    'lambda': [0.00001],\n",
    "    'random_state': [42],\n",
    "    'objective': ['binary:logistic'],\n",
    "    'booster': ['gblinear']\n",
    "}\n",
    "\n",
    "custom_grid_search_xgb_auc(param_grid, kfold_data)"
   ]
  },
  {
   "cell_type": "code",
   "execution_count": 58,
   "id": "28aedc7b-e0bb-4b9f-b4d3-81ba03709ad8",
   "metadata": {},
   "outputs": [
    {
     "name": "stdout",
     "output_type": "stream",
     "text": [
      "Params: {'eta': 0.0005, 'lambda': 1e-05, 'random_state': 42, 'objective': 'binary:logistic', 'booster': 'gblinear'} | Avg. AUC Score: 0.75286\n",
      "Params: {'eta': 0.001, 'lambda': 1e-05, 'random_state': 42, 'objective': 'binary:logistic', 'booster': 'gblinear'} | Avg. AUC Score: 0.75342\n",
      "Params: {'eta': 0.005, 'lambda': 1e-05, 'random_state': 42, 'objective': 'binary:logistic', 'booster': 'gblinear'} | Avg. AUC Score: 0.75702\n",
      "Params: {'eta': 0.01, 'lambda': 1e-05, 'random_state': 42, 'objective': 'binary:logistic', 'booster': 'gblinear'} | Avg. AUC Score: 0.7596\n",
      "Params: {'eta': 0.015, 'lambda': 1e-05, 'random_state': 42, 'objective': 'binary:logistic', 'booster': 'gblinear'} | Avg. AUC Score: 0.76038\n",
      "Params: {'eta': 0.02, 'lambda': 1e-05, 'random_state': 42, 'objective': 'binary:logistic', 'booster': 'gblinear'} | Avg. AUC Score: 0.76\n",
      "Params: {'eta': 0.025, 'lambda': 1e-05, 'random_state': 42, 'objective': 'binary:logistic', 'booster': 'gblinear'} | Avg. AUC Score: 0.75896\n",
      "\n",
      "Params Avg. AUC Score: 0.76038\n",
      "Best Params: {'eta': 0.015, 'lambda': 1e-05, 'random_state': 42, 'objective': 'binary:logistic', 'booster': 'gblinear'}\n"
     ]
    }
   ],
   "source": [
    "# Step 2\n",
    "param_grid = {\n",
    "    'eta': [0.0005, 0.001, 0.005, 0.01, 0.015, 0.02, 0.025],\n",
    "    'lambda': [0.00001],\n",
    "    'random_state': [42],\n",
    "    'objective': ['binary:logistic'],\n",
    "    'booster': ['gblinear']\n",
    "}\n",
    "\n",
    "custom_grid_search_xgb_auc(param_grid, kfold_data)"
   ]
  },
  {
   "cell_type": "markdown",
   "id": "1f1aaff3-4f29-480b-863e-20e70bc00b75",
   "metadata": {},
   "source": [
    "Use XGB Model from XGB package\n",
    "\n",
    "1. Get No. of Boosting Rounds\n",
    "2. Get Feature Importance"
   ]
  },
  {
   "cell_type": "code",
   "execution_count": 49,
   "id": "a1a5a2d3-fb21-4017-9d8d-c56fa0e5735a",
   "metadata": {},
   "outputs": [
    {
     "name": "stdout",
     "output_type": "stream",
     "text": [
      "[0]\tTest-auc:0.75618\n",
      "[20]\tTest-auc:0.75981\n",
      "[40]\tTest-auc:0.76270\n",
      "[60]\tTest-auc:0.76486\n",
      "[80]\tTest-auc:0.76635\n",
      "[100]\tTest-auc:0.76725\n",
      "[120]\tTest-auc:0.76767\n",
      "[140]\tTest-auc:0.76771\n",
      "[143]\tTest-auc:0.76769\n",
      "Convergence in 134 rounds\n"
     ]
    }
   ],
   "source": [
    "param_grid = {\n",
    "    'eta': 0.015,\n",
    "    'lambda': 0.00001,\n",
    "    'random_state': 42,\n",
    "    'objective': 'binary:logistic',\n",
    "    'booster': 'gblinear',\n",
    "    'eval_metric': 'auc'\n",
    "}\n",
    "\n",
    "# Create DMatrix to store data\n",
    "dtrain = xgb.DMatrix(X_train, label=y_train)\n",
    "dtest = xgb.DMatrix(X_test, label=y_test)\n",
    "\n",
    "# Find no. of boosting rounds required\n",
    "rounds = xgb.train(\n",
    "    param_grid,\n",
    "    dtrain,\n",
    "    num_boost_round=999,\n",
    "    evals=[(dtest, \"Test\")],\n",
    "    early_stopping_rounds=10,\n",
    "    verbose_eval=20\n",
    ")\n",
    "\n",
    "print(\"Convergence in {} rounds\".format(rounds.best_iteration+1))"
   ]
  },
  {
   "cell_type": "markdown",
   "id": "e91d5087-7090-449b-a7c0-60e490b5b0f2",
   "metadata": {},
   "source": [
    "##### Final Model"
   ]
  },
  {
   "cell_type": "code",
   "execution_count": 19,
   "id": "88018f4b-3643-487b-9e19-464839c3acd7",
   "metadata": {},
   "outputs": [
    {
     "data": {
      "text/plain": [
       "{'AUC': 0.7677520477229672,\n",
       " 'Accuracy': 0.6995670556248315,\n",
       " 'Precision': 0.6447876447876448,\n",
       " 'Recall': 0.7360070515645659,\n",
       " 'F1 Score': 0.6873842354393909}"
      ]
     },
     "execution_count": 19,
     "metadata": {},
     "output_type": "execute_result"
    }
   ],
   "source": [
    "param_grid = {\n",
    "    'n_estimators': rounds.best_iteration+1, # 134 boosting rounds\n",
    "    'eta': 0.015,\n",
    "    'lambda': 0.00001,\n",
    "    'random_state': 42,\n",
    "    'objective': 'binary:logistic',\n",
    "    'booster': 'gblinear',\n",
    "    'eval_metric': 'auc'\n",
    "}\n",
    "\n",
    "xgbc = XGBClassifier(**param_grid)\n",
    "xgbc.fit(X_train, y_train)\n",
    "\n",
    "evaluate_model_probability(xgbc, X_test, y_test, threshold=0.49)"
   ]
  },
  {
   "cell_type": "markdown",
   "id": "83183b06-88ad-4669-97c3-7052d6b337ad",
   "metadata": {},
   "source": [
    "##### Feature Importance"
   ]
  },
  {
   "cell_type": "code",
   "execution_count": 18,
   "id": "ec5c7470-0e50-47d7-8a75-c44a45df22f1",
   "metadata": {},
   "outputs": [
    {
     "data": {
      "image/png": "[encoded data removed]",
      "text/plain": [
       "<Figure size 1000x800 with 1 Axes>"
      ]
     },
     "metadata": {},
     "output_type": "display_data"
    }
   ],
   "source": [
    "param_grid = {\n",
    "    'eta': 0.015,\n",
    "    'lambda': 0.00001,\n",
    "    'random_state': 42,\n",
    "    'objective': 'binary:logistic',\n",
    "    'booster': 'gblinear',\n",
    "    'eval_metric': 'auc'\n",
    "}\n",
    "\n",
    "xgb_fi = xgb.train(\n",
    "    param_grid,\n",
    "    dtrain,\n",
    "    num_boost_round=rounds.best_iteration+1,\n",
    "    evals=[(dtest, \"Test\")],\n",
    "    verbose_eval=0\n",
    ")\n",
    "\n",
    "# Get the feature importances (weights)\n",
    "feature_importances_dict = xgb_fi.get_score(importance_type='weight')\n",
    "\n",
    "# Sort the dictionary by value in descending order\n",
    "sorted_importances_dict = dict(sorted(feature_importances_dict.items(), key=lambda item: item[1], reverse=True))\n",
    "\n",
    "# Create lists of feature names and importances\n",
    "features = list(sorted_importances_dict.keys())\n",
    "importances = list(sorted_importances_dict.values())\n",
    "\n",
    "# Create a horizontal bar plot\n",
    "fig, ax = plt.subplots(figsize=(10, 8))\n",
    "y_pos = np.arange(len(features))\n",
    "ax.barh(y_pos, importances, align='center')\n",
    "ax.set_yticks(y_pos)\n",
    "ax.set_yticklabels(features)  # Convert column names to strings\n",
    "ax.invert_yaxis()  # labels read top-to-bottom\n",
    "ax.set_xlabel('Feature Importance')\n",
    "ax.set_title('Feature Importances (Weights)')\n",
    "\n",
    "plt.show()"
   ]
  },
  {
   "cell_type": "markdown",
   "id": "72b73e00",
   "metadata": {},
   "source": [
    "# DNN"
   ]
  },
  {
   "cell_type": "markdown",
   "id": "36475560",
   "metadata": {},
   "source": [
    "##### Baseline"
   ]
  },
  {
   "cell_type": "code",
   "execution_count": 12,
   "id": "0b90e0d9-3ab9-4d71-897a-3a6b4329bdaa",
   "metadata": {},
   "outputs": [
    {
     "name": "stdout",
     "output_type": "stream",
     "text": [
      "625/625 [==============================] - 1s 2ms/step\n"
     ]
    },
    {
     "data": {
      "text/plain": [
       "{'AUC': 0.7519112679470275,\n",
       " 'Accuracy': 0.6889989678275594,\n",
       " 'Precision': 0.6296331050014076,\n",
       " 'Recall': 0.7393124724548259,\n",
       " 'F1 Score': 0.6800790553894491}"
      ]
     },
     "execution_count": 12,
     "metadata": {},
     "output_type": "execute_result"
    }
   ],
   "source": [
    "np.random.seed(1)\n",
    "\n",
    "dnn_model = Sequential()\n",
    "keras.backend.clear_session()\n",
    "dnn_model.add(Dense(40, input_shape=(X_train.shape[1],))) # Input layer\n",
    "dnn_model.add(Dense(27,activation='relu')) # Hidden layer\n",
    "dnn_model.add(Dense(1, activation='sigmoid')) # Output layer\n",
    "dnn_model.compile(loss='binary_crossentropy',metrics=['accuracy'])\n",
    "dnn_model.fit(X_train, y_train, epochs=11, batch_size=32)\n",
    "\n",
    "evaluate_dnn_probability(dnn_model,X_test,y_test)\n"
   ]
  },
  {
   "cell_type": "markdown",
   "id": "2bbb09c2",
   "metadata": {},
   "source": [
    "##### Tuning"
   ]
  },
  {
   "cell_type": "markdown",
   "id": "10732459",
   "metadata": {},
   "source": [
    "Complexity"
   ]
  },
  {
   "cell_type": "code",
   "execution_count": 14,
   "id": "fc8e7439",
   "metadata": {},
   "outputs": [
    {
     "name": "stdout",
     "output_type": "stream",
     "text": [
      "500/500 [==============================] - 0s 845us/step\n",
      "500/500 [==============================] - 0s 826us/step\n",
      "500/500 [==============================] - 1s 906us/step\n",
      "500/500 [==============================] - 1s 1ms/step\n",
      "500/500 [==============================] - 1s 1ms/step\n",
      "Params: {'input': 35, 'hidden': 25, 'epochs': 11} | Avg. AUC Score: 0.74007\n",
      "500/500 [==============================] - 1s 975us/step\n",
      "500/500 [==============================] - 1s 1ms/step\n",
      "500/500 [==============================] - 1s 1ms/step\n",
      "500/500 [==============================] - 1s 919us/step\n",
      "500/500 [==============================] - 1s 899us/step\n",
      "Params: {'input': 35, 'hidden': 27, 'epochs': 11} | Avg. AUC Score: 0.74021\n",
      "500/500 [==============================] - 1s 893us/step\n",
      "500/500 [==============================] - 1s 1ms/step\n",
      "500/500 [==============================] - 1s 1ms/step\n",
      "500/500 [==============================] - 1s 2ms/step\n",
      "500/500 [==============================] - 1s 2ms/step\n",
      "Params: {'input': 35, 'hidden': 30, 'epochs': 11} | Avg. AUC Score: 0.71585\n",
      "500/500 [==============================] - 1s 1ms/step\n",
      "500/500 [==============================] - 1s 2ms/step\n",
      "500/500 [==============================] - 1s 2ms/step\n",
      "500/500 [==============================] - 2s 3ms/step\n",
      "500/500 [==============================] - 1s 2ms/step\n",
      "Params: {'input': 40, 'hidden': 25, 'epochs': 11} | Avg. AUC Score: 0.62327\n",
      "500/500 [==============================] - 1s 2ms/step\n",
      "500/500 [==============================] - 1s 2ms/step\n",
      "500/500 [==============================] - 2s 3ms/step\n",
      "500/500 [==============================] - 1s 2ms/step\n",
      "500/500 [==============================] - 1s 1ms/step\n",
      "Params: {'input': 40, 'hidden': 27, 'epochs': 11} | Avg. AUC Score: 0.62326\n",
      "500/500 [==============================] - 1s 1ms/step\n",
      "500/500 [==============================] - 1s 2ms/step\n",
      "500/500 [==============================] - 1s 2ms/step\n",
      "500/500 [==============================] - 1s 2ms/step\n",
      "500/500 [==============================] - 2s 2ms/step\n",
      "Params: {'input': 40, 'hidden': 30, 'epochs': 11} | Avg. AUC Score: 0.62326\n",
      "500/500 [==============================] - 2s 2ms/step\n",
      "500/500 [==============================] - 2s 2ms/step\n",
      "500/500 [==============================] - 9s 16ms/step\n",
      "500/500 [==============================] - 3s 3ms/step\n",
      "500/500 [==============================] - 2s 2ms/step\n",
      "Params: {'input': 45, 'hidden': 25, 'epochs': 11} | Avg. AUC Score: 0.62326\n",
      "500/500 [==============================] - 2s 2ms/step\n",
      "500/500 [==============================] - 2s 2ms/step\n",
      "500/500 [==============================] - 3s 3ms/step\n",
      "500/500 [==============================] - 3s 3ms/step\n",
      "500/500 [==============================] - 2s 3ms/step\n",
      "Params: {'input': 45, 'hidden': 27, 'epochs': 11} | Avg. AUC Score: 0.62325\n",
      "500/500 [==============================] - 3s 3ms/step\n",
      "500/500 [==============================] - 2s 2ms/step\n",
      "500/500 [==============================] - 3s 3ms/step\n",
      "500/500 [==============================] - 2s 3ms/step\n",
      "500/500 [==============================] - 3s 3ms/step\n",
      "Params: {'input': 45, 'hidden': 30, 'epochs': 11} | Avg. AUC Score: 0.62326\n",
      "\n",
      "Params Avg. AUC Score: 0.74021\n",
      "Best Params: {'input': 35, 'hidden': 27, 'epochs': 11}\n"
     ]
    }
   ],
   "source": [
    "# Tuning nodes in input and hidden layers\n",
    "dnn_params = { \n",
    "    'input': [35,40,45],  \n",
    "    'hidden':[25,27,30],\n",
    "    'epochs': [11], \n",
    "}\n",
    "\n",
    "dnn_model = Sequential()\n",
    "best_history = custom_grid_search_dnn_auc(dnn_model, dnn_params, kfold_data)"
   ]
  },
  {
   "cell_type": "code",
   "execution_count": 11,
   "id": "06d4457a-12c2-4a42-88b1-95e386fedb59",
   "metadata": {},
   "outputs": [
    {
     "name": "stdout",
     "output_type": "stream",
     "text": [
      "500/500 [==============================] - 1s 889us/step\n",
      "500/500 [==============================] - 0s 884us/step\n",
      "500/500 [==============================] - 1s 874us/step\n",
      "500/500 [==============================] - 1s 925us/step\n",
      "500/500 [==============================] - 0s 734us/step\n",
      "Params: {'input': 35, 'hidden': 27, 'epochs': 5} | Avg. AUC Score: 0.74168\n",
      "500/500 [==============================] - 1s 991us/step\n",
      "500/500 [==============================] - 1s 2ms/step\n",
      "500/500 [==============================] - 1s 932us/step\n",
      "500/500 [==============================] - 1s 849us/step\n",
      "500/500 [==============================] - 2s 2ms/step\n",
      "Params: {'input': 35, 'hidden': 27, 'epochs': 10} | Avg. AUC Score: 0.74084\n",
      "500/500 [==============================] - 1s 984us/step\n",
      "500/500 [==============================] - 1s 935us/step\n",
      "500/500 [==============================] - 1s 1ms/step\n",
      "500/500 [==============================] - 1s 973us/step\n",
      "500/500 [==============================] - 1s 1ms/step\n",
      "Params: {'input': 35, 'hidden': 27, 'epochs': 11} | Avg. AUC Score: 0.68884\n",
      "500/500 [==============================] - 1s 1ms/step\n",
      "500/500 [==============================] - 1s 1ms/step\n",
      "500/500 [==============================] - 1s 1ms/step\n",
      "500/500 [==============================] - 1s 1ms/step\n",
      "500/500 [==============================] - 1s 1ms/step\n",
      "Params: {'input': 35, 'hidden': 27, 'epochs': 15} | Avg. AUC Score: 0.50009\n",
      "500/500 [==============================] - 1s 1ms/step\n",
      "500/500 [==============================] - 1s 1ms/step\n",
      "500/500 [==============================] - 1s 1ms/step\n",
      "500/500 [==============================] - 1s 2ms/step\n",
      "500/500 [==============================] - 1s 2ms/step\n",
      "Params: {'input': 35, 'hidden': 27, 'epochs': 20} | Avg. AUC Score: 0.5\n",
      "\n",
      "Params Avg. AUC Score: 0.74168\n",
      "Best Params: {'input': 35, 'hidden': 27, 'epochs': 5}\n"
     ]
    }
   ],
   "source": [
    "# Tuning number of epochs\n",
    "# Tuning nodes in input and hidden layers\n",
    "dnn_params = { \n",
    "    'input': [35],  \n",
    "    'hidden':[27],\n",
    "    'epochs': [5,10,11,15,20], \n",
    "}\n",
    "\n",
    "dnn_model = Sequential()\n",
    "best_history = custom_grid_search_dnn_auc(dnn_model, dnn_params, kfold_data)"
   ]
  },
  {
   "cell_type": "markdown",
   "id": "9f74c45a",
   "metadata": {},
   "source": [
    "##### Final Model"
   ]
  },
  {
   "cell_type": "code",
   "execution_count": 13,
   "id": "09a68431",
   "metadata": {},
   "outputs": [
    {
     "name": "stdout",
     "output_type": "stream",
     "text": [
      "625/625 [==============================] - 1s 812us/step\n"
     ]
    },
    {
     "data": {
      "text/plain": [
       "{'AUC': 0.7531119843757237,\n",
       " 'Accuracy': 0.6918925122150894,\n",
       " 'Precision': 0.6396132434808087,\n",
       " 'Recall': 0.7215733803437637,\n",
       " 'F1 Score': 0.6781258089567693}"
      ]
     },
     "execution_count": 13,
     "metadata": {},
     "output_type": "execute_result"
    }
   ],
   "source": [
    "dnn_params = { \n",
    "    'input': 35,  \n",
    "    'hidden': 27,\n",
    "    'epochs': 5, \n",
    "}\n",
    "\n",
    "dnn_model = Sequential()\n",
    "dnn_model.add(Dense(dnn_params['input'], input_shape=(X_train.shape[1],)))\n",
    "dnn_model.add(Dense(dnn_params['hidden'], activation='relu')) # hidden layer \n",
    "dnn_model.add(Dense(1, activation='sigmoid'))  # Output layer\n",
    "dnn_model.compile(loss='binary_crossentropy', metrics=['accuracy'], optimizer=\"adam\")\n",
    "dnn_model.fit(X_train, y_train, epochs=dnn_params['epochs'], batch_size=32, verbose=0)     \n",
    "\n",
    "evaluate_dnn_probability(dnn_model, X_test, y_test, threshold=0.46)"
   ]
  },
  {
   "cell_type": "markdown",
   "id": "5503c244",
   "metadata": {},
   "source": [
    "# Metrics for the best model - XGBoost"
   ]
  },
  {
   "cell_type": "code",
   "execution_count": 47,
   "id": "edfb7ec3",
   "metadata": {},
   "outputs": [
    {
     "data": {
      "text/html": [
       "<style>#sk-container-id-1 {color: black;background-color: white;}#sk-container-id-1 pre{padding: 0;}#sk-container-id-1 div.sk-toggleable {background-color: white;}#sk-container-id-1 label.sk-toggleable__label {cursor: pointer;display: block;width: 100%;margin-bottom: 0;padding: 0.3em;box-sizing: border-box;text-align: center;}#sk-container-id-1 label.sk-toggleable__label-arrow:before {content: \"▸\";float: left;margin-right: 0.25em;color: #696969;}#sk-container-id-1 label.sk-toggleable__label-arrow:hover:before {color: black;}#sk-container-id-1 div.sk-estimator:hover label.sk-toggleable__label-arrow:before {color: black;}#sk-container-id-1 div.sk-toggleable__content {max-height: 0;max-width: 0;overflow: hidden;text-align: left;background-color: #f0f8ff;}#sk-container-id-1 div.sk-toggleable__content pre {margin: 0.2em;color: black;border-radius: 0.25em;background-color: #f0f8ff;}#sk-container-id-1 input.sk-toggleable__control:checked~div.sk-toggleable__content {max-height: 200px;max-width: 100%;overflow: auto;}#sk-container-id-1 input.sk-toggleable__control:checked~label.sk-toggleable__label-arrow:before {content: \"▾\";}#sk-container-id-1 div.sk-estimator input.sk-toggleable__control:checked~label.sk-toggleable__label {background-color: #d4ebff;}#sk-container-id-1 div.sk-label input.sk-toggleable__control:checked~label.sk-toggleable__label {background-color: #d4ebff;}#sk-container-id-1 input.sk-hidden--visually {border: 0;clip: rect(1px 1px 1px 1px);clip: rect(1px, 1px, 1px, 1px);height: 1px;margin: -1px;overflow: hidden;padding: 0;position: absolute;width: 1px;}#sk-container-id-1 div.sk-estimator {font-family: monospace;background-color: #f0f8ff;border: 1px dotted black;border-radius: 0.25em;box-sizing: border-box;margin-bottom: 0.5em;}#sk-container-id-1 div.sk-estimator:hover {background-color: #d4ebff;}#sk-container-id-1 div.sk-parallel-item::after {content: \"\";width: 100%;border-bottom: 1px solid gray;flex-grow: 1;}#sk-container-id-1 div.sk-label:hover label.sk-toggleable__label {background-color: #d4ebff;}#sk-container-id-1 div.sk-serial::before {content: \"\";position: absolute;border-left: 1px solid gray;box-sizing: border-box;top: 0;bottom: 0;left: 50%;z-index: 0;}#sk-container-id-1 div.sk-serial {display: flex;flex-direction: column;align-items: center;background-color: white;padding-right: 0.2em;padding-left: 0.2em;position: relative;}#sk-container-id-1 div.sk-item {position: relative;z-index: 1;}#sk-container-id-1 div.sk-parallel {display: flex;align-items: stretch;justify-content: center;background-color: white;position: relative;}#sk-container-id-1 div.sk-item::before, #sk-container-id-1 div.sk-parallel-item::before {content: \"\";position: absolute;border-left: 1px solid gray;box-sizing: border-box;top: 0;bottom: 0;left: 50%;z-index: -1;}#sk-container-id-1 div.sk-parallel-item {display: flex;flex-direction: column;z-index: 1;position: relative;background-color: white;}#sk-container-id-1 div.sk-parallel-item:first-child::after {align-self: flex-end;width: 50%;}#sk-container-id-1 div.sk-parallel-item:last-child::after {align-self: flex-start;width: 50%;}#sk-container-id-1 div.sk-parallel-item:only-child::after {width: 0;}#sk-container-id-1 div.sk-dashed-wrapped {border: 1px dashed gray;margin: 0 0.4em 0.5em 0.4em;box-sizing: border-box;padding-bottom: 0.4em;background-color: white;}#sk-container-id-1 div.sk-label label {font-family: monospace;font-weight: bold;display: inline-block;line-height: 1.2em;}#sk-container-id-1 div.sk-label-container {text-align: center;}#sk-container-id-1 div.sk-container {/* jupyter's `normalize.less` sets `[hidden] { display: none; }` but bootstrap.min.css set `[hidden] { display: none !important; }` so we also need the `!important` here to be able to override the default hidden behavior on the sphinx rendered scikit-learn.org. See: https://github.com/scikit-learn/scikit-learn/issues/21755 */display: inline-block !important;position: relative;}#sk-container-id-1 div.sk-text-repr-fallback {display: none;}</style><div id=\"sk-container-id-1\" class=\"sk-top-container\"><div class=\"sk-text-repr-fallback\"><pre>XGBClassifier(base_score=None, booster=&#x27;gblinear&#x27;, callbacks=None,\n",
       "              colsample_bylevel=None, colsample_bynode=None,\n",
       "              colsample_bytree=None, device=None, early_stopping_rounds=None,\n",
       "              enable_categorical=False, eta=0.015, eval_metric=&#x27;auc&#x27;,\n",
       "              feature_types=None, gamma=None, grow_policy=None,\n",
       "              importance_type=None, interaction_constraints=None, lambda=1e-05,\n",
       "              learning_rate=None, max_bin=None, max_cat_threshold=None,\n",
       "              max_cat_to_onehot=None, max_delta_step=None, max_depth=None,\n",
       "              max_leaves=None, min_child_weight=None, missing=nan,\n",
       "              monotone_constraints=None, multi_strategy=None, n_estimators=134,\n",
       "              n_jobs=None, ...)</pre><b>In a Jupyter environment, please rerun this cell to show the HTML representation or trust the notebook. <br />On GitHub, the HTML representation is unable to render, please try loading this page with nbviewer.org.</b></div><div class=\"sk-container\" hidden><div class=\"sk-item\"><div class=\"sk-estimator sk-toggleable\"><input class=\"sk-toggleable__control sk-hidden--visually\" id=\"sk-estimator-id-1\" type=\"checkbox\" checked><label for=\"sk-estimator-id-1\" class=\"sk-toggleable__label sk-toggleable__label-arrow\">XGBClassifier</label><div class=\"sk-toggleable__content\"><pre>XGBClassifier(base_score=None, booster=&#x27;gblinear&#x27;, callbacks=None,\n",
       "              colsample_bylevel=None, colsample_bynode=None,\n",
       "              colsample_bytree=None, device=None, early_stopping_rounds=None,\n",
       "              enable_categorical=False, eta=0.015, eval_metric=&#x27;auc&#x27;,\n",
       "              feature_types=None, gamma=None, grow_policy=None,\n",
       "              importance_type=None, interaction_constraints=None, lambda=1e-05,\n",
       "              learning_rate=None, max_bin=None, max_cat_threshold=None,\n",
       "              max_cat_to_onehot=None, max_delta_step=None, max_depth=None,\n",
       "              max_leaves=None, min_child_weight=None, missing=nan,\n",
       "              monotone_constraints=None, multi_strategy=None, n_estimators=134,\n",
       "              n_jobs=None, ...)</pre></div></div></div></div></div>"
      ],
      "text/plain": [
       "XGBClassifier(base_score=None, booster='gblinear', callbacks=None,\n",
       "              colsample_bylevel=None, colsample_bynode=None,\n",
       "              colsample_bytree=None, device=None, early_stopping_rounds=None,\n",
       "              enable_categorical=False, eta=0.015, eval_metric='auc',\n",
       "              feature_types=None, gamma=None, grow_policy=None,\n",
       "              importance_type=None, interaction_constraints=None, lambda=1e-05,\n",
       "              learning_rate=None, max_bin=None, max_cat_threshold=None,\n",
       "              max_cat_to_onehot=None, max_delta_step=None, max_depth=None,\n",
       "              max_leaves=None, min_child_weight=None, missing=nan,\n",
       "              monotone_constraints=None, multi_strategy=None, n_estimators=134,\n",
       "              n_jobs=None, ...)"
      ]
     },
     "execution_count": 47,
     "metadata": {},
     "output_type": "execute_result"
    }
   ],
   "source": [
    "param_grid = {\n",
    "    'n_estimators': 134,\n",
    "    'eta': 0.015,\n",
    "    'lambda': 0.00001,\n",
    "    'random_state': 42,\n",
    "    'objective': 'binary:logistic',\n",
    "    'booster': 'gblinear',\n",
    "    'eval_metric': 'auc'\n",
    "}\n",
    "\n",
    "xgbc = XGBClassifier(**param_grid)\n",
    "xgbc.fit(X_train, y_train)"
   ]
  },
  {
   "cell_type": "markdown",
   "id": "a838ab58-34eb-4b07-9079-4f3ddef497bf",
   "metadata": {},
   "source": [
    "Performance"
   ]
  },
  {
   "cell_type": "code",
   "execution_count": 145,
   "id": "512801a6",
   "metadata": {},
   "outputs": [
    {
     "data": {
      "text/plain": [
       "{'AUC': 0.7677342406908003,\n",
       " 'Accuracy': 0.6997594583128047,\n",
       " 'Precision': 0.6450086889360881,\n",
       " 'Recall': 0.7361172322609079,\n",
       " 'F1 Score': 0.6875578882371103}"
      ]
     },
     "execution_count": 145,
     "metadata": {},
     "output_type": "execute_result"
    }
   ],
   "source": [
    "# Balance\n",
    "evaluate_model_probability(xgbc, X_test, y_test, threshold=0.49)"
   ]
  },
  {
   "cell_type": "code",
   "execution_count": 61,
   "id": "d60f0b3c-569d-4178-b3f5-2eeab531fbc0",
   "metadata": {},
   "outputs": [
    {
     "data": {
      "text/plain": [
       "{'AUC': 0.7677382095761913,\n",
       " 'Accuracy': 0.696539608003629,\n",
       " 'Precision': 0.6206335616438357,\n",
       " 'Recall': 0.7986998677831644,\n",
       " 'F1 Score': 0.6984968201965697}"
      ]
     },
     "execution_count": 61,
     "metadata": {},
     "output_type": "execute_result"
    }
   ],
   "source": [
    "# Prioritising Recall\n",
    "evaluate_model_probability(xgbc, X_test, y_test, threshold=0.45)"
   ]
  },
  {
   "cell_type": "markdown",
   "id": "23ae3c47-36e3-47d8-bffe-97b3ebd5602f",
   "metadata": {},
   "source": [
    "ROC-AUC Curve"
   ]
  },
  {
   "cell_type": "code",
   "execution_count": 146,
   "id": "1b3ddc50",
   "metadata": {},
   "outputs": [
    {
     "data": {
      "image/png": "[encoded data removed]",
      "text/plain": [
       "<Figure size 800x600 with 1 Axes>"
      ]
     },
     "metadata": {},
     "output_type": "display_data"
    }
   ],
   "source": [
    "def plot_roc_auc_curve(model, X_test, y_test):\n",
    "    y_pred_prob = model.predict_proba(X_test)[:, 1]\n",
    "    fpr, tpr, thresholds = roc_curve(y_test, y_pred_prob)\n",
    "    roc_auc = auc(fpr, tpr)\n",
    "\n",
    "    plt.figure(figsize=(8, 6))\n",
    "    plt.plot(fpr, tpr, color='blue', lw=2, label='ROC curve (area = %0.2f)' % roc_auc)\n",
    "    plt.plot([0, 1], [0, 1], color='red', lw=2, linestyle='--')\n",
    "    plt.xlim([0.0, 1.0])\n",
    "    plt.ylim([0.0, 1.05])\n",
    "    plt.xlabel('False Positive Rate')\n",
    "    plt.ylabel('True Positive Rate')\n",
    "    plt.title('Receiver Operating Characteristic (ROC) Curve')\n",
    "    plt.legend(loc='lower right')\n",
    "    plt.show()\n",
    "\n",
    "plot_roc_auc_curve(xgbc, X_test, y_test)"
   ]
  },
  {
   "cell_type": "markdown",
   "id": "46f928a2-ca0d-4904-a4bb-241b46394d46",
   "metadata": {},
   "source": [
    "Confusion Matrix"
   ]
  },
  {
   "cell_type": "code",
   "execution_count": 147,
   "id": "d71b0fe0",
   "metadata": {},
   "outputs": [
    {
     "data": {
      "image/png": "[encoded data removed]",
      "text/plain": [
       "<Figure size 800x600 with 1 Axes>"
      ]
     },
     "metadata": {},
     "output_type": "display_data"
    }
   ],
   "source": [
    "def plot_confusion_matrix(model, X_test, y_test):\n",
    "    y_pred = model.predict(X_test)\n",
    "    cm = confusion_matrix(y_test, y_pred)\n",
    "    plt.figure(figsize=(8, 6))\n",
    "    sns.heatmap(cm, annot=True, cmap='Blues', fmt='d', cbar=False)\n",
    "    plt.xlabel('Predicted labels')\n",
    "    plt.ylabel('True labels')\n",
    "    plt.title('Confusion Matrix')\n",
    "    plt.show()\n",
    "\n",
    "plot_confusion_matrix(xgbc, X_test, y_test)"
   ]
  },
  {
   "cell_type": "markdown",
   "id": "24df63fd-c65e-45fb-97a7-405a66e02127",
   "metadata": {},
   "source": [
    "Feature Importance"
   ]
  },
  {
   "cell_type": "code",
   "execution_count": 50,
   "id": "7b47b2c2-3729-4dd1-9d19-5b966e71e4f0",
   "metadata": {},
   "outputs": [
    {
     "data": {
      "image/png": "[encoded data removed]",
      "text/plain": [
       "<Figure size 1000x800 with 1 Axes>"
      ]
     },
     "metadata": {},
     "output_type": "display_data"
    }
   ],
   "source": [
    "xgb_bm = xgb.train(\n",
    "    param_grid,\n",
    "    dtrain,\n",
    "    num_boost_round=rounds.best_iteration+1,\n",
    "    evals=[(dtest, \"Test\")],\n",
    "    verbose_eval=0\n",
    ")\n",
    "\n",
    "# Get the feature importances (weights)\n",
    "feature_importances_dict = xgb_bm.get_score(importance_type='weight')\n",
    "\n",
    "# Sort the dictionary by value in descending order\n",
    "sorted_importances_dict = dict(sorted(feature_importances_dict.items(), key=lambda item: item[1], reverse=True))\n",
    "\n",
    "# Create lists of feature names and importances\n",
    "features = list(sorted_importances_dict.keys())\n",
    "importances = list(sorted_importances_dict.values())\n",
    "\n",
    "# Create a horizontal bar plot\n",
    "fig, ax = plt.subplots(figsize=(10, 8))\n",
    "y_pos = np.arange(len(features))\n",
    "ax.barh(y_pos, importances, align='center')\n",
    "ax.set_yticks(y_pos)\n",
    "ax.set_yticklabels(features)  # Convert column names to strings\n",
    "ax.invert_yaxis()  # labels read top-to-bottom\n",
    "ax.set_xlabel('Feature Importance')\n",
    "ax.set_title('Feature Importances (Weights)')\n",
    "\n",
    "plt.show()"
   ]
  },
  {
   "cell_type": "markdown",
   "id": "775ae350-8dbb-438e-b589-cb36195c8ab1",
   "metadata": {},
   "source": [
    "### Extended Analysis of XGBoost\n",
    "\n",
    "We try only keeping the top most significant variables, tune the parameters, and see how it affects the AUC score.\n",
    "\n",
    "Note that the length of the bars in the feature importance plot represent the value of the coefficients."
   ]
  },
  {
   "cell_type": "markdown",
   "id": "296d845f-68f4-4243-a544-c665d9f4852c",
   "metadata": {},
   "source": [
    "##### Cross Validation Preparation\n",
    "\n",
    "Remove brand_return_rate from computation as it's not one of the top variables."
   ]
  },
  {
   "cell_type": "code",
   "execution_count": 21,
   "id": "ea6cc2a5-901a-4b08-93d4-3ac9a02b0852",
   "metadata": {},
   "outputs": [],
   "source": [
    "def prepare_kfold_data(X_train, y_train, k=5, default_fill_value=0.5):\n",
    "    \n",
    "    kf = KFold(n_splits=k, shuffle=True, random_state=42)\n",
    "    data_arrays = []\n",
    "\n",
    "    for train_index, val_index in kf.split(X_train):\n",
    "        # Step 1: Split data into train and validation folds\n",
    "        X_train_fold, X_val_fold = X_train.iloc[train_index], X_train.iloc[val_index]\n",
    "        y_train_fold, y_val_fold = y_train.iloc[train_index], y_train.iloc[val_index]\n",
    "        \n",
    "        # Step 2: Perform preprocessing on train fold\n",
    "        user_return_rates = X_train_fold.groupby('user_id')['return'].mean()\n",
    "        \n",
    "        X_train_fold['user_return_rate'] = X_train_fold['user_id'].map(user_return_rates)\n",
    "        \n",
    "        # Step 3: Map values to validation fold\n",
    "        X_val_fold['user_return_rate'] = X_val_fold['user_id'].map(user_return_rates).fillna(default_fill_value)\n",
    "        \n",
    "        # Step 4: Drop unnecessary columns\n",
    "        X_train_fold.drop(['return', 'user_id'], axis=1, inplace=True)\n",
    "        X_val_fold.drop(['return', 'user_id'], axis=1, inplace=True)\n",
    "        \n",
    "        # Append data arrays\n",
    "        data_arrays.append((X_train_fold, y_train_fold, X_val_fold, y_val_fold))\n",
    "\n",
    "    return data_arrays"
   ]
  },
  {
   "cell_type": "code",
   "execution_count": 22,
   "id": "1ab07111-5577-4f5a-8dd8-83c8254cf6bf",
   "metadata": {},
   "outputs": [
    {
     "name": "stderr",
     "output_type": "stream",
     "text": [
      "/var/folders/4f/3w_37fps2jl_9bqnhfpl8d8h0000gn/T/ipykernel_1125/1311647249.py:14: SettingWithCopyWarning: \n",
      "A value is trying to be set on a copy of a slice from a DataFrame.\n",
      "Try using .loc[row_indexer,col_indexer] = value instead\n",
      "\n",
      "See the caveats in the documentation: https://pandas.pydata.org/pandas-docs/stable/user_guide/indexing.html#returning-a-view-versus-a-copy\n",
      "  X_train_fold['user_return_rate'] = X_train_fold['user_id'].map(user_return_rates)\n",
      "/var/folders/4f/3w_37fps2jl_9bqnhfpl8d8h0000gn/T/ipykernel_1125/1311647249.py:17: SettingWithCopyWarning: \n",
      "A value is trying to be set on a copy of a slice from a DataFrame.\n",
      "Try using .loc[row_indexer,col_indexer] = value instead\n",
      "\n",
      "See the caveats in the documentation: https://pandas.pydata.org/pandas-docs/stable/user_guide/indexing.html#returning-a-view-versus-a-copy\n",
      "  X_val_fold['user_return_rate'] = X_val_fold['user_id'].map(user_return_rates).fillna(default_fill_value)\n",
      "/var/folders/4f/3w_37fps2jl_9bqnhfpl8d8h0000gn/T/ipykernel_1125/1311647249.py:20: SettingWithCopyWarning: \n",
      "A value is trying to be set on a copy of a slice from a DataFrame\n",
      "\n",
      "See the caveats in the documentation: https://pandas.pydata.org/pandas-docs/stable/user_guide/indexing.html#returning-a-view-versus-a-copy\n",
      "  X_train_fold.drop(['return', 'user_id'], axis=1, inplace=True)\n",
      "/var/folders/4f/3w_37fps2jl_9bqnhfpl8d8h0000gn/T/ipykernel_1125/1311647249.py:21: SettingWithCopyWarning: \n",
      "A value is trying to be set on a copy of a slice from a DataFrame\n",
      "\n",
      "See the caveats in the documentation: https://pandas.pydata.org/pandas-docs/stable/user_guide/indexing.html#returning-a-view-versus-a-copy\n",
      "  X_val_fold.drop(['return', 'user_id'], axis=1, inplace=True)\n",
      "/var/folders/4f/3w_37fps2jl_9bqnhfpl8d8h0000gn/T/ipykernel_1125/1311647249.py:14: SettingWithCopyWarning: \n",
      "A value is trying to be set on a copy of a slice from a DataFrame.\n",
      "Try using .loc[row_indexer,col_indexer] = value instead\n",
      "\n",
      "See the caveats in the documentation: https://pandas.pydata.org/pandas-docs/stable/user_guide/indexing.html#returning-a-view-versus-a-copy\n",
      "  X_train_fold['user_return_rate'] = X_train_fold['user_id'].map(user_return_rates)\n",
      "/var/folders/4f/3w_37fps2jl_9bqnhfpl8d8h0000gn/T/ipykernel_1125/1311647249.py:17: SettingWithCopyWarning: \n",
      "A value is trying to be set on a copy of a slice from a DataFrame.\n",
      "Try using .loc[row_indexer,col_indexer] = value instead\n",
      "\n",
      "See the caveats in the documentation: https://pandas.pydata.org/pandas-docs/stable/user_guide/indexing.html#returning-a-view-versus-a-copy\n",
      "  X_val_fold['user_return_rate'] = X_val_fold['user_id'].map(user_return_rates).fillna(default_fill_value)\n",
      "/var/folders/4f/3w_37fps2jl_9bqnhfpl8d8h0000gn/T/ipykernel_1125/1311647249.py:20: SettingWithCopyWarning: \n",
      "A value is trying to be set on a copy of a slice from a DataFrame\n",
      "\n",
      "See the caveats in the documentation: https://pandas.pydata.org/pandas-docs/stable/user_guide/indexing.html#returning-a-view-versus-a-copy\n",
      "  X_train_fold.drop(['return', 'user_id'], axis=1, inplace=True)\n",
      "/var/folders/4f/3w_37fps2jl_9bqnhfpl8d8h0000gn/T/ipykernel_1125/1311647249.py:21: SettingWithCopyWarning: \n",
      "A value is trying to be set on a copy of a slice from a DataFrame\n",
      "\n",
      "See the caveats in the documentation: https://pandas.pydata.org/pandas-docs/stable/user_guide/indexing.html#returning-a-view-versus-a-copy\n",
      "  X_val_fold.drop(['return', 'user_id'], axis=1, inplace=True)\n",
      "/var/folders/4f/3w_37fps2jl_9bqnhfpl8d8h0000gn/T/ipykernel_1125/1311647249.py:14: SettingWithCopyWarning: \n",
      "A value is trying to be set on a copy of a slice from a DataFrame.\n",
      "Try using .loc[row_indexer,col_indexer] = value instead\n",
      "\n",
      "See the caveats in the documentation: https://pandas.pydata.org/pandas-docs/stable/user_guide/indexing.html#returning-a-view-versus-a-copy\n",
      "  X_train_fold['user_return_rate'] = X_train_fold['user_id'].map(user_return_rates)\n",
      "/var/folders/4f/3w_37fps2jl_9bqnhfpl8d8h0000gn/T/ipykernel_1125/1311647249.py:17: SettingWithCopyWarning: \n",
      "A value is trying to be set on a copy of a slice from a DataFrame.\n",
      "Try using .loc[row_indexer,col_indexer] = value instead\n",
      "\n",
      "See the caveats in the documentation: https://pandas.pydata.org/pandas-docs/stable/user_guide/indexing.html#returning-a-view-versus-a-copy\n",
      "  X_val_fold['user_return_rate'] = X_val_fold['user_id'].map(user_return_rates).fillna(default_fill_value)\n",
      "/var/folders/4f/3w_37fps2jl_9bqnhfpl8d8h0000gn/T/ipykernel_1125/1311647249.py:20: SettingWithCopyWarning: \n",
      "A value is trying to be set on a copy of a slice from a DataFrame\n",
      "\n",
      "See the caveats in the documentation: https://pandas.pydata.org/pandas-docs/stable/user_guide/indexing.html#returning-a-view-versus-a-copy\n",
      "  X_train_fold.drop(['return', 'user_id'], axis=1, inplace=True)\n",
      "/var/folders/4f/3w_37fps2jl_9bqnhfpl8d8h0000gn/T/ipykernel_1125/1311647249.py:21: SettingWithCopyWarning: \n",
      "A value is trying to be set on a copy of a slice from a DataFrame\n",
      "\n",
      "See the caveats in the documentation: https://pandas.pydata.org/pandas-docs/stable/user_guide/indexing.html#returning-a-view-versus-a-copy\n",
      "  X_val_fold.drop(['return', 'user_id'], axis=1, inplace=True)\n",
      "/var/folders/4f/3w_37fps2jl_9bqnhfpl8d8h0000gn/T/ipykernel_1125/1311647249.py:14: SettingWithCopyWarning: \n",
      "A value is trying to be set on a copy of a slice from a DataFrame.\n",
      "Try using .loc[row_indexer,col_indexer] = value instead\n",
      "\n",
      "See the caveats in the documentation: https://pandas.pydata.org/pandas-docs/stable/user_guide/indexing.html#returning-a-view-versus-a-copy\n",
      "  X_train_fold['user_return_rate'] = X_train_fold['user_id'].map(user_return_rates)\n",
      "/var/folders/4f/3w_37fps2jl_9bqnhfpl8d8h0000gn/T/ipykernel_1125/1311647249.py:17: SettingWithCopyWarning: \n",
      "A value is trying to be set on a copy of a slice from a DataFrame.\n",
      "Try using .loc[row_indexer,col_indexer] = value instead\n",
      "\n",
      "See the caveats in the documentation: https://pandas.pydata.org/pandas-docs/stable/user_guide/indexing.html#returning-a-view-versus-a-copy\n",
      "  X_val_fold['user_return_rate'] = X_val_fold['user_id'].map(user_return_rates).fillna(default_fill_value)\n",
      "/var/folders/4f/3w_37fps2jl_9bqnhfpl8d8h0000gn/T/ipykernel_1125/1311647249.py:20: SettingWithCopyWarning: \n",
      "A value is trying to be set on a copy of a slice from a DataFrame\n",
      "\n",
      "See the caveats in the documentation: https://pandas.pydata.org/pandas-docs/stable/user_guide/indexing.html#returning-a-view-versus-a-copy\n",
      "  X_train_fold.drop(['return', 'user_id'], axis=1, inplace=True)\n",
      "/var/folders/4f/3w_37fps2jl_9bqnhfpl8d8h0000gn/T/ipykernel_1125/1311647249.py:21: SettingWithCopyWarning: \n",
      "A value is trying to be set on a copy of a slice from a DataFrame\n",
      "\n",
      "See the caveats in the documentation: https://pandas.pydata.org/pandas-docs/stable/user_guide/indexing.html#returning-a-view-versus-a-copy\n",
      "  X_val_fold.drop(['return', 'user_id'], axis=1, inplace=True)\n",
      "/var/folders/4f/3w_37fps2jl_9bqnhfpl8d8h0000gn/T/ipykernel_1125/1311647249.py:14: SettingWithCopyWarning: \n",
      "A value is trying to be set on a copy of a slice from a DataFrame.\n",
      "Try using .loc[row_indexer,col_indexer] = value instead\n",
      "\n",
      "See the caveats in the documentation: https://pandas.pydata.org/pandas-docs/stable/user_guide/indexing.html#returning-a-view-versus-a-copy\n",
      "  X_train_fold['user_return_rate'] = X_train_fold['user_id'].map(user_return_rates)\n",
      "/var/folders/4f/3w_37fps2jl_9bqnhfpl8d8h0000gn/T/ipykernel_1125/1311647249.py:17: SettingWithCopyWarning: \n",
      "A value is trying to be set on a copy of a slice from a DataFrame.\n",
      "Try using .loc[row_indexer,col_indexer] = value instead\n",
      "\n",
      "See the caveats in the documentation: https://pandas.pydata.org/pandas-docs/stable/user_guide/indexing.html#returning-a-view-versus-a-copy\n",
      "  X_val_fold['user_return_rate'] = X_val_fold['user_id'].map(user_return_rates).fillna(default_fill_value)\n",
      "/var/folders/4f/3w_37fps2jl_9bqnhfpl8d8h0000gn/T/ipykernel_1125/1311647249.py:20: SettingWithCopyWarning: \n",
      "A value is trying to be set on a copy of a slice from a DataFrame\n",
      "\n",
      "See the caveats in the documentation: https://pandas.pydata.org/pandas-docs/stable/user_guide/indexing.html#returning-a-view-versus-a-copy\n",
      "  X_train_fold.drop(['return', 'user_id'], axis=1, inplace=True)\n",
      "/var/folders/4f/3w_37fps2jl_9bqnhfpl8d8h0000gn/T/ipykernel_1125/1311647249.py:21: SettingWithCopyWarning: \n",
      "A value is trying to be set on a copy of a slice from a DataFrame\n",
      "\n",
      "See the caveats in the documentation: https://pandas.pydata.org/pandas-docs/stable/user_guide/indexing.html#returning-a-view-versus-a-copy\n",
      "  X_val_fold.drop(['return', 'user_id'], axis=1, inplace=True)\n"
     ]
    }
   ],
   "source": [
    "# Create train test split for CV evaluation\n",
    "X = cv[['user_id', 'return', 'no_delivery', 'least_returned_item', 'item_size_child', 'least_returned_color', 'item_size_unsized', \n",
    "        'user_state_Bremen', 'item_size_xxl', 'most_returned_item', 'log_item_price']]\n",
    "y = cv['return']\n",
    "\n",
    "X_train, X_test, y_train, y_test = train_test_split(X, y, test_size=0.2, random_state=42)\n",
    "\n",
    "# Get kfold data\n",
    "kfold_data = prepare_kfold_data(X_train, y_train, k=5, default_fill_value=0.5)"
   ]
  },
  {
   "cell_type": "code",
   "execution_count": 23,
   "id": "7be3fc76-f771-4344-bddf-d0c466cbfca2",
   "metadata": {
    "scrolled": true
   },
   "outputs": [
    {
     "data": {
      "text/plain": [
       "(       no_delivery  least_returned_item  item_size_child  \\\n",
       " 64470            0                    0                0   \n",
       " 45557            0                    0                0   \n",
       " 27614            0                    0                0   \n",
       " 13568            0                    0                0   \n",
       " 92726            1                    0                0   \n",
       " ...            ...                  ...              ...   \n",
       " 82386            0                    0                0   \n",
       " 6265             0                    0                0   \n",
       " 54886            0                    0                0   \n",
       " 860              0                    0                0   \n",
       " 15795            1                    1                0   \n",
       " \n",
       "        least_returned_color  item_size_unsized  user_state_Bremen  \\\n",
       " 64470                     0                  0                  0   \n",
       " 45557                     0                  0                  0   \n",
       " 27614                     0                  0                  0   \n",
       " 13568                     0                  0                  0   \n",
       " 92726                     0                  1                  0   \n",
       " ...                     ...                ...                ...   \n",
       " 82386                     0                  0                  0   \n",
       " 6265                      0                  0                  0   \n",
       " 54886                     0                  0                  0   \n",
       " 860                       0                  0                  0   \n",
       " 15795                     0                  0                  0   \n",
       " \n",
       "        item_size_xxl  most_returned_item  log_item_price  user_return_rate  \n",
       " 64470              0                   0       -1.012997          0.750000  \n",
       " 45557              0                   0       -0.784276          0.166667  \n",
       " 27614              0                   1       -0.784276          0.555556  \n",
       " 13568              0                   0       -0.090200          0.000000  \n",
       " 92726              0                   0       -1.457767          0.538462  \n",
       " ...              ...                 ...             ...               ...  \n",
       " 82386              1                   0        1.476795          0.500000  \n",
       " 6265               0                   1        0.173540          0.600000  \n",
       " 54886              0                   0        0.785284          0.692308  \n",
       " 860                0                   0        1.232162          0.555556  \n",
       " 15795              0                   0       -1.457767          0.500000  \n",
       " \n",
       " [63999 rows x 10 columns],\n",
       " 64470    1\n",
       " 45557    0\n",
       " 27614    1\n",
       " 13568    0\n",
       " 92726    0\n",
       "         ..\n",
       " 82386    1\n",
       " 6265     1\n",
       " 54886    1\n",
       " 860      1\n",
       " 15795    0\n",
       " Name: return, Length: 63999, dtype: int64,\n",
       "        no_delivery  least_returned_item  item_size_child  \\\n",
       " 50981            0                    0                0   \n",
       " 86621            0                    1                0   \n",
       " 22481            1                    0                0   \n",
       " 71542            0                    0                0   \n",
       " 71673            0                    0                0   \n",
       " ...            ...                  ...              ...   \n",
       " 56886            1                    0                0   \n",
       " 67435            0                    0                0   \n",
       " 2747             0                    0                0   \n",
       " 16023            1                    1                0   \n",
       " 76820            0                    0                0   \n",
       " \n",
       "        least_returned_color  item_size_unsized  user_state_Bremen  \\\n",
       " 50981                     0                  0                  0   \n",
       " 86621                     1                  1                  0   \n",
       " 22481                     0                  0                  0   \n",
       " 71542                     0                  0                  0   \n",
       " 71673                     0                  0                  0   \n",
       " ...                     ...                ...                ...   \n",
       " 56886                     0                  1                  0   \n",
       " 67435                     0                  0                  0   \n",
       " 2747                      0                  0                  0   \n",
       " 16023                     0                  1                  1   \n",
       " 76820                     0                  0                  0   \n",
       " \n",
       "        item_size_xxl  most_returned_item  log_item_price  user_return_rate  \n",
       " 50981              0                   0        1.232162          1.000000  \n",
       " 86621              0                   0       -2.056217          1.000000  \n",
       " 22481              0                   0       -0.090200          0.000000  \n",
       " 71542              1                   0       -0.402228          0.500000  \n",
       " 71673              1                   0       -1.012997          0.000000  \n",
       " ...              ...                 ...             ...               ...  \n",
       " 56886              0                   0       -0.784276          0.509091  \n",
       " 67435              0                   0        0.072876          0.750000  \n",
       " 2747               1                   0       -1.277147          0.625000  \n",
       " 16023              0                   0       -3.148184          0.833333  \n",
       " 76820              0                   0        1.690743          0.000000  \n",
       " \n",
       " [16000 rows x 10 columns],\n",
       " 50981    1\n",
       " 86621    1\n",
       " 22481    0\n",
       " 71542    1\n",
       " 71673    0\n",
       "         ..\n",
       " 56886    0\n",
       " 67435    1\n",
       " 2747     0\n",
       " 16023    0\n",
       " 76820    1\n",
       " Name: return, Length: 16000, dtype: int64)"
      ]
     },
     "execution_count": 23,
     "metadata": {},
     "output_type": "execute_result"
    }
   ],
   "source": [
    "# Look at kfold data\n",
    "kfold_data[0]"
   ]
  },
  {
   "cell_type": "markdown",
   "id": "ced94f02-a9d7-4d78-ac87-26b65f91827a",
   "metadata": {},
   "source": [
    "##### Model Evaluation Preparation"
   ]
  },
  {
   "cell_type": "code",
   "execution_count": 24,
   "id": "2c01c241-01f8-4034-92dd-0da9b3f66c6b",
   "metadata": {},
   "outputs": [
    {
     "name": "stdout",
     "output_type": "stream",
     "text": [
      "(79999, 10)\n",
      "(79999,)\n",
      "(20000, 10)\n",
      "(20000,)\n"
     ]
    }
   ],
   "source": [
    "# Create train test split for model evaluation\n",
    "X = df[['user_return_rate', 'no_delivery', 'least_returned_item', 'item_size_child', 'least_returned_color', 'item_size_unsized', \n",
    "        'user_state_Bremen', 'item_size_xxl', 'most_returned_item', 'log_item_price']]\n",
    "y = df['return']\n",
    "\n",
    "X_train, X_test, y_train, y_test = train_test_split(X, y, test_size=0.2, random_state=42)\n",
    "\n",
    "print(X_train.shape)\n",
    "print(y_train.shape)\n",
    "\n",
    "print(X_test.shape)\n",
    "print(y_test.shape)"
   ]
  },
  {
   "cell_type": "markdown",
   "id": "b93a51a3-22da-4171-ac3e-03d9fddad834",
   "metadata": {},
   "source": [
    "##### Baseline"
   ]
  },
  {
   "cell_type": "code",
   "execution_count": 25,
   "id": "a1a3e204-137d-4c65-8c0c-1d79287c872f",
   "metadata": {},
   "outputs": [
    {
     "data": {
      "text/plain": [
       "{'AUC': 0.7323198309599768,\n",
       " 'Accuracy': 0.6804220804213381,\n",
       " 'Precision': 0.6263990737167117,\n",
       " 'Recall': 0.7152930806522697,\n",
       " 'F1 Score': 0.6679012345679013}"
      ]
     },
     "execution_count": 25,
     "metadata": {},
     "output_type": "execute_result"
    }
   ],
   "source": [
    "xgb_baseline = XGBClassifier(objective='binary:logistic', random_state=42)\n",
    "xgb_baseline.fit(X_train, y_train)\n",
    "\n",
    "evaluate_model_probability(xgb_baseline, X_test, y_test)"
   ]
  },
  {
   "cell_type": "markdown",
   "id": "9c24e017-547e-450c-9389-cd50eed73789",
   "metadata": {},
   "source": [
    "##### Tuning"
   ]
  },
  {
   "cell_type": "markdown",
   "id": "7748606b-ff32-422a-b488-daecb1c299db",
   "metadata": {},
   "source": [
    "Method"
   ]
  },
  {
   "cell_type": "code",
   "execution_count": 26,
   "id": "f0a388fd-b6ad-45f4-a6ac-6dbb25d863e8",
   "metadata": {},
   "outputs": [
    {
     "name": "stdout",
     "output_type": "stream",
     "text": [
      "Params: {'objective': 'binary:logistic', 'booster': 'gbtree', 'random_state': 42} | Avg. AUC Score: 0.71798\n",
      "Params: {'objective': 'binary:logistic', 'booster': 'gblinear', 'random_state': 42} | Avg. AUC Score: 0.73943\n",
      "Params: {'objective': 'reg:squarederror', 'booster': 'gbtree', 'random_state': 42} | Avg. AUC Score: 0.73122\n",
      "Params: {'objective': 'reg:squarederror', 'booster': 'gblinear', 'random_state': 42} | Avg. AUC Score: 0.71903\n",
      "\n",
      "Params Avg. AUC Score: 0.73943\n",
      "Best Params: {'objective': 'binary:logistic', 'booster': 'gblinear', 'random_state': 42}\n"
     ]
    }
   ],
   "source": [
    "param_grid = {\n",
    "    'objective': ['binary:logistic', 'reg:squarederror'],\n",
    "    'booster': ['gbtree', 'gblinear'],\n",
    "    'random_state': [42]\n",
    "}\n",
    "\n",
    "custom_grid_search_xgb_auc(param_grid, kfold_data)"
   ]
  },
  {
   "cell_type": "markdown",
   "id": "3b728710-5603-4a88-af4a-66c0db732653",
   "metadata": {},
   "source": [
    "Regularization"
   ]
  },
  {
   "cell_type": "code",
   "execution_count": 27,
   "id": "2c7988b1-aaa5-4e4c-94dd-4732a3b5c3d3",
   "metadata": {},
   "outputs": [
    {
     "name": "stdout",
     "output_type": "stream",
     "text": [
      "Params: {'lambda': 0, 'random_state': 42, 'objective': 'binary:logistic', 'booster': 'gblinear'} | Avg. AUC Score: 0.73943\n",
      "Params: {'lambda': 0.1, 'random_state': 42, 'objective': 'binary:logistic', 'booster': 'gblinear'} | Avg. AUC Score: 0.72429\n",
      "Params: {'lambda': 0.2, 'random_state': 42, 'objective': 'binary:logistic', 'booster': 'gblinear'} | Avg. AUC Score: 0.71095\n",
      "Params: {'lambda': 0.3, 'random_state': 42, 'objective': 'binary:logistic', 'booster': 'gblinear'} | Avg. AUC Score: 0.70266\n",
      "Params: {'lambda': 0.4, 'random_state': 42, 'objective': 'binary:logistic', 'booster': 'gblinear'} | Avg. AUC Score: 0.69731\n",
      "Params: {'lambda': 0.5, 'random_state': 42, 'objective': 'binary:logistic', 'booster': 'gblinear'} | Avg. AUC Score: 0.69362\n",
      "\n",
      "Params Avg. AUC Score: 0.73943\n",
      "Best Params: {'lambda': 0, 'random_state': 42, 'objective': 'binary:logistic', 'booster': 'gblinear'}\n"
     ]
    }
   ],
   "source": [
    "# Step 1\n",
    "param_grid = {\n",
    "    'lambda': [0, 0.1, 0.2, 0.3, 0.4, 0.5],\n",
    "    'random_state': [42],\n",
    "    'objective': ['binary:logistic'],\n",
    "    'booster': ['gblinear']\n",
    "}\n",
    "\n",
    "custom_grid_search_xgb_auc(param_grid, kfold_data)"
   ]
  },
  {
   "cell_type": "code",
   "execution_count": 28,
   "id": "00980fcd-4bcd-44f8-abc9-2ac7f28a3b32",
   "metadata": {},
   "outputs": [
    {
     "name": "stdout",
     "output_type": "stream",
     "text": [
      "Params: {'lambda': 0, 'random_state': 42, 'objective': 'binary:logistic', 'booster': 'gblinear'} | Avg. AUC Score: 0.73943\n",
      "Params: {'lambda': 1e-05, 'random_state': 42, 'objective': 'binary:logistic', 'booster': 'gblinear'} | Avg. AUC Score: 0.73942\n",
      "Params: {'lambda': 2e-05, 'random_state': 42, 'objective': 'binary:logistic', 'booster': 'gblinear'} | Avg. AUC Score: 0.73929\n",
      "Params: {'lambda': 3e-05, 'random_state': 42, 'objective': 'binary:logistic', 'booster': 'gblinear'} | Avg. AUC Score: 0.73913\n",
      "\n",
      "Params Avg. AUC Score: 0.73943\n",
      "Best Params: {'lambda': 0, 'random_state': 42, 'objective': 'binary:logistic', 'booster': 'gblinear'}\n"
     ]
    }
   ],
   "source": [
    "# Step 2\n",
    "param_grid = {\n",
    "    'lambda': [0, 0.00001, 0.00002, 0.00003],\n",
    "    'random_state': [42],\n",
    "    'objective': ['binary:logistic'],\n",
    "    'booster': ['gblinear']\n",
    "}\n",
    "\n",
    "custom_grid_search_xgb_auc(param_grid, kfold_data)"
   ]
  },
  {
   "cell_type": "markdown",
   "id": "af523657-1281-4e5d-92d9-5af6dd0b1c81",
   "metadata": {},
   "source": [
    "Learning Rate"
   ]
  },
  {
   "cell_type": "code",
   "execution_count": 30,
   "id": "ac7de5c2-a5a0-460e-b61a-a785ea2958e5",
   "metadata": {},
   "outputs": [
    {
     "name": "stdout",
     "output_type": "stream",
     "text": [
      "Params: {'eta': 0.01, 'lambda': 0, 'random_state': 42, 'objective': 'binary:logistic', 'booster': 'gblinear'} | Avg. AUC Score: 0.74561\n",
      "Params: {'eta': 0.05, 'lambda': 0, 'random_state': 42, 'objective': 'binary:logistic', 'booster': 'gblinear'} | Avg. AUC Score: 0.74281\n",
      "Params: {'eta': 0.1, 'lambda': 0, 'random_state': 42, 'objective': 'binary:logistic', 'booster': 'gblinear'} | Avg. AUC Score: 0.74113\n",
      "Params: {'eta': 0.2, 'lambda': 0, 'random_state': 42, 'objective': 'binary:logistic', 'booster': 'gblinear'} | Avg. AUC Score: 0.73996\n",
      "Params: {'eta': 0.3, 'lambda': 0, 'random_state': 42, 'objective': 'binary:logistic', 'booster': 'gblinear'} | Avg. AUC Score: 0.73958\n",
      "\n",
      "Params Avg. AUC Score: 0.74561\n",
      "Best Params: {'eta': 0.01, 'lambda': 0, 'random_state': 42, 'objective': 'binary:logistic', 'booster': 'gblinear'}\n"
     ]
    }
   ],
   "source": [
    "# Step 1\n",
    "param_grid = {\n",
    "    'eta': [0.01, 0.05, 0.1, 0.2, 0.3],\n",
    "    'lambda': [0],\n",
    "    'random_state': [42],\n",
    "    'objective': ['binary:logistic'],\n",
    "    'booster': ['gblinear']\n",
    "}\n",
    "\n",
    "custom_grid_search_xgb_auc(param_grid, kfold_data)"
   ]
  },
  {
   "cell_type": "code",
   "execution_count": 31,
   "id": "5560ea17-3f65-4244-ba24-a835be27c09b",
   "metadata": {},
   "outputs": [
    {
     "name": "stdout",
     "output_type": "stream",
     "text": [
      "Params: {'eta': 0.001, 'lambda': 0, 'random_state': 42, 'objective': 'binary:logistic', 'booster': 'gblinear'} | Avg. AUC Score: 0.74042\n",
      "Params: {'eta': 0.005, 'lambda': 0, 'random_state': 42, 'objective': 'binary:logistic', 'booster': 'gblinear'} | Avg. AUC Score: 0.74348\n",
      "Params: {'eta': 0.01, 'lambda': 0, 'random_state': 42, 'objective': 'binary:logistic', 'booster': 'gblinear'} | Avg. AUC Score: 0.74561\n",
      "Params: {'eta': 0.015, 'lambda': 0, 'random_state': 42, 'objective': 'binary:logistic', 'booster': 'gblinear'} | Avg. AUC Score: 0.74633\n",
      "Params: {'eta': 0.2, 'lambda': 0, 'random_state': 42, 'objective': 'binary:logistic', 'booster': 'gblinear'} | Avg. AUC Score: 0.73997\n",
      "\n",
      "Params Avg. AUC Score: 0.74633\n",
      "Best Params: {'eta': 0.015, 'lambda': 0, 'random_state': 42, 'objective': 'binary:logistic', 'booster': 'gblinear'}\n"
     ]
    }
   ],
   "source": [
    "# Step 2\n",
    "param_grid = {\n",
    "    'eta': [0.001, 0.005, 0.01, 0.015, 0.2],\n",
    "    'lambda': [0],\n",
    "    'random_state': [42],\n",
    "    'objective': ['binary:logistic'],\n",
    "    'booster': ['gblinear']\n",
    "}\n",
    "\n",
    "custom_grid_search_xgb_auc(param_grid, kfold_data)"
   ]
  },
  {
   "cell_type": "markdown",
   "id": "36fc815b-b31a-407e-a77e-8e4020914b90",
   "metadata": {},
   "source": [
    "Use XGB Model from XGB package\n",
    "\n",
    "1. Get No. of Boosting Rounds\n",
    "2. Get Feature Importance"
   ]
  },
  {
   "cell_type": "code",
   "execution_count": 34,
   "id": "421ff147-d7ac-4fac-8c9a-38ebe029a717",
   "metadata": {},
   "outputs": [
    {
     "name": "stdout",
     "output_type": "stream",
     "text": [
      "[0]\tTest-auc:0.74444\n",
      "[20]\tTest-auc:0.74764\n",
      "[40]\tTest-auc:0.75032\n",
      "[60]\tTest-auc:0.75233\n",
      "[80]\tTest-auc:0.75370\n",
      "[100]\tTest-auc:0.75462\n",
      "[120]\tTest-auc:0.75519\n",
      "[140]\tTest-auc:0.75535\n",
      "[158]\tTest-auc:0.75538\n",
      "Convergence in 149 rounds\n"
     ]
    }
   ],
   "source": [
    "param_grid = {\n",
    "    'eta': 0.015,\n",
    "    'lambda': 0,\n",
    "    'random_state': 42,\n",
    "    'objective': 'binary:logistic',\n",
    "    'booster': 'gblinear',\n",
    "    'eval_metric': 'auc'\n",
    "}\n",
    "\n",
    "# Create DMatrix to store data\n",
    "dtrain = xgb.DMatrix(X_train, label=y_train)\n",
    "dtest = xgb.DMatrix(X_test, label=y_test)\n",
    "\n",
    "# Find no. of boosting rounds required\n",
    "rounds = xgb.train(\n",
    "    param_grid,\n",
    "    dtrain,\n",
    "    num_boost_round=999,\n",
    "    evals=[(dtest, \"Test\")],\n",
    "    early_stopping_rounds=10,\n",
    "    verbose_eval=20\n",
    ")\n",
    "\n",
    "print(\"Convergence in {} rounds\".format(rounds.best_iteration+1))"
   ]
  },
  {
   "cell_type": "markdown",
   "id": "f84ef3e6-ba42-4ffe-8f51-252de1138dd2",
   "metadata": {},
   "source": [
    "##### Final Model"
   ]
  },
  {
   "cell_type": "code",
   "execution_count": 35,
   "id": "0ce0c2ce-dfcc-4197-9191-2d81e1cbe2e7",
   "metadata": {},
   "outputs": [
    {
     "data": {
      "text/plain": [
       "{'AUC': 0.7554016631031758,\n",
       " 'Accuracy': 0.6886348994995513,\n",
       " 'Precision': 0.6327878265862762,\n",
       " 'Recall': 0.7285147642133099,\n",
       " 'F1 Score': 0.6772855313700386}"
      ]
     },
     "execution_count": 35,
     "metadata": {},
     "output_type": "execute_result"
    }
   ],
   "source": [
    "param_grid = {\n",
    "    'n_estimators': rounds.best_iteration+1, # 149 boosting rounds\n",
    "    'eta': 0.015,\n",
    "    'lambda': 0,\n",
    "    'random_state': 42,\n",
    "    'objective': 'binary:logistic',\n",
    "    'booster': 'gblinear',\n",
    "    'eval_metric': 'auc'\n",
    "}\n",
    "\n",
    "xgbc = XGBClassifier(**param_grid)\n",
    "xgbc.fit(X_train, y_train)\n",
    "\n",
    "evaluate_model_probability(xgbc, X_test, y_test, threshold=0.53)"
   ]
  },
  {
   "cell_type": "markdown",
   "id": "92342706-113b-4354-aa93-4f111d845d2d",
   "metadata": {},
   "source": [
    "Original Best XGBoost Model (Classification Threshold = 0.49)\n",
    "\n",
    "- AUC: 0.7677342406908003\n",
    "- Accuracy: 0.6997594583128047\n",
    "- Precision: 0.6450086889360881\n",
    "- Recall: 0.7361172322609079\n",
    "- F1 Score: 0.6875578882371103"
   ]
  },
  {
   "cell_type": "markdown",
   "id": "fbadee8e-d19c-495a-8cbb-25a9a31cc71c",
   "metadata": {},
   "source": [
    "We observe an approximate 1% drop in AUC and accuracy from limiting the variables to the top 10 most important variables. Perhaps a middle ground approach would be to remove the least important features such as is_bday, log_avg_freq_purchases, and log_age."
   ]
  },
  {
   "cell_type": "code",
   "execution_count": null,
   "id": "26ea6420-ba19-4b7f-a53c-56cf0a67c5f3",
   "metadata": {},
   "outputs": [],
   "source": []
  }
 ],
 "metadata": {
  "kernelspec": {
   "display_name": "Python 3 (ipykernel)",
   "language": "python",
   "name": "python3"
  },
  "language_info": {
   "codemirror_mode": {
    "name": "ipython",
    "version": 3
   },
   "file_extension": ".py",
   "mimetype": "text/x-python",
   "name": "python",
   "nbconvert_exporter": "python",
   "pygments_lexer": "ipython3",
   "version": "3.11.7"
  }
 },
 "nbformat": 4,
 "nbformat_minor": 5
}
