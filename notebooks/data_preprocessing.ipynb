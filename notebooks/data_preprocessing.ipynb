{
 "cells": [
  {
   "cell_type": "markdown",
   "id": "dc12fb4f-ee42-4172-9f91-9e07b64a7832",
   "metadata": {},
   "source": [
    "### Imports"
   ]
  },
  {
   "cell_type": "code",
   "execution_count": 2,
   "id": "2fd5ffbd-d4d8-4565-bcdd-af2b0b9e21fd",
   "metadata": {},
   "outputs": [],
   "source": [
    "# Import packages\n",
    "import pandas as pd\n",
    "import numpy as np\n",
    "import matplotlib.pyplot as plt\n",
    "plt.style.use(\"tableau-colorblind10\")\n",
    "%matplotlib inline\n",
    "import seaborn as sns"
   ]
  },
  {
   "cell_type": "code",
   "execution_count": 6,
   "id": "a890aab2-8945-4782-83cb-aba8f45bc695",
   "metadata": {},
   "outputs": [
    {
     "data": {
      "text/html": [
       "<div>\n",
       "<style scoped>\n",
       "    .dataframe tbody tr th:only-of-type {\n",
       "        vertical-align: middle;\n",
       "    }\n",
       "\n",
       "    .dataframe tbody tr th {\n",
       "        vertical-align: top;\n",
       "    }\n",
       "\n",
       "    .dataframe thead th {\n",
       "        text-align: right;\n",
       "    }\n",
       "</style>\n",
       "<table border=\"1\" class=\"dataframe\">\n",
       "  <thead>\n",
       "    <tr style=\"text-align: right;\">\n",
       "      <th></th>\n",
       "      <th>order_item_id</th>\n",
       "      <th>order_date</th>\n",
       "      <th>delivery_date</th>\n",
       "      <th>item_id</th>\n",
       "      <th>item_size</th>\n",
       "      <th>item_color</th>\n",
       "      <th>brand_id</th>\n",
       "      <th>item_price</th>\n",
       "      <th>user_id</th>\n",
       "      <th>user_title</th>\n",
       "      <th>user_dob</th>\n",
       "      <th>user_state</th>\n",
       "      <th>user_reg_date</th>\n",
       "      <th>return</th>\n",
       "    </tr>\n",
       "  </thead>\n",
       "  <tbody>\n",
       "    <tr>\n",
       "      <th>0</th>\n",
       "      <td>1</td>\n",
       "      <td>2016-06-22</td>\n",
       "      <td>2016-06-27</td>\n",
       "      <td>643</td>\n",
       "      <td>38</td>\n",
       "      <td>navy</td>\n",
       "      <td>30</td>\n",
       "      <td>49.90</td>\n",
       "      <td>30822</td>\n",
       "      <td>Mrs</td>\n",
       "      <td>1969-04-17</td>\n",
       "      <td>Saxony</td>\n",
       "      <td>2016-06-23</td>\n",
       "      <td>0</td>\n",
       "    </tr>\n",
       "    <tr>\n",
       "      <th>1</th>\n",
       "      <td>2</td>\n",
       "      <td>2016-06-22</td>\n",
       "      <td>NaN</td>\n",
       "      <td>337</td>\n",
       "      <td>152</td>\n",
       "      <td>grey</td>\n",
       "      <td>30</td>\n",
       "      <td>19.95</td>\n",
       "      <td>30822</td>\n",
       "      <td>Mrs</td>\n",
       "      <td>1969-04-17</td>\n",
       "      <td>Saxony</td>\n",
       "      <td>2016-06-23</td>\n",
       "      <td>0</td>\n",
       "    </tr>\n",
       "    <tr>\n",
       "      <th>2</th>\n",
       "      <td>3</td>\n",
       "      <td>2016-06-22</td>\n",
       "      <td>2016-06-27</td>\n",
       "      <td>270</td>\n",
       "      <td>xxl</td>\n",
       "      <td>grey</td>\n",
       "      <td>49</td>\n",
       "      <td>79.90</td>\n",
       "      <td>30823</td>\n",
       "      <td>Mrs</td>\n",
       "      <td>1970-04-22</td>\n",
       "      <td>Baden-Wuerttemberg</td>\n",
       "      <td>2015-03-15</td>\n",
       "      <td>1</td>\n",
       "    </tr>\n",
       "    <tr>\n",
       "      <th>3</th>\n",
       "      <td>4</td>\n",
       "      <td>2016-06-22</td>\n",
       "      <td>2016-06-27</td>\n",
       "      <td>142</td>\n",
       "      <td>xxl</td>\n",
       "      <td>grey</td>\n",
       "      <td>49</td>\n",
       "      <td>99.90</td>\n",
       "      <td>30823</td>\n",
       "      <td>Mrs</td>\n",
       "      <td>1970-04-22</td>\n",
       "      <td>Baden-Wuerttemberg</td>\n",
       "      <td>2015-03-15</td>\n",
       "      <td>0</td>\n",
       "    </tr>\n",
       "    <tr>\n",
       "      <th>4</th>\n",
       "      <td>5</td>\n",
       "      <td>2016-06-22</td>\n",
       "      <td>2016-06-27</td>\n",
       "      <td>561</td>\n",
       "      <td>xxl</td>\n",
       "      <td>grey</td>\n",
       "      <td>3</td>\n",
       "      <td>14.90</td>\n",
       "      <td>30823</td>\n",
       "      <td>Mrs</td>\n",
       "      <td>1970-04-22</td>\n",
       "      <td>Baden-Wuerttemberg</td>\n",
       "      <td>2015-03-15</td>\n",
       "      <td>1</td>\n",
       "    </tr>\n",
       "  </tbody>\n",
       "</table>\n",
       "</div>"
      ],
      "text/plain": [
       "   order_item_id  order_date delivery_date  item_id item_size item_color  \\\n",
       "0              1  2016-06-22    2016-06-27      643        38       navy   \n",
       "1              2  2016-06-22           NaN      337       152       grey   \n",
       "2              3  2016-06-22    2016-06-27      270       xxl       grey   \n",
       "3              4  2016-06-22    2016-06-27      142       xxl       grey   \n",
       "4              5  2016-06-22    2016-06-27      561       xxl       grey   \n",
       "\n",
       "   brand_id  item_price  user_id user_title    user_dob          user_state  \\\n",
       "0        30       49.90    30822        Mrs  1969-04-17              Saxony   \n",
       "1        30       19.95    30822        Mrs  1969-04-17              Saxony   \n",
       "2        49       79.90    30823        Mrs  1970-04-22  Baden-Wuerttemberg   \n",
       "3        49       99.90    30823        Mrs  1970-04-22  Baden-Wuerttemberg   \n",
       "4         3       14.90    30823        Mrs  1970-04-22  Baden-Wuerttemberg   \n",
       "\n",
       "  user_reg_date  return  \n",
       "0    2016-06-23       0  \n",
       "1    2016-06-23       0  \n",
       "2    2015-03-15       1  \n",
       "3    2015-03-15       0  \n",
       "4    2015-03-15       1  "
      ]
     },
     "execution_count": 6,
     "metadata": {},
     "output_type": "execute_result"
    }
   ],
   "source": [
    "# Read in dataset\n",
    "df = pd.read_csv('Data/BADS_WS1920_known.csv')\n",
    "df.head()"
   ]
  },
  {
   "cell_type": "markdown",
   "id": "50318d45-4aa4-40ef-b4b6-6287ac9a7a11",
   "metadata": {},
   "source": [
    "### Summary Checks"
   ]
  },
  {
   "cell_type": "code",
   "execution_count": 3,
   "id": "e2954ae4-ed67-4a46-abf9-9da9153df6c8",
   "metadata": {},
   "outputs": [
    {
     "name": "stdout",
     "output_type": "stream",
     "text": [
      "(100000, 14)\n",
      "<class 'pandas.core.frame.DataFrame'>\n",
      "RangeIndex: 100000 entries, 0 to 99999\n",
      "Data columns (total 14 columns):\n",
      " #   Column         Non-Null Count   Dtype  \n",
      "---  ------         --------------   -----  \n",
      " 0   order_item_id  100000 non-null  int64  \n",
      " 1   order_date     100000 non-null  object \n",
      " 2   delivery_date  90682 non-null   object \n",
      " 3   item_id        100000 non-null  int64  \n",
      " 4   item_size      100000 non-null  object \n",
      " 5   item_color     100000 non-null  object \n",
      " 6   brand_id       100000 non-null  int64  \n",
      " 7   item_price     100000 non-null  float64\n",
      " 8   user_id        100000 non-null  int64  \n",
      " 9   user_title     100000 non-null  object \n",
      " 10  user_dob       91275 non-null   object \n",
      " 11  user_state     100000 non-null  object \n",
      " 12  user_reg_date  100000 non-null  object \n",
      " 13  return         100000 non-null  int64  \n",
      "dtypes: float64(1), int64(5), object(8)\n",
      "memory usage: 10.7+ MB\n"
     ]
    }
   ],
   "source": [
    "# Get dimensions of df and check if data has missing values\n",
    "print(df.shape)\n",
    "df.info()"
   ]
  },
  {
   "cell_type": "code",
   "execution_count": 4,
   "id": "ab566f8d-8df5-4be6-9fff-bb88c206097d",
   "metadata": {},
   "outputs": [
    {
     "data": {
      "text/html": [
       "<div>\n",
       "<style scoped>\n",
       "    .dataframe tbody tr th:only-of-type {\n",
       "        vertical-align: middle;\n",
       "    }\n",
       "\n",
       "    .dataframe tbody tr th {\n",
       "        vertical-align: top;\n",
       "    }\n",
       "\n",
       "    .dataframe thead th {\n",
       "        text-align: right;\n",
       "    }\n",
       "</style>\n",
       "<table border=\"1\" class=\"dataframe\">\n",
       "  <thead>\n",
       "    <tr style=\"text-align: right;\">\n",
       "      <th></th>\n",
       "      <th>order_item_id</th>\n",
       "      <th>item_id</th>\n",
       "      <th>brand_id</th>\n",
       "      <th>item_price</th>\n",
       "      <th>user_id</th>\n",
       "      <th>return</th>\n",
       "    </tr>\n",
       "  </thead>\n",
       "  <tbody>\n",
       "    <tr>\n",
       "      <th>count</th>\n",
       "      <td>100000.000</td>\n",
       "      <td>100000.000</td>\n",
       "      <td>100000.000</td>\n",
       "      <td>100000.000</td>\n",
       "      <td>100000.000</td>\n",
       "      <td>100000.000</td>\n",
       "    </tr>\n",
       "    <tr>\n",
       "      <th>mean</th>\n",
       "      <td>50000.500</td>\n",
       "      <td>923.782</td>\n",
       "      <td>30.149</td>\n",
       "      <td>65.065</td>\n",
       "      <td>27169.074</td>\n",
       "      <td>0.458</td>\n",
       "    </tr>\n",
       "    <tr>\n",
       "      <th>std</th>\n",
       "      <td>28867.658</td>\n",
       "      <td>702.569</td>\n",
       "      <td>28.180</td>\n",
       "      <td>47.992</td>\n",
       "      <td>14053.418</td>\n",
       "      <td>0.498</td>\n",
       "    </tr>\n",
       "    <tr>\n",
       "      <th>min</th>\n",
       "      <td>1.000</td>\n",
       "      <td>1.000</td>\n",
       "      <td>1.000</td>\n",
       "      <td>0.000</td>\n",
       "      <td>9.000</td>\n",
       "      <td>0.000</td>\n",
       "    </tr>\n",
       "    <tr>\n",
       "      <th>25%</th>\n",
       "      <td>25000.750</td>\n",
       "      <td>214.000</td>\n",
       "      <td>5.000</td>\n",
       "      <td>29.900</td>\n",
       "      <td>14937.000</td>\n",
       "      <td>0.000</td>\n",
       "    </tr>\n",
       "    <tr>\n",
       "      <th>50%</th>\n",
       "      <td>50000.500</td>\n",
       "      <td>812.000</td>\n",
       "      <td>25.000</td>\n",
       "      <td>49.900</td>\n",
       "      <td>31189.000</td>\n",
       "      <td>0.000</td>\n",
       "    </tr>\n",
       "    <tr>\n",
       "      <th>75%</th>\n",
       "      <td>75000.250</td>\n",
       "      <td>1581.000</td>\n",
       "      <td>44.000</td>\n",
       "      <td>79.900</td>\n",
       "      <td>38917.250</td>\n",
       "      <td>1.000</td>\n",
       "    </tr>\n",
       "    <tr>\n",
       "      <th>max</th>\n",
       "      <td>100000.000</td>\n",
       "      <td>2241.000</td>\n",
       "      <td>138.000</td>\n",
       "      <td>999.000</td>\n",
       "      <td>48241.000</td>\n",
       "      <td>1.000</td>\n",
       "    </tr>\n",
       "  </tbody>\n",
       "</table>\n",
       "</div>"
      ],
      "text/plain": [
       "       order_item_id     item_id    brand_id  item_price     user_id  \\\n",
       "count     100000.000  100000.000  100000.000  100000.000  100000.000   \n",
       "mean       50000.500     923.782      30.149      65.065   27169.074   \n",
       "std        28867.658     702.569      28.180      47.992   14053.418   \n",
       "min            1.000       1.000       1.000       0.000       9.000   \n",
       "25%        25000.750     214.000       5.000      29.900   14937.000   \n",
       "50%        50000.500     812.000      25.000      49.900   31189.000   \n",
       "75%        75000.250    1581.000      44.000      79.900   38917.250   \n",
       "max       100000.000    2241.000     138.000     999.000   48241.000   \n",
       "\n",
       "           return  \n",
       "count  100000.000  \n",
       "mean        0.458  \n",
       "std         0.498  \n",
       "min         0.000  \n",
       "25%         0.000  \n",
       "50%         0.000  \n",
       "75%         1.000  \n",
       "max         1.000  "
      ]
     },
     "execution_count": 4,
     "metadata": {},
     "output_type": "execute_result"
    }
   ],
   "source": [
    "# Get basic descriptive stats of numeric variables\n",
    "df.describe().round(3)"
   ]
  },
  {
   "cell_type": "markdown",
   "id": "ee264a07-045c-4fba-9ef8-eee7ba821a0a",
   "metadata": {},
   "source": [
    "order_item_id, item_id, brand_id and user_id are technically all nominal categorical variables."
   ]
  },
  {
   "cell_type": "markdown",
   "id": "6db49034-6d9a-4022-925b-d70be397b6e3",
   "metadata": {},
   "source": [
    "### Data Cleaning"
   ]
  },
  {
   "cell_type": "markdown",
   "id": "0aaf9bc7-9649-4e45-ae98-5a3f192be267",
   "metadata": {},
   "source": [
    "**Check Legitimacy of Delivery Date**\n",
    "\n",
    "If the product has not been delivered, then it is likely return was assumed to be = 0. This means that we should drop these rows as it will reduce the effectiveness of our model.\n",
    "\n",
    "If instead, we find that products without a delivery date have occurences where return = 1, then we can assume it is simply missing data."
   ]
  },
  {
   "cell_type": "code",
   "execution_count": 5,
   "id": "60bd03be-f987-46c8-bdde-edfcd5d7ad2c",
   "metadata": {},
   "outputs": [
    {
     "name": "stdout",
     "output_type": "stream",
     "text": [
      "Products have not been delivered, therefore they cannot be returned.\n"
     ]
    }
   ],
   "source": [
    "result = 'Products have not been delivered, therefore they cannot be returned.'\n",
    "\n",
    "for idx, row in df[df['delivery_date'].isnull()].iterrows():\n",
    "  if row['return'] == 1:\n",
    "    result = 'Products may not have recorded delivery date, some products have been returned.'\n",
    "    break\n",
    "\n",
    "print(result)"
   ]
  },
  {
   "cell_type": "code",
   "execution_count": 6,
   "id": "7d8b6f93-0f60-4551-bc7b-19f6131b6235",
   "metadata": {},
   "outputs": [],
   "source": [
    "# No Delivery column for missing delivery date values\n",
    "df['no_delivery'] = df['delivery_date'].isna().astype(int)"
   ]
  },
  {
   "cell_type": "markdown",
   "id": "92e092c6-4d55-494d-8920-9d48e722811e",
   "metadata": {},
   "source": [
    "This is so that in the test data, we can still predict entries with missing information."
   ]
  },
  {
   "cell_type": "markdown",
   "id": "4b5abe81-c7a7-4b8b-9f11-342d65ceb3c2",
   "metadata": {},
   "source": [
    "**Check Item Price**\n",
    "\n",
    "There are some items where price = 0.\n",
    "\n",
    "For the unsized items, we assume that these were gifts.\n",
    "For sized items, because the training data only shows 1 such example, we are unsure whether it's a mistake and so we choose to drop it."
   ]
  },
  {
   "cell_type": "code",
   "execution_count": 7,
   "id": "188d0b2c-c771-4ef0-ace5-1c400dc8a09e",
   "metadata": {},
   "outputs": [
    {
     "name": "stdout",
     "output_type": "stream",
     "text": [
      "No. of Unsized Items: 5223\n"
     ]
    },
    {
     "data": {
      "text/plain": [
       "item_size\n",
       "40           1\n",
       "unsized    395\n",
       "Name: item_size, dtype: int64"
      ]
     },
     "execution_count": 7,
     "metadata": {},
     "output_type": "execute_result"
    }
   ],
   "source": [
    "# Size of items where price = 0\n",
    "print('No. of Unsized Items:', df[df['item_size'] == 'unsized'].shape[0])\n",
    "df[df['item_price'] == 0].groupby('item_size')['item_size'].count()"
   ]
  },
  {
   "cell_type": "code",
   "execution_count": 8,
   "id": "29b16aab-05aa-4693-b244-d7ef53e3aea1",
   "metadata": {},
   "outputs": [
    {
     "name": "stdout",
     "output_type": "stream",
     "text": [
      "(100000, 15)\n"
     ]
    },
    {
     "data": {
      "text/plain": [
       "(99999, 15)"
      ]
     },
     "execution_count": 8,
     "metadata": {},
     "output_type": "execute_result"
    }
   ],
   "source": [
    "# Drop items that are unsized with price = 0\n",
    "print(df.shape)\n",
    "df = df[~((df['item_price'] == 0) & (df['item_size'] != 'unsized'))]\n",
    "df.shape"
   ]
  },
  {
   "cell_type": "markdown",
   "id": "a30c600a-5753-42de-851e-2e865e2bfcaf",
   "metadata": {},
   "source": [
    "**Convert Date columns into Date type**"
   ]
  },
  {
   "cell_type": "code",
   "execution_count": 9,
   "id": "f247e0ac-9627-4462-8d5d-ed09651c86af",
   "metadata": {},
   "outputs": [
    {
     "data": {
      "text/plain": [
       "pandas._libs.tslibs.timestamps.Timestamp"
      ]
     },
     "execution_count": 9,
     "metadata": {},
     "output_type": "execute_result"
    }
   ],
   "source": [
    "# Change str to datetime\n",
    "df['order_date'] = pd.to_datetime(df['order_date'], format='%Y-%m-%d')\n",
    "df['delivery_date'] = pd.to_datetime(df['delivery_date'], format='%Y-%m-%d')\n",
    "df['user_dob'] = pd.to_datetime(df['user_dob'], format='%Y-%m-%d') # Note, some DOB is missing\n",
    "df['user_reg_date'] = pd.to_datetime(df['user_reg_date'], format='%Y-%m-%d')\n",
    "\n",
    "type(df['order_date'][0])"
   ]
  },
  {
   "cell_type": "markdown",
   "id": "6e501ca1-b89b-41e8-963a-851c33be0ce4",
   "metadata": {},
   "source": [
    "**Addressing Missing User DOB values**\n",
    "\n",
    "Considering the percentage of data that is meaning, interpolating the values may heavily skew the data (especially if featured variables like age are significant). \n",
    "\n",
    "We will add a missing label to featured variables as they are created."
   ]
  },
  {
   "cell_type": "code",
   "execution_count": 10,
   "id": "8cc6645b-a866-48af-b8a4-097eca90db1f",
   "metadata": {},
   "outputs": [
    {
     "data": {
      "text/plain": [
       "0.0873"
      ]
     },
     "execution_count": 10,
     "metadata": {},
     "output_type": "execute_result"
    }
   ],
   "source": [
    "round(len(df[df['user_dob'].isnull()])/len(df), 4)"
   ]
  },
  {
   "cell_type": "markdown",
   "id": "4df15a6a-137c-4cb7-bf2d-64f89edb2f8d",
   "metadata": {},
   "source": [
    "**Check Item Size**\n",
    "\n",
    "There is a need to standardise the scale and sizings to something consistent.\n",
    "\n",
    "- Considering that over 90% of the purchases come from female, we assume this is a female-oriented shop and thus assume female sizes.\n",
    "- Looking at user states, it seems that the shop attracts European customers\n",
    "\n",
    "These are the types of labellings in the data:\n",
    "1. Int (could be size, could be waist, could be waist length, could be height)\n",
    "2. Int+\n",
    "3. Str\n",
    "\n",
    "References this article, unless specified, https://en.wikipedia.org/wiki/Clothing_sizes#Women"
   ]
  },
  {
   "cell_type": "code",
   "execution_count": 11,
   "id": "972110d4-073f-43c5-b668-1161a8c6e7f8",
   "metadata": {},
   "outputs": [
    {
     "data": {
      "text/plain": [
       "array(['38', '152', 'xxl', '41', '50', 'l', '48', 'xl', '42', '43', '9',\n",
       "       '8+', 'unsized', 'm', 's', '40', '40+', '6+', '10', '8', '7', '44',\n",
       "       '37', '39', '36', '4+', '21', '18', '7+', '20', '5+', '46', '6',\n",
       "       '19', '4', '5', '35', '31', '38+', '29', '34', '3', '30', '45',\n",
       "       '22', '24', '41+', '39+', '23', '140', '116', '26', '9+', '3632',\n",
       "       '4032', '10+', '1', '36+', '11', '28', '11+', '12', '25', '37+',\n",
       "       '128', '176', 'xs', '42+', '3432', '164', '52', '104', '33', '32',\n",
       "       '14', 'xxxl', '27', '13', '56', '3+', '47', '54', '3332', '46+',\n",
       "       '2', '80', '45+', '90', '3832', '3634', '44+', '49', '43+', '2+',\n",
       "       '100', '3132', '58', '4034', '84', '105', '3834', '12+'],\n",
       "      dtype=object)"
      ]
     },
     "execution_count": 11,
     "metadata": {},
     "output_type": "execute_result"
    }
   ],
   "source": [
    "# Look at unique values for item_size\n",
    "df['item_size'].unique()"
   ]
  },
  {
   "cell_type": "code",
   "execution_count": 12,
   "id": "c435a323-fe25-4c88-8d0d-ef5d177b7900",
   "metadata": {},
   "outputs": [
    {
     "name": "stdout",
     "output_type": "stream",
     "text": [
      "Rows edited: 2695\n"
     ]
    }
   ],
   "source": [
    "# Take sizes with + as the value + 1\n",
    "count = 0\n",
    "for idx, row in df[df['item_size'].str.contains('+', regex=False)].iterrows():\n",
    "  df.loc[idx, 'item_size'] = str(int(row['item_size'][:-1]) + 1)\n",
    "  count += 1\n",
    "\n",
    "print(\"Rows edited:\", count)"
   ]
  },
  {
   "cell_type": "code",
   "execution_count": 13,
   "id": "62b186a7-f2e5-47e7-94f3-ad630ea494d6",
   "metadata": {},
   "outputs": [],
   "source": [
    "# Dummy function that returns size based on values specified\n",
    "# https://www.wikihow.com/Read-Pants-Size\n",
    "\n",
    "def transform_size(x, size_val, size=['xs', 's', 'm', 'l', 'xl', 'xxl', 'xxxl']):\n",
    "  if x <= size_val[0]:\n",
    "    return size[0]\n",
    "  elif x <= size_val[1]:\n",
    "    return size[1]\n",
    "  elif x <= size_val[2]:\n",
    "    return size[2]\n",
    "  elif x <= size_val[3]:\n",
    "    return size[3]\n",
    "  elif x <= size_val[4]:\n",
    "    return size[4]\n",
    "  elif x <= size_val[5]:\n",
    "    return size[5]\n",
    "  else:\n",
    "    return size[6]"
   ]
  },
  {
   "cell_type": "code",
   "execution_count": 14,
   "id": "042e09ea-1ad9-4341-8110-a8a260dc38f9",
   "metadata": {},
   "outputs": [
    {
     "name": "stdout",
     "output_type": "stream",
     "text": [
      "Rows converted: 93\n"
     ]
    }
   ],
   "source": [
    "# Convert Pant Sizes with Length\n",
    "# https://www.wikihow.com/Read-Pants-Size\n",
    "size_val = [24, 26, 28, 30, 32, 34, 40]\n",
    "count = 0\n",
    "\n",
    "for idx, row in df[(df['item_size'].str.len() == 4) & (df['item_size'].str.isnumeric())].iterrows():\n",
    "  df.loc[idx, 'item_size'] = transform_size(int(row['item_size'][:2]), size_val)\n",
    "  count += 1\n",
    "\n",
    "print(\"Rows converted:\", count)"
   ]
  },
  {
   "cell_type": "code",
   "execution_count": 15,
   "id": "ff5cdf72-e265-4e8e-ac65-ba316616b76e",
   "metadata": {},
   "outputs": [
    {
     "name": "stdout",
     "output_type": "stream",
     "text": [
      "Rows converted: 531\n"
     ]
    }
   ],
   "source": [
    "# Convert Children Sizes\n",
    "# https://www.mothercare.com.sg/size-charts/baby--kids-fashion/\n",
    "count = 0\n",
    "\n",
    "for idx, row in df[(df['item_size'].str.len() == 3) & (df['item_size'].str.isnumeric())].iterrows():\n",
    "  if int(row['item_size']) < 116:\n",
    "    pass\n",
    "  else:\n",
    "    df.loc[idx, 'item_size'] = 'child'\n",
    "    count += 1\n",
    "\n",
    "for idx, row in df[(df['item_size'].str.len() <= 3) & (df['item_size'].str.isnumeric())].iterrows():\n",
    "  if int(row['item_size']) in (80, 90, 100, 104, 105):\n",
    "    df.loc[idx, 'item_size'] = 'child'\n",
    "    count += 1\n",
    "\n",
    "print(\"Rows converted:\", count)"
   ]
  },
  {
   "cell_type": "code",
   "execution_count": 16,
   "id": "7ff17259-a67c-4a91-989a-2bc12c7cb4f0",
   "metadata": {},
   "outputs": [
    {
     "name": "stdout",
     "output_type": "stream",
     "text": [
      "Rows converted: 24593\n"
     ]
    }
   ],
   "source": [
    "# Assume that values from 40 to 50 onwards are women's dress sizes\n",
    "# Convert Chest Sizes\n",
    "size_val = [40, 42, 44, 46, 48, 50, 54]\n",
    "count = 0\n",
    "\n",
    "for idx, row in df[(df['item_size'].str.len() == 2) & (df['item_size'].str.isnumeric())].iterrows():\n",
    "  if int(row['item_size']) < 40:\n",
    "    pass\n",
    "  else:\n",
    "    df.loc[idx, 'item_size'] = transform_size(int(row['item_size']), size_val)\n",
    "    count += 1\n",
    "\n",
    "print(\"Rows converted:\", count)"
   ]
  },
  {
   "cell_type": "code",
   "execution_count": 17,
   "id": "cc92cb5c-0ed7-4a9d-9d95-67e285c95b9d",
   "metadata": {},
   "outputs": [
    {
     "name": "stdout",
     "output_type": "stream",
     "text": [
      "Rows converted: 19440\n"
     ]
    }
   ],
   "source": [
    "# Assume that values between 24 and 36 are also waist sizes\n",
    "# Convert Waist Sizes\n",
    "size_val = [24, 26, 28, 30, 32, 34, 40]\n",
    "count = 0\n",
    "\n",
    "for idx, row in df[(df['item_size'].str.len() == 2) & (df['item_size'].str.isnumeric())].iterrows():\n",
    "  if int(row['item_size']) > 40:\n",
    "    pass\n",
    "  else:\n",
    "    df.loc[idx, 'item_size'] = transform_size(int(row['item_size']), size_val)\n",
    "    count += 1\n",
    "\n",
    "print(\"Rows converted:\", count)"
   ]
  },
  {
   "cell_type": "code",
   "execution_count": 18,
   "id": "37fcde02-6099-46bd-9c08-04f84407d3f2",
   "metadata": {},
   "outputs": [
    {
     "name": "stdout",
     "output_type": "stream",
     "text": [
      "Rows converted: 3567\n"
     ]
    }
   ],
   "source": [
    "# Convert UK Numeric Sizes\n",
    "size_val = [8, 10, 12, 16, 18, 20, 22]\n",
    "count = 0\n",
    "\n",
    "for idx, row in df[(df['item_size'].str.len() <= 2) & (df['item_size'].str.isnumeric())].iterrows():\n",
    "  if int(row['item_size']) < 24:\n",
    "      df.loc[idx, 'item_size'] = transform_size(int(row['item_size']), size_val)\n",
    "      count += 1\n",
    "\n",
    "print(\"Rows converted:\", count)"
   ]
  },
  {
   "cell_type": "code",
   "execution_count": 19,
   "id": "2ebcbeba-1c67-4307-9389-6d1fb9fba088",
   "metadata": {},
   "outputs": [
    {
     "data": {
      "text/plain": [
       "array(['xxxl', 'child', 'xxl', 's', 'l', 'xl', 'm', 'unsized', 'xs'],\n",
       "      dtype=object)"
      ]
     },
     "execution_count": 19,
     "metadata": {},
     "output_type": "execute_result"
    }
   ],
   "source": [
    "# Check that all values have been re-categorised\n",
    "df['item_size'].unique()"
   ]
  },
  {
   "cell_type": "markdown",
   "id": "6b61f341-0993-4862-a0c7-2f1d9d5daa61",
   "metadata": {},
   "source": [
    "### Feature Engineering"
   ]
  },
  {
   "cell_type": "code",
   "execution_count": 20,
   "id": "d0948947-b9ef-4666-aaaa-6fdf55e6bbf5",
   "metadata": {},
   "outputs": [
    {
     "data": {
      "text/plain": [
       "(99999, 15)"
      ]
     },
     "execution_count": 20,
     "metadata": {},
     "output_type": "execute_result"
    }
   ],
   "source": [
    "df2 = df.copy()\n",
    "df2.shape"
   ]
  },
  {
   "cell_type": "markdown",
   "id": "263c00a5-efe8-40a3-b291-b901a5b91bae",
   "metadata": {},
   "source": [
    "**Gender of User**"
   ]
  },
  {
   "cell_type": "code",
   "execution_count": 21,
   "id": "04feedad-3459-4b11-99fe-def245a21b30",
   "metadata": {},
   "outputs": [],
   "source": [
    "df2['is_female'] = (df2['user_title'] == 'Mrs').astype(int)\n",
    "df2['is_male'] = (df2['user_title'] == 'Mr').astype(int)"
   ]
  },
  {
   "cell_type": "markdown",
   "id": "8cf08710-fd0d-4805-a90b-940d4bf18436",
   "metadata": {},
   "source": [
    "**Age of User**"
   ]
  },
  {
   "cell_type": "code",
   "execution_count": 22,
   "id": "2e7e1285-c05d-49f1-a5bb-e64715c6dd38",
   "metadata": {},
   "outputs": [
    {
     "data": {
      "text/plain": [
       "0    47.0\n",
       "1    47.0\n",
       "2    46.0\n",
       "3    46.0\n",
       "4    46.0\n",
       "Name: age, dtype: float64"
      ]
     },
     "execution_count": 22,
     "metadata": {},
     "output_type": "execute_result"
    }
   ],
   "source": [
    "# Define a function to calculate age\n",
    "def calculate_age(dob, order_date):\n",
    "    try:\n",
    "        age = (order_date - dob).days//365\n",
    "        return age\n",
    "    except TypeError:  # Handle NaT values\n",
    "        return None\n",
    "\n",
    "# Lambda function\n",
    "df2['age'] = df.apply(lambda row: calculate_age(row['user_dob'], row['order_date']), axis=1)\n",
    "df2['age'].fillna(-99, inplace=True)\n",
    "df2['age'].head()"
   ]
  },
  {
   "cell_type": "markdown",
   "id": "4e47feb2-c5c3-4c6c-97a5-bb6ab7e1f4df",
   "metadata": {},
   "source": [
    "**Age Groups**\n",
    "\n",
    "It may be more valuable to bin the ages by ranges."
   ]
  },
  {
   "cell_type": "code",
   "execution_count": 23,
   "id": "fa1bddc9-1e35-4732-80e8-36671c2e1663",
   "metadata": {},
   "outputs": [
    {
     "data": {
      "text/plain": [
       "0    46-55\n",
       "1    46-55\n",
       "2    46-55\n",
       "3    46-55\n",
       "4    46-55\n",
       "Name: age_group, dtype: category\n",
       "Categories (7, object): ['Missing' < '21 and Under' < '22-30' < '31-45' < '46-55' < '56-65' < '65 and Above']"
      ]
     },
     "execution_count": 23,
     "metadata": {},
     "output_type": "execute_result"
    }
   ],
   "source": [
    "# Define age bins and labels for the age groups\n",
    "age_bins = [-99, -1, 21, 30, 45, 55, 65, int(df2['age'].max())+1]\n",
    "age_labels = ['Missing', '21 and Under', '22-30', '31-45', '46-55', '56-65', '65 and Above']\n",
    "\n",
    "# Age Group based on age ranges\n",
    "df2['age_group'] = pd.cut(df2['age'], bins=age_bins, labels=age_labels, right=False)\n",
    "df2['age_group'].head()"
   ]
  },
  {
   "cell_type": "code",
   "execution_count": 24,
   "id": "164a8c91-d5db-496f-a3c4-6a0c49b02c8f",
   "metadata": {},
   "outputs": [
    {
     "name": "stdout",
     "output_type": "stream",
     "text": [
      "Missing\n",
      "21 and Under\n",
      "22-30\n",
      "31-45\n",
      "46-55\n",
      "56-65\n",
      "65 and Above\n",
      "{'Missing': 0.4548, '21 and Under': 0.5357, '22-30': 0.3713, '31-45': 0.4988, '46-55': 0.4653, '56-65': 0.4273, '65 and Above': 0.4267}\n"
     ]
    }
   ],
   "source": [
    "# Initialise dict for return=1/count\n",
    "age_dict = dict()\n",
    "\n",
    "for grp in age_labels:\n",
    "    print(grp)\n",
    "    df_grp = df2[df2['age_group'] == grp]\n",
    "    age_dict[grp] = round(len(df_grp[df_grp['return'] == 1])/len(df_grp), 4)\n",
    "\n",
    "print(age_dict)"
   ]
  },
  {
   "cell_type": "markdown",
   "id": "f2f2e95a-db4a-4acc-b6de-1500af78e09c",
   "metadata": {},
   "source": [
    "**Waiting Time for Delivery**\n",
    "\n",
    "For delivery days < 0, fill with median value."
   ]
  },
  {
   "cell_type": "code",
   "execution_count": 25,
   "id": "4ad09ac1-5bcd-4fab-b85d-ccd02fc07c40",
   "metadata": {},
   "outputs": [
    {
     "data": {
      "text/plain": [
       "(99999,)"
      ]
     },
     "execution_count": 25,
     "metadata": {},
     "output_type": "execute_result"
    }
   ],
   "source": [
    "# Define a function to calculate waiting time\n",
    "def calculate_wait(order_date, delivery_date):\n",
    "  wait = (delivery_date - order_date).days\n",
    "\n",
    "  return wait\n",
    "\n",
    "# Lambda function\n",
    "df2['delivery_days'] = df2.apply(lambda row: calculate_wait(row['order_date'], row['delivery_date']), axis=1)\n",
    "\n",
    "# Fill negative 'delivery_days' with median\n",
    "df2.loc[df2['delivery_days'] < 0, 'delivery_days'] = np.NaN\n",
    "df2.loc[df2['delivery_days'].isnull(), 'delivery_days'] = df2.loc[df2['delivery_days'] >= 0, 'delivery_days'].median()\n",
    "df2[df2['delivery_days'] >= 0]['delivery_days'].shape"
   ]
  },
  {
   "cell_type": "markdown",
   "id": "6d70c089-9bdf-49a0-9227-57fdc259dad6",
   "metadata": {},
   "source": [
    "**Number of Items per Order**"
   ]
  },
  {
   "cell_type": "code",
   "execution_count": 26,
   "id": "927afd7f-b5e3-4619-b436-bb2a4bae0bd2",
   "metadata": {},
   "outputs": [
    {
     "data": {
      "text/plain": [
       "0    2\n",
       "1    2\n",
       "2    9\n",
       "3    9\n",
       "4    9\n",
       "Name: no_items, dtype: int64"
      ]
     },
     "execution_count": 26,
     "metadata": {},
     "output_type": "execute_result"
    }
   ],
   "source": [
    "# Append the count of items by 'user_id' and 'order_date' to df\n",
    "df2['no_items'] = df2.groupby(['user_id', 'order_date'])['order_item_id'].transform('count')\n",
    "df2['no_items'].head()"
   ]
  },
  {
   "cell_type": "markdown",
   "id": "ccb0b5c6-a8c3-46d0-9dbd-f3a29bc99b54",
   "metadata": {},
   "source": [
    "**Average Monthly Freq of Purchases**"
   ]
  },
  {
   "cell_type": "code",
   "execution_count": 27,
   "id": "9fccdc5c-81b3-420b-9240-a52ee987c328",
   "metadata": {},
   "outputs": [],
   "source": [
    "# Boxplot by returns function\n",
    "def boxplot_br(df, var, figsize=(8,8)):\n",
    "    fig, ax = plt.subplots(figsize=figsize)\n",
    "\n",
    "    freq_dnr = df[df['return'] == 0][var]\n",
    "    freq_r = df[df['return'] == 1][var]\n",
    "    \n",
    "    ax.boxplot([freq_dnr, freq_r])\n",
    "    \n",
    "    ax.set_xticklabels(['0', '1'])\n",
    "    plt.title(var)\n",
    "    plt.show()"
   ]
  },
  {
   "cell_type": "code",
   "execution_count": 28,
   "id": "ed3363e2-a4ce-453e-ae38-8bfc63bdaa73",
   "metadata": {},
   "outputs": [],
   "source": [
    "# Group by no. of purchases\n",
    "freq_purchases = df2.groupby('user_id')['order_item_id'].transform('count')\n",
    "\n",
    "# Get range of months for data\n",
    "month_to_int = {'January':1,'February':2,'March':3,'April':4,'May':5,'June':6,'July':7,'August':8,'September':9,'October':10,'November':11,'December':12}\n",
    "first_month = df2['order_date'].min().month_name()\n",
    "last_month = df2['order_date'].max().month_name()\n",
    "val = month_to_int[last_month] - month_to_int[first_month]\n",
    "\n",
    "df2['avg_freq_purchases'] = freq_purchases/val"
   ]
  },
  {
   "cell_type": "code",
   "execution_count": 29,
   "id": "308a16db-8099-43de-bd5b-9a219dabd74c",
   "metadata": {},
   "outputs": [
    {
     "data": {
      "image/png": "[encoded data removed]",
      "text/plain": [
       "<Figure size 800x800 with 1 Axes>"
      ]
     },
     "metadata": {},
     "output_type": "display_data"
    }
   ],
   "source": [
    "# Plot distribution\n",
    "boxplot_br(df2, 'avg_freq_purchases')"
   ]
  },
  {
   "cell_type": "markdown",
   "id": "f6813a3b-9546-4c4c-b3c5-992cad4c00d6",
   "metadata": {},
   "source": [
    "**Special Occasion**\n",
    "\n",
    "There could be different returns frequency during birthday, discount or gifting periods."
   ]
  },
  {
   "cell_type": "code",
   "execution_count": 30,
   "id": "c107e31e-641a-424b-8d34-b6979f23c3ce",
   "metadata": {},
   "outputs": [],
   "source": [
    "# Define specific dates for special occasions (2016 only)\n",
    "occ_dates = {\n",
    "    'New Year': pd.Timestamp('2016-01-01'),\n",
    "    'Valentine\\'s Day': pd.Timestamp('2016-02-14'),\n",
    "    'Mother\\'s Day': pd.Timestamp('2016-05-08'),\n",
    "    'Father\\'s Day': pd.Timestamp('2016-06-19'),\n",
    "    'Back to School': pd.Timestamp('2016-09-01'),\n",
    "    'Black Friday': pd.Timestamp('2016-11-25'),\n",
    "    'Cyber Monday': pd.Timestamp('2016-11-28'),\n",
    "    'Christmas': pd.Timestamp('2016-12-25')\n",
    "}"
   ]
  },
  {
   "cell_type": "code",
   "execution_count": 31,
   "id": "25eae74f-593e-497d-9989-0c08077a5ce6",
   "metadata": {},
   "outputs": [],
   "source": [
    "# Function to check if order date falls within specific ranges for special occasions\n",
    "def is_special(order_date):\n",
    "    for occ, occ_date in occ_dates.items():\n",
    "        if occ in ['Black Friday', 'Cyber Monday']:\n",
    "            # Check if order date falls within 2 days before or after the holiday\n",
    "            if (occ_date - pd.Timedelta(days=2)) <= order_date <= (occ_date + pd.Timedelta(days=2)):\n",
    "                return occ\n",
    "        else:\n",
    "            # Check if order date falls within 10 days before the holiday\n",
    "            if (occ_date - pd.Timedelta(days=10)) <= order_date <= occ_date:\n",
    "                return occ\n",
    "    \n",
    "    return None\n",
    "\n",
    "# Create a new column indicating if the order is during a special period\n",
    "df2['is_special'] = df2['order_date'].apply(is_special)"
   ]
  },
  {
   "cell_type": "markdown",
   "id": "a35b367f-508c-41d8-a080-7fae140f39b2",
   "metadata": {},
   "source": [
    "**Close to user's Birthday**"
   ]
  },
  {
   "cell_type": "code",
   "execution_count": 32,
   "id": "d33ef1e1-f5e0-4712-8e5f-05ad5d250ef2",
   "metadata": {},
   "outputs": [],
   "source": [
    "# Orders close to birthday\n",
    "df2['mdorder'] = df2['order_date'].dt.strftime(\"%m%d\").astype(float)\n",
    "df2['mddelivery'] = df2['delivery_date'].dt.strftime(\"%m%d\").astype(float)\n",
    "df2['mdbirthd'] = df2['user_dob'].dt.strftime(\"%m%d\").astype(float)\n",
    "df2['preorders'] = df2['mdbirthd'] - df2['mddelivery']\n",
    "df2['is_bday'] = ((df2['preorders'] < 0) & (df2['preorders'] > -30) | ((df2['mdbirthd'] >= 1215) & (df2['mddelivery'] <= 115))).astype(int)\n",
    "\n",
    "df2.drop(['mdorder', 'mddelivery', 'mdbirthd', 'preorders'], axis=1, inplace=True)"
   ]
  },
  {
   "cell_type": "markdown",
   "id": "98a51d72-1185-4c49-b020-67f4c189c8b6",
   "metadata": {},
   "source": [
    "#### Creating and mapping training features to the entire dataset\n",
    "\n",
    "This is to prevent data leakage/overfitting."
   ]
  },
  {
   "cell_type": "code",
   "execution_count": 33,
   "id": "99b33c47-ed80-4de2-87ba-bc37e12252cf",
   "metadata": {},
   "outputs": [],
   "source": [
    "# Train Test Split\n",
    "from sklearn.model_selection import train_test_split\n",
    "\n",
    "X = df2\n",
    "y = df2['return']\n",
    "\n",
    "X_encode, X_test, y_train, y_test = train_test_split(X, y, test_size=0.2, random_state=42)"
   ]
  },
  {
   "cell_type": "markdown",
   "id": "3f8f82a7-0e60-4d09-a202-578263cb97fc",
   "metadata": {},
   "source": [
    "**Item Sizes with Lower Return Rate**"
   ]
  },
  {
   "cell_type": "code",
   "execution_count": 34,
   "id": "75b080c1-9050-478c-9c76-a907bdbc5023",
   "metadata": {},
   "outputs": [
    {
     "data": {
      "text/plain": [
       "item_size\n",
       "child      0.215130\n",
       "l          0.461464\n",
       "m          0.465788\n",
       "s          0.494512\n",
       "unsized    0.280676\n",
       "xl         0.462456\n",
       "xs         0.500641\n",
       "xxl        0.431702\n",
       "xxxl       0.465794\n",
       "Name: return, dtype: float64"
      ]
     },
     "execution_count": 34,
     "metadata": {},
     "output_type": "execute_result"
    }
   ],
   "source": [
    "item_sum = X_encode.groupby('item_size')['return'].sum()\n",
    "item_count = X_encode.groupby('item_size')['return'].count()\n",
    "item_return = item_sum/item_count\n",
    "\n",
    "item_return"
   ]
  },
  {
   "cell_type": "code",
   "execution_count": 35,
   "id": "72ea23e2-e06c-410b-a40e-93246d88be9e",
   "metadata": {},
   "outputs": [],
   "source": [
    "# Create variable\n",
    "df2['least_returned_size'] = df2['item_id'].isin(['child','unsized']).astype(int)"
   ]
  },
  {
   "cell_type": "markdown",
   "id": "c76580c2-7a4a-496b-ba82-e0839fabcbbb",
   "metadata": {},
   "source": [
    "**Most Returned Items**"
   ]
  },
  {
   "cell_type": "code",
   "execution_count": 36,
   "id": "ac990143-5204-4676-aa09-63ca87b20cfb",
   "metadata": {},
   "outputs": [
    {
     "name": "stdout",
     "output_type": "stream",
     "text": [
      "265\n"
     ]
    }
   ],
   "source": [
    "item_sum = X_encode.groupby('item_id')['return'].sum()\n",
    "item_count = X_encode.groupby('item_id')['return'].count()\n",
    "item_return = item_sum/item_count\n",
    "\n",
    "count = 0\n",
    "item_id_list = []\n",
    "\n",
    "for idx in item_return.index:\n",
    "    if item_return[idx] > 0.5 and item_count[idx] > 40:\n",
    "        item_id_list.append(idx)\n",
    "        count += 1\n",
    "print(count)"
   ]
  },
  {
   "cell_type": "code",
   "execution_count": 37,
   "id": "6bf10758-3f59-4768-8fa4-07a90eb89206",
   "metadata": {},
   "outputs": [],
   "source": [
    "# Create variable\n",
    "df2['most_returned_item'] = df2['item_id'].isin(item_id_list).astype(int)"
   ]
  },
  {
   "cell_type": "markdown",
   "id": "3cd825ab-20d3-435e-b460-228e5bd6451c",
   "metadata": {},
   "source": [
    "**Least Returned Items**"
   ]
  },
  {
   "cell_type": "code",
   "execution_count": 38,
   "id": "31f71650-36a9-426e-95bd-905e2620a9db",
   "metadata": {},
   "outputs": [
    {
     "name": "stdout",
     "output_type": "stream",
     "text": [
      "58\n"
     ]
    }
   ],
   "source": [
    "item_sum = X_encode.groupby('item_id')['return'].sum()\n",
    "item_count = X_encode.groupby('item_id')['return'].count()\n",
    "item_return = item_sum/item_count\n",
    "\n",
    "count = 0\n",
    "item_id_list = []\n",
    "\n",
    "for idx in item_return.index:\n",
    "    if item_return[idx] < 0.25 and item_count[idx] > 40:\n",
    "        item_id_list.append(idx)\n",
    "        count += 1\n",
    "print(count)"
   ]
  },
  {
   "cell_type": "code",
   "execution_count": 39,
   "id": "27c1405d-ea60-40d9-ae22-3d750b59c227",
   "metadata": {},
   "outputs": [],
   "source": [
    "# Create variable\n",
    "df2['least_returned_item'] = df2['item_id'].isin(item_id_list).astype(int)"
   ]
  },
  {
   "cell_type": "markdown",
   "id": "eeb3d165-7c68-4ee9-b97d-591382890013",
   "metadata": {},
   "source": [
    "**Most Returned Colors**"
   ]
  },
  {
   "cell_type": "code",
   "execution_count": 40,
   "id": "fe8bb0b2-4c13-43f4-915b-51bb69987e69",
   "metadata": {},
   "outputs": [
    {
     "name": "stdout",
     "output_type": "stream",
     "text": [
      "12\n"
     ]
    }
   ],
   "source": [
    "item_sum = X_encode.groupby('item_color')['return'].sum()\n",
    "item_count = X_encode.groupby('item_color')['return'].count()\n",
    "item_return = item_sum/item_count\n",
    "\n",
    "count = 0\n",
    "item_id_list = []\n",
    "\n",
    "for idx in item_return.index:\n",
    "    if item_return[idx] > 0.5 and item_count[idx] > 20:\n",
    "        item_id_list.append(idx)\n",
    "        count += 1\n",
    "print(count)"
   ]
  },
  {
   "cell_type": "code",
   "execution_count": 41,
   "id": "ab435778-725f-4c97-8acc-59f38dbaeac4",
   "metadata": {},
   "outputs": [],
   "source": [
    "# Create variable\n",
    "df2['most_returned_color'] = df2['item_color'].isin(item_id_list).astype(int)"
   ]
  },
  {
   "cell_type": "markdown",
   "id": "634ae7ce-0813-409a-b412-4706884f9e3b",
   "metadata": {},
   "source": [
    "**Least Returned Colors**"
   ]
  },
  {
   "cell_type": "code",
   "execution_count": 42,
   "id": "8c102f9d-bdca-424c-b632-e75ed09aac39",
   "metadata": {},
   "outputs": [
    {
     "name": "stdout",
     "output_type": "stream",
     "text": [
      "3\n"
     ]
    }
   ],
   "source": [
    "item_sum = X_encode.groupby('item_color')['return'].sum()\n",
    "item_count = X_encode.groupby('item_color')['return'].count()\n",
    "item_return = item_sum/item_count\n",
    "\n",
    "count = 0\n",
    "item_id_list = []\n",
    "\n",
    "for idx in item_return.index:\n",
    "    if item_return[idx] < 0.2 and item_count[idx] > 20:\n",
    "        item_id_list.append(idx)\n",
    "        count += 1\n",
    "print(count)"
   ]
  },
  {
   "cell_type": "code",
   "execution_count": 43,
   "id": "06648b2c-b650-4fb8-ba85-e2fef765731a",
   "metadata": {},
   "outputs": [],
   "source": [
    "# Create variable\n",
    "df2['least_returned_color'] = df2['item_color'].isin(item_id_list).astype(int)"
   ]
  },
  {
   "cell_type": "markdown",
   "id": "5e5256dc-9ddd-4471-8180-25fa014ef28f",
   "metadata": {},
   "source": [
    "### Data Transformation and Standardising"
   ]
  },
  {
   "cell_type": "markdown",
   "id": "3b8b3ec6-2eee-43e9-a01d-fae15b8fd6da",
   "metadata": {},
   "source": [
    "**Log Transformation**"
   ]
  },
  {
   "cell_type": "code",
   "execution_count": 44,
   "id": "b5d5bc47-4dd5-43dd-8a4e-19678acec3f4",
   "metadata": {},
   "outputs": [
    {
     "name": "stdout",
     "output_type": "stream",
     "text": [
      "(99999, 29)\n"
     ]
    }
   ],
   "source": [
    "df3 = df2.copy()\n",
    "print(df3.shape)\n",
    "num_col =['item_price', 'no_items', 'delivery_days', 'age', 'avg_freq_purchases']"
   ]
  },
  {
   "cell_type": "code",
   "execution_count": 45,
   "id": "284e2cfd-a7cb-4efe-8187-09dbe3d10b18",
   "metadata": {},
   "outputs": [
    {
     "name": "stdout",
     "output_type": "stream",
     "text": [
      "item_price            1.980993\n",
      "no_items              2.821200\n",
      "delivery_days         4.022536\n",
      "age                  -2.575843\n",
      "avg_freq_purchases    4.500025\n",
      "dtype: float64\n"
     ]
    },
    {
     "data": {
      "image/png": "[encoded data removed]",
      "text/plain": [
       "<Figure size 800x600 with 6 Axes>"
      ]
     },
     "metadata": {},
     "output_type": "display_data"
    }
   ],
   "source": [
    "# Check for Skewness\n",
    "print(df3[num_col].skew())\n",
    "df3[num_col].hist(bins=40, figsize=(8,6))\n",
    "plt.tight_layout()\n",
    "plt.show()"
   ]
  },
  {
   "cell_type": "code",
   "execution_count": 46,
   "id": "5cea7365-34e6-4e4d-b7de-41c730112847",
   "metadata": {},
   "outputs": [
    {
     "name": "stdout",
     "output_type": "stream",
     "text": [
      "log_item_price            0.067159\n",
      "log_no_items             -0.059183\n",
      "log_delivery_days         0.433625\n",
      "log_age                  -0.197428\n",
      "log_avg_freq_purchases    0.049956\n",
      "dtype: float64\n"
     ]
    },
    {
     "name": "stderr",
     "output_type": "stream",
     "text": [
      "/Users/xaviersan/miniconda3/envs/dmba/lib/python3.11/site-packages/pandas/core/arraylike.py:396: RuntimeWarning: invalid value encountered in log\n",
      "  result = getattr(ufunc, method)(*inputs, **kwargs)\n"
     ]
    }
   ],
   "source": [
    "# Apply Log Transformation\n",
    "log_num_col = ['log_' + var for var in num_col]\n",
    "\n",
    "for var in num_col:\n",
    "    if var == 'item_price':\n",
    "        df3['log_'+var] = np.log(df3[var]+10) # Account for item price = 0\n",
    "\n",
    "    elif var == 'delivery_days':\n",
    "        df3['log_'+var] = np.log(df3[var]+0.01) # Account for delivery days = 0\n",
    "\n",
    "    else:\n",
    "        df3['log_'+var] = np.log(df3[var])\n",
    "    \n",
    "print(df3[log_num_col].skew())\n",
    "df3['log_age'].fillna(-99, inplace=True)"
   ]
  },
  {
   "cell_type": "markdown",
   "id": "9b9bf106-87cb-43d5-81fa-daaa45e8fbff",
   "metadata": {},
   "source": [
    "Note that missing age values weren't dropped, hence the warning."
   ]
  },
  {
   "cell_type": "code",
   "execution_count": 62,
   "id": "1452491f-8958-4b71-baab-eed117b05724",
   "metadata": {},
   "outputs": [
    {
     "data": {
      "image/png": "[encoded data removed]",
      "text/plain": [
       "<Figure size 2400x2400 with 10 Axes>"
      ]
     },
     "metadata": {},
     "output_type": "display_data"
    }
   ],
   "source": [
    "# Plot change in distribution of numeric variables\n",
    "fig, (axes1, axes2, axes3, axes4, axes5) = plt.subplots(5, 2, figsize=(24,24))\n",
    "\n",
    "df3.hist('item_price', ax=axes1[0], bins=15)\n",
    "df3.hist('log_item_price', ax=axes1[1], bins=15)\n",
    "df3.hist('no_items', ax=axes2[0], bins=10)\n",
    "df3.hist('log_no_items', ax=axes2[1], bins=10)\n",
    "df3.hist('delivery_days', ax=axes3[0], bins=15)\n",
    "df3.hist('log_delivery_days', ax=axes3[1], bins=15)\n",
    "df3.hist('age', ax=axes4[0], bins=20)\n",
    "df3.hist('log_age', ax=axes4[1], bins=20)\n",
    "df3.hist('avg_freq_purchases', ax=axes5[0], bins=20)\n",
    "df3.hist('log_avg_freq_purchases', ax=axes5[1], bins=20)\n",
    "\n",
    "fig.suptitle('Before/After Log-Transformation of Numeric Variables', fontsize=20)\n",
    "plt.tight_layout(pad=2, h_pad=3)\n",
    "plt.show()"
   ]
  },
  {
   "cell_type": "markdown",
   "id": "f18566eb-e554-4e4c-946f-21cf35a7e001",
   "metadata": {},
   "source": [
    "**Normalisation**"
   ]
  },
  {
   "cell_type": "code",
   "execution_count": 48,
   "id": "768bcddb-dd1e-49c9-a106-f194ecda9d53",
   "metadata": {},
   "outputs": [],
   "source": [
    "# Import scaler package\n",
    "from sklearn.preprocessing import StandardScaler\n",
    "\n",
    "# Keep log variables\n",
    "df_log_num = df3[log_num_col]\n",
    "\n",
    "# Perform standardisation\n",
    "scaler = StandardScaler()\n",
    "scaler.fit(df_log_num)\n",
    "log_num_scaled = scaler.transform(df_log_num)"
   ]
  },
  {
   "cell_type": "code",
   "execution_count": 49,
   "id": "5a88a32c-664d-4fa9-8dc8-7e57062cbc11",
   "metadata": {},
   "outputs": [
    {
     "data": {
      "text/html": [
       "<div>\n",
       "<style scoped>\n",
       "    .dataframe tbody tr th:only-of-type {\n",
       "        vertical-align: middle;\n",
       "    }\n",
       "\n",
       "    .dataframe tbody tr th {\n",
       "        vertical-align: top;\n",
       "    }\n",
       "\n",
       "    .dataframe thead th {\n",
       "        text-align: right;\n",
       "    }\n",
       "</style>\n",
       "<table border=\"1\" class=\"dataframe\">\n",
       "  <thead>\n",
       "    <tr style=\"text-align: right;\">\n",
       "      <th></th>\n",
       "      <th>log_item_price</th>\n",
       "      <th>log_no_items</th>\n",
       "      <th>log_delivery_days</th>\n",
       "      <th>log_age</th>\n",
       "      <th>log_avg_freq_purchases</th>\n",
       "    </tr>\n",
       "  </thead>\n",
       "  <tbody>\n",
       "    <tr>\n",
       "      <th>count</th>\n",
       "      <td>9.999900e+04</td>\n",
       "      <td>9.999900e+04</td>\n",
       "      <td>9.999900e+04</td>\n",
       "      <td>9.999900e+04</td>\n",
       "      <td>9.999900e+04</td>\n",
       "    </tr>\n",
       "    <tr>\n",
       "      <th>mean</th>\n",
       "      <td>9.890854e-17</td>\n",
       "      <td>2.651772e-16</td>\n",
       "      <td>2.063437e-16</td>\n",
       "      <td>1.762164e-17</td>\n",
       "      <td>-1.341518e-16</td>\n",
       "    </tr>\n",
       "    <tr>\n",
       "      <th>std</th>\n",
       "      <td>1.000005e+00</td>\n",
       "      <td>1.000005e+00</td>\n",
       "      <td>1.000005e+00</td>\n",
       "      <td>1.000005e+00</td>\n",
       "      <td>1.000005e+00</td>\n",
       "    </tr>\n",
       "    <tr>\n",
       "      <th>min</th>\n",
       "      <td>-3.148184e+00</td>\n",
       "      <td>-1.947552e+00</td>\n",
       "      <td>-5.577494e+00</td>\n",
       "      <td>-3.234306e+00</td>\n",
       "      <td>-2.237208e+00</td>\n",
       "    </tr>\n",
       "    <tr>\n",
       "      <th>25%</th>\n",
       "      <td>-7.842762e-01</td>\n",
       "      <td>-5.874228e-01</td>\n",
       "      <td>-5.129212e-01</td>\n",
       "      <td>3.042422e-01</td>\n",
       "      <td>-7.373692e-01</td>\n",
       "    </tr>\n",
       "    <tr>\n",
       "      <th>50%</th>\n",
       "      <td>-9.020021e-02</td>\n",
       "      <td>4.500116e-02</td>\n",
       "      <td>-1.272934e-01</td>\n",
       "      <td>3.086431e-01</td>\n",
       "      <td>1.255006e-02</td>\n",
       "    </tr>\n",
       "    <tr>\n",
       "      <th>75%</th>\n",
       "      <td>6.033996e-01</td>\n",
       "      <td>6.268857e-01</td>\n",
       "      <td>1.466449e-01</td>\n",
       "      <td>3.125446e-01</td>\n",
       "      <td>6.926447e-01</td>\n",
       "    </tr>\n",
       "    <tr>\n",
       "      <th>max</th>\n",
       "      <td>4.734059e+00</td>\n",
       "      <td>3.121422e+00</td>\n",
       "      <td>3.741739e+00</td>\n",
       "      <td>3.373176e-01</td>\n",
       "      <td>3.350599e+00</td>\n",
       "    </tr>\n",
       "  </tbody>\n",
       "</table>\n",
       "</div>"
      ],
      "text/plain": [
       "       log_item_price  log_no_items  log_delivery_days       log_age  \\\n",
       "count    9.999900e+04  9.999900e+04       9.999900e+04  9.999900e+04   \n",
       "mean     9.890854e-17  2.651772e-16       2.063437e-16  1.762164e-17   \n",
       "std      1.000005e+00  1.000005e+00       1.000005e+00  1.000005e+00   \n",
       "min     -3.148184e+00 -1.947552e+00      -5.577494e+00 -3.234306e+00   \n",
       "25%     -7.842762e-01 -5.874228e-01      -5.129212e-01  3.042422e-01   \n",
       "50%     -9.020021e-02  4.500116e-02      -1.272934e-01  3.086431e-01   \n",
       "75%      6.033996e-01  6.268857e-01       1.466449e-01  3.125446e-01   \n",
       "max      4.734059e+00  3.121422e+00       3.741739e+00  3.373176e-01   \n",
       "\n",
       "       log_avg_freq_purchases  \n",
       "count            9.999900e+04  \n",
       "mean            -1.341518e-16  \n",
       "std              1.000005e+00  \n",
       "min             -2.237208e+00  \n",
       "25%             -7.373692e-01  \n",
       "50%              1.255006e-02  \n",
       "75%              6.926447e-01  \n",
       "max              3.350599e+00  "
      ]
     },
     "execution_count": 49,
     "metadata": {},
     "output_type": "execute_result"
    }
   ],
   "source": [
    "# Convert to dataframe\n",
    "df_log_num_scaled = pd.DataFrame(log_num_scaled, columns=log_num_col)\n",
    "df_log_num_scaled.describe()"
   ]
  },
  {
   "cell_type": "code",
   "execution_count": 50,
   "id": "b0cdfbc0-bafa-486a-8562-5ca839a97728",
   "metadata": {},
   "outputs": [
    {
     "data": {
      "text/plain": [
       "(99999, 29)"
      ]
     },
     "execution_count": 50,
     "metadata": {},
     "output_type": "execute_result"
    }
   ],
   "source": [
    "# Combine normalised variables with categorical variables\n",
    "df4 = pd.concat([df3.drop(log_num_col+num_col, axis=1).reset_index(drop=True), df_log_num_scaled], axis=1)\n",
    "df4.shape"
   ]
  },
  {
   "cell_type": "markdown",
   "id": "3e8a9fd8-979d-420b-981b-0c0c489f42f6",
   "metadata": {},
   "source": [
    "### Exploratory Data Analysis"
   ]
  },
  {
   "cell_type": "markdown",
   "id": "05fec5b3-45aa-4f1e-b859-9d3eabef0f04",
   "metadata": {},
   "source": [
    "**Numerical Heatmap**"
   ]
  },
  {
   "cell_type": "code",
   "execution_count": 51,
   "id": "bfe0d922-3fb8-4f36-a825-60ebf5162aec",
   "metadata": {},
   "outputs": [
    {
     "data": {
      "image/png": "[encoded data removed]",
      "text/plain": [
       "<Figure size 1200x1200 with 2 Axes>"
      ]
     },
     "metadata": {},
     "output_type": "display_data"
    }
   ],
   "source": [
    "df_corr = df4[['return'] + log_num_col].corr()\n",
    "\n",
    "plt.figure(figsize=(12, 12))\n",
    "\n",
    "sns.heatmap(round(df_corr,2), annot=True, fmt='g', cmap=\"Blues\")\n",
    "plt.show()"
   ]
  },
  {
   "cell_type": "markdown",
   "id": "ee275284-1e2e-4d1b-b077-748d5942d40a",
   "metadata": {},
   "source": [
    "**Boxplot by Return**\n",
    "\n",
    "Compare most correlated with least correlated variable (log item price vs log delivery days)"
   ]
  },
  {
   "cell_type": "code",
   "execution_count": 52,
   "id": "1477fedc-ad7f-41bc-9e6a-95556ee37dfb",
   "metadata": {},
   "outputs": [
    {
     "data": {
      "image/png": "[encoded data removed]",
      "text/plain": [
       "<Figure size 800x800 with 1 Axes>"
      ]
     },
     "metadata": {},
     "output_type": "display_data"
    }
   ],
   "source": [
    "boxplot_br(df4, 'log_item_price')"
   ]
  },
  {
   "cell_type": "code",
   "execution_count": 53,
   "id": "3a005d91-3c9c-4498-b1d4-9a8ce002e60d",
   "metadata": {},
   "outputs": [
    {
     "data": {
      "image/png": "[encoded data removed]",
      "text/plain": [
       "<Figure size 800x800 with 1 Axes>"
      ]
     },
     "metadata": {},
     "output_type": "display_data"
    }
   ],
   "source": [
    "boxplot_br(df4, 'log_delivery_days')"
   ]
  },
  {
   "cell_type": "markdown",
   "id": "f2e05d6d-fc8c-4b0e-bd29-0fbe2c8f7d9d",
   "metadata": {},
   "source": [
    "**Check for Homogenous Variables**"
   ]
  },
  {
   "cell_type": "code",
   "execution_count": 54,
   "id": "ede5e3ce-50e6-4786-b1ac-62c0d805cb29",
   "metadata": {},
   "outputs": [
    {
     "data": {
      "text/plain": [
       "['user_title',\n",
       " 'no_delivery',\n",
       " 'is_female',\n",
       " 'is_male',\n",
       " 'is_special',\n",
       " 'is_bday',\n",
       " 'least_returned_size',\n",
       " 'least_returned_item',\n",
       " 'most_returned_color',\n",
       " 'least_returned_color']"
      ]
     },
     "execution_count": 54,
     "metadata": {},
     "output_type": "execute_result"
    }
   ],
   "source": [
    "homog_cols = []\n",
    "for col in df4.columns:\n",
    "    value_counts = df4[col].value_counts(normalize=True)\n",
    "    if value_counts.max() >= 0.9:\n",
    "        homog_cols.append(col)\n",
    "\n",
    "homog_cols"
   ]
  },
  {
   "cell_type": "markdown",
   "id": "0c96fe72-595c-4794-a49e-4c59eac0d6ce",
   "metadata": {},
   "source": [
    "Good to know, but may not necessarily drop."
   ]
  },
  {
   "cell_type": "markdown",
   "id": "7859154d-2c32-4ea9-a389-4ddff2c66e59",
   "metadata": {},
   "source": [
    "**Check significance of Categorical Variables**"
   ]
  },
  {
   "cell_type": "code",
   "execution_count": 55,
   "id": "04fff19b-a54b-4a75-97aa-4dd1f4af9787",
   "metadata": {},
   "outputs": [
    {
     "name": "stdout",
     "output_type": "stream",
     "text": [
      "Variables Correlated with Return: ['order_date', 'delivery_date', 'item_id', 'item_size', 'item_color', 'brand_id', 'user_id', 'user_title', 'user_dob', 'user_state', 'user_reg_date', 'no_delivery', 'is_female', 'is_male', 'age_group', 'is_bday', 'most_returned_item', 'least_returned_item', 'most_returned_color', 'least_returned_color']\n",
      "\n",
      "Variables Not Correlated with Return: ['order_item_id', 'is_special', 'least_returned_size']\n"
     ]
    }
   ],
   "source": [
    "from scipy.stats import chi2_contingency\n",
    "\n",
    "# Initialise variables\n",
    "corr = []\n",
    "not_corr = []\n",
    "cat_var = df4.drop(log_num_col, axis=1)\n",
    "col_list = list(cat_var.columns)\n",
    "col_list.remove('return')\n",
    "\n",
    "for col in col_list:\n",
    "    crosstab = pd.crosstab(index=cat_var['return'],columns=cat_var[col])\n",
    "\n",
    "    # Perform Chi-sq test\n",
    "    result = chi2_contingency(crosstab)\n",
    "\n",
    "    # Correlated\n",
    "    if result[1] <= 0.01:\n",
    "        corr.append(col)\n",
    "    else:\n",
    "        not_corr.append(col)\n",
    "\n",
    "# Print results\n",
    "print('Variables Correlated with Return:', corr)\n",
    "print()\n",
    "print('Variables Not Correlated with Return:', not_corr)"
   ]
  },
  {
   "cell_type": "markdown",
   "id": "0defb0e5-db7f-4e02-a8ed-341a1cc14b4d",
   "metadata": {},
   "source": [
    "### Prepare Output for Modelling"
   ]
  },
  {
   "cell_type": "code",
   "execution_count": 109,
   "id": "a3eefead-258e-4a0f-9629-284bc37dfc92",
   "metadata": {},
   "outputs": [],
   "source": [
    "df5 = df4.copy()"
   ]
  },
  {
   "cell_type": "markdown",
   "id": "19434258-a745-4bbc-8b8b-4e1c1e7b3f03",
   "metadata": {},
   "source": [
    "**Drop Numerical Variables**"
   ]
  },
  {
   "cell_type": "code",
   "execution_count": 110,
   "id": "d512fe1c-5515-4eef-acf6-ef318fca86ec",
   "metadata": {},
   "outputs": [
    {
     "data": {
      "text/plain": [
       "(99999, 28)"
      ]
     },
     "execution_count": 110,
     "metadata": {},
     "output_type": "execute_result"
    }
   ],
   "source": [
    "num_drop = ['log_delivery_days']\n",
    "df5.drop(num_drop, axis=1, inplace=True)\n",
    "df5.shape"
   ]
  },
  {
   "cell_type": "markdown",
   "id": "179de8e9-5916-4802-b7dd-d5877fe8fc5f",
   "metadata": {},
   "source": [
    "**Drop Categorical Variables**\n",
    "\n",
    "Besides the insignificant variables, we drop variables that have been engineered in some way."
   ]
  },
  {
   "cell_type": "code",
   "execution_count": 111,
   "id": "a40dd590-efee-4077-b2c5-9d1e2dcf84ed",
   "metadata": {},
   "outputs": [
    {
     "data": {
      "text/plain": [
       "(99999, 17)"
      ]
     },
     "execution_count": 111,
     "metadata": {},
     "output_type": "execute_result"
    }
   ],
   "source": [
    "cat_drop = ['item_id', 'item_color', 'user_title', 'order_item_id', 'order_date', 'delivery_date', \n",
    "            'user_dob', 'user_reg_date', 'age_group', 'is_special', 'least_returned_size']\n",
    "df5.drop(cat_drop, axis=1, inplace=True)\n",
    "df5.shape"
   ]
  },
  {
   "cell_type": "markdown",
   "id": "37b93095-14fa-4ad4-9dcd-57f10c2e23ae",
   "metadata": {},
   "source": [
    "**Encode Categorical Variables**\n",
    "\n",
    "One-Hot Encoding"
   ]
  },
  {
   "cell_type": "code",
   "execution_count": 112,
   "id": "f141c8d6-c7c9-4ab8-8ae1-91b891a1de2d",
   "metadata": {},
   "outputs": [
    {
     "data": {
      "text/plain": [
       "(99999, 40)"
      ]
     },
     "execution_count": 112,
     "metadata": {},
     "output_type": "execute_result"
    }
   ],
   "source": [
    "df5 = pd.get_dummies(df5, columns=['user_state', 'item_size'])\n",
    "df5.shape"
   ]
  },
  {
   "cell_type": "markdown",
   "id": "af2b1c4e-7f10-4c14-ab54-0b79c2884c1b",
   "metadata": {},
   "source": [
    "Target Encoding\n",
    "\n",
    "Use X_encode values to prevent overfitting."
   ]
  },
  {
   "cell_type": "code",
   "execution_count": 113,
   "id": "21c976df-b21c-4fbd-b6ff-420908a30f70",
   "metadata": {},
   "outputs": [],
   "source": [
    "# Create copy for fully train-encoded dataframe\n",
    "df6 = df5.copy()"
   ]
  },
  {
   "cell_type": "code",
   "execution_count": 114,
   "id": "5cf73f0e-f811-49bf-86e7-75be77b5ebdd",
   "metadata": {},
   "outputs": [],
   "source": [
    "# Calculate average return rate for each user ID\n",
    "user_return_rates = X_encode.groupby('user_id')['return'].mean()\n",
    "\n",
    "# Calculate average return rate for each brand ID\n",
    "brand_return_rates = X_encode.groupby('brand_id')['return'].mean()\n",
    "\n",
    "# Map user ID and brand ID to their corresponding return rates\n",
    "df6['user_return_rate'] = df6['user_id'].map(user_return_rates)\n",
    "df6['brand_return_rate'] = df6['brand_id'].map(brand_return_rates)\n",
    "\n",
    "# Fill missing values with 0.5 (new users in test data)\n",
    "df6['user_return_rate'].fillna(0.5, inplace=True)\n",
    "df6['brand_return_rate'].fillna(0.5, inplace=True)\n",
    "\n",
    "df6.drop(['user_id','brand_id'], axis=1, inplace=True)"
   ]
  },
  {
   "cell_type": "code",
   "execution_count": 115,
   "id": "dd13c8b0-e6ab-4f8e-b231-34bd04c6ba7a",
   "metadata": {},
   "outputs": [
    {
     "data": {
      "image/png": "[encoded data removed]",
      "text/plain": [
       "<Figure size 600x400 with 2 Axes>"
      ]
     },
     "metadata": {},
     "output_type": "display_data"
    }
   ],
   "source": [
    "df_corr = df6[['return'] + ['user_return_rate','brand_return_rate']].corr()\n",
    "\n",
    "plt.figure(figsize=(6, 4))\n",
    "\n",
    "sns.heatmap(round(df_corr,2), annot=True, fmt='g', cmap=\"Blues\")\n",
    "plt.show()"
   ]
  },
  {
   "cell_type": "markdown",
   "id": "70cd5061-ffd6-4d47-831e-4ecdae167934",
   "metadata": {},
   "source": [
    "We observe a stronger correlation between the user return rate and the occurence of an actual return, compared to the other numerical variables we compared to earlier on."
   ]
  },
  {
   "cell_type": "markdown",
   "id": "687c2cfa-570a-4f92-a25f-52946932ca25",
   "metadata": {},
   "source": [
    "**Test Baseline (Decision Tree)**\n",
    "\n",
    "Criteria:\n",
    "- Easy to run\n",
    "- Simple structure/architecture\n",
    "- Interpretable (i.e. we must know why it gives particular results)\n",
    "- Relatively fast\n",
    "- Gives relatively good performance"
   ]
  },
  {
   "cell_type": "code",
   "execution_count": 116,
   "id": "0e40025a-a43f-468e-a8c2-990e1886cc4c",
   "metadata": {},
   "outputs": [],
   "source": [
    "# Train Test Split\n",
    "from sklearn.model_selection import train_test_split\n",
    "\n",
    "X = df6.drop('return', axis=1)\n",
    "y = df6['return']\n",
    "\n",
    "X_train, X_test, y_train, y_test = train_test_split(X, y, test_size=0.2, random_state=42)"
   ]
  },
  {
   "cell_type": "code",
   "execution_count": 117,
   "id": "d7c62581-b92e-4322-afc0-1e5f49420d46",
   "metadata": {},
   "outputs": [
    {
     "name": "stdout",
     "output_type": "stream",
     "text": [
      "Accuracy: 0.6604691268928204\n",
      "Precision: 0.627983358878914\n",
      "Recall: 0.6319964742177171\n"
     ]
    }
   ],
   "source": [
    "# Decision Tree\n",
    "from sklearn.tree import DecisionTreeClassifier\n",
    "from sklearn.metrics import balanced_accuracy_score, precision_score, recall_score\n",
    "\n",
    "classifier = DecisionTreeClassifier(criterion='entropy', random_state=1, max_features='sqrt')\n",
    "classifier.fit(X_train, y_train)\n",
    " \n",
    "# Making predictions on the same data\n",
    "y_pred = classifier.predict(X_test)\n",
    " \n",
    "# Evaluating the model\n",
    "accuracy = balanced_accuracy_score(y_test, y_pred)\n",
    "precision = precision_score(y_test, y_pred)\n",
    "recall = recall_score(y_test, y_pred)\n",
    "\n",
    "print(f'Accuracy: {accuracy}')\n",
    "print(f'Precision: {precision}')\n",
    "print(f'Recall: {recall}')"
   ]
  },
  {
   "cell_type": "markdown",
   "id": "05ab442c-931b-43c4-90d4-7b7a982a092e",
   "metadata": {},
   "source": [
    "This is the benchmark that we will aim to beat."
   ]
  },
  {
   "cell_type": "markdown",
   "id": "20fa9c4e-3b01-441d-8ad1-ab95d9e7b491",
   "metadata": {},
   "source": [
    "**Export as .csv**"
   ]
  },
  {
   "cell_type": "code",
   "execution_count": 118,
   "id": "d554f7d6-9161-42d7-aee7-010db858cd97",
   "metadata": {},
   "outputs": [],
   "source": [
    "# Convert Boolean to 0/1 for DNN\n",
    "df5 = df5*1\n",
    "df6 = df6*1"
   ]
  },
  {
   "cell_type": "code",
   "execution_count": 119,
   "id": "884bba6c-e6af-4bd5-9079-54c70b5a2dc1",
   "metadata": {},
   "outputs": [],
   "source": [
    "# For hyperparameter tuning\n",
    "df5.to_csv('Data/cv_processed_df.csv', index=False)\n",
    "\n",
    "# For model evaluation\n",
    "df6.to_csv('Data/processed_df.csv', index=False)"
   ]
  },
  {
   "cell_type": "code",
   "execution_count": null,
   "id": "54c6c623-5e89-4be8-8dbf-3d1e56cc8986",
   "metadata": {},
   "outputs": [],
   "source": []
  }
 ],
 "metadata": {
  "kernelspec": {
   "display_name": "Python 3 (ipykernel)",
   "language": "python",
   "name": "python3"
  },
  "language_info": {
   "codemirror_mode": {
    "name": "ipython",
    "version": 3
   },
   "file_extension": ".py",
   "mimetype": "text/x-python",
   "name": "python",
   "nbconvert_exporter": "python",
   "pygments_lexer": "ipython3",
   "version": "3.11.9"
  }
 },
 "nbformat": 4,
 "nbformat_minor": 5
}
